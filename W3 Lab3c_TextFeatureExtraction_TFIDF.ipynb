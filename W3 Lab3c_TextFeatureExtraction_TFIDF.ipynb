{
  "nbformat": 4,
  "nbformat_minor": 0,
  "metadata": {
    "kernelspec": {
      "display_name": "Python 3",
      "language": "python",
      "name": "python3"
    },
    "language_info": {
      "codemirror_mode": {
        "name": "ipython",
        "version": 3
      },
      "file_extension": ".py",
      "mimetype": "text/x-python",
      "name": "python",
      "nbconvert_exporter": "python",
      "pygments_lexer": "ipython3",
      "version": "3.7.4"
    },
    "colab": {
      "provenance": []
    }
  },
  "cells": [
    {
      "cell_type": "markdown",
      "metadata": {
        "id": "oJj8vF5vHGgP"
      },
      "source": [
        " *Artificial Intelligence for Vision & NLP* &nbsp; | &nbsp;  *ATU Donegal - MSc/PGDip in Big Data Analytics & Artificial Intelligence*\n",
        " \n",
        "# Text Feature Extraction using TF-IDF\n",
        "\n",
        "In this notebook we'll explore using Sklearn for Term Frequency-Inverse Document Frequency in a dataset containing spam and non-spam messages. We'll create a train and test set, then build a neural network model and use TF-IDF methods to improve the model accuracy.\n",
        "\n"
      ]
    },
    {
      "cell_type": "markdown",
      "metadata": {
        "id": "c7K-FEMWHGgU"
      },
      "source": [
        "## Data Preparation"
      ]
    },
    {
      "cell_type": "code",
      "metadata": {
        "id": "NOKBCJndHGgV"
      },
      "source": [
        "import numpy as np\n",
        "import pandas as pd\n",
        "import io"
      ],
      "execution_count": null,
      "outputs": []
    },
    {
      "cell_type": "code",
      "metadata": {
        "id": "PSDJGoS6HGgV",
        "colab": {
          "base_uri": "https://localhost:8080/",
          "height": 73
        },
        "outputId": "71bb3903-0e7b-46e9-9b97-c774baef8773"
      },
      "source": [
        "# Read tsv file into a dataframe object\n",
        "# Press tab to check you are in the correct folder location and to browse\n",
        "# to the tsv file\n",
        "# The sep command indicates this files is separated by tabs\n",
        "from google.colab import files\n",
        "uploaded = files.upload()\n",
        "#dataframe = pd.read_csv(io.BytesIO(uploaded['SMSSpamCollection.tsv']), sep=\"\\t\")\n",
        "dataframe = pd.read_csv('SMSSpamCollection.tsv', sep=\"\\t\")"
      ],
      "execution_count": 6,
      "outputs": [
        {
          "output_type": "display_data",
          "data": {
            "text/plain": [
              "<IPython.core.display.HTML object>"
            ],
            "text/html": [
              "\n",
              "     <input type=\"file\" id=\"files-a62535e8-13f7-4922-8dc6-e837086e6556\" name=\"files[]\" multiple disabled\n",
              "        style=\"border:none\" />\n",
              "     <output id=\"result-a62535e8-13f7-4922-8dc6-e837086e6556\">\n",
              "      Upload widget is only available when the cell has been executed in the\n",
              "      current browser session. Please rerun this cell to enable.\n",
              "      </output>\n",
              "      <script>// Copyright 2017 Google LLC\n",
              "//\n",
              "// Licensed under the Apache License, Version 2.0 (the \"License\");\n",
              "// you may not use this file except in compliance with the License.\n",
              "// You may obtain a copy of the License at\n",
              "//\n",
              "//      http://www.apache.org/licenses/LICENSE-2.0\n",
              "//\n",
              "// Unless required by applicable law or agreed to in writing, software\n",
              "// distributed under the License is distributed on an \"AS IS\" BASIS,\n",
              "// WITHOUT WARRANTIES OR CONDITIONS OF ANY KIND, either express or implied.\n",
              "// See the License for the specific language governing permissions and\n",
              "// limitations under the License.\n",
              "\n",
              "/**\n",
              " * @fileoverview Helpers for google.colab Python module.\n",
              " */\n",
              "(function(scope) {\n",
              "function span(text, styleAttributes = {}) {\n",
              "  const element = document.createElement('span');\n",
              "  element.textContent = text;\n",
              "  for (const key of Object.keys(styleAttributes)) {\n",
              "    element.style[key] = styleAttributes[key];\n",
              "  }\n",
              "  return element;\n",
              "}\n",
              "\n",
              "// Max number of bytes which will be uploaded at a time.\n",
              "const MAX_PAYLOAD_SIZE = 100 * 1024;\n",
              "\n",
              "function _uploadFiles(inputId, outputId) {\n",
              "  const steps = uploadFilesStep(inputId, outputId);\n",
              "  const outputElement = document.getElementById(outputId);\n",
              "  // Cache steps on the outputElement to make it available for the next call\n",
              "  // to uploadFilesContinue from Python.\n",
              "  outputElement.steps = steps;\n",
              "\n",
              "  return _uploadFilesContinue(outputId);\n",
              "}\n",
              "\n",
              "// This is roughly an async generator (not supported in the browser yet),\n",
              "// where there are multiple asynchronous steps and the Python side is going\n",
              "// to poll for completion of each step.\n",
              "// This uses a Promise to block the python side on completion of each step,\n",
              "// then passes the result of the previous step as the input to the next step.\n",
              "function _uploadFilesContinue(outputId) {\n",
              "  const outputElement = document.getElementById(outputId);\n",
              "  const steps = outputElement.steps;\n",
              "\n",
              "  const next = steps.next(outputElement.lastPromiseValue);\n",
              "  return Promise.resolve(next.value.promise).then((value) => {\n",
              "    // Cache the last promise value to make it available to the next\n",
              "    // step of the generator.\n",
              "    outputElement.lastPromiseValue = value;\n",
              "    return next.value.response;\n",
              "  });\n",
              "}\n",
              "\n",
              "/**\n",
              " * Generator function which is called between each async step of the upload\n",
              " * process.\n",
              " * @param {string} inputId Element ID of the input file picker element.\n",
              " * @param {string} outputId Element ID of the output display.\n",
              " * @return {!Iterable<!Object>} Iterable of next steps.\n",
              " */\n",
              "function* uploadFilesStep(inputId, outputId) {\n",
              "  const inputElement = document.getElementById(inputId);\n",
              "  inputElement.disabled = false;\n",
              "\n",
              "  const outputElement = document.getElementById(outputId);\n",
              "  outputElement.innerHTML = '';\n",
              "\n",
              "  const pickedPromise = new Promise((resolve) => {\n",
              "    inputElement.addEventListener('change', (e) => {\n",
              "      resolve(e.target.files);\n",
              "    });\n",
              "  });\n",
              "\n",
              "  const cancel = document.createElement('button');\n",
              "  inputElement.parentElement.appendChild(cancel);\n",
              "  cancel.textContent = 'Cancel upload';\n",
              "  const cancelPromise = new Promise((resolve) => {\n",
              "    cancel.onclick = () => {\n",
              "      resolve(null);\n",
              "    };\n",
              "  });\n",
              "\n",
              "  // Wait for the user to pick the files.\n",
              "  const files = yield {\n",
              "    promise: Promise.race([pickedPromise, cancelPromise]),\n",
              "    response: {\n",
              "      action: 'starting',\n",
              "    }\n",
              "  };\n",
              "\n",
              "  cancel.remove();\n",
              "\n",
              "  // Disable the input element since further picks are not allowed.\n",
              "  inputElement.disabled = true;\n",
              "\n",
              "  if (!files) {\n",
              "    return {\n",
              "      response: {\n",
              "        action: 'complete',\n",
              "      }\n",
              "    };\n",
              "  }\n",
              "\n",
              "  for (const file of files) {\n",
              "    const li = document.createElement('li');\n",
              "    li.append(span(file.name, {fontWeight: 'bold'}));\n",
              "    li.append(span(\n",
              "        `(${file.type || 'n/a'}) - ${file.size} bytes, ` +\n",
              "        `last modified: ${\n",
              "            file.lastModifiedDate ? file.lastModifiedDate.toLocaleDateString() :\n",
              "                                    'n/a'} - `));\n",
              "    const percent = span('0% done');\n",
              "    li.appendChild(percent);\n",
              "\n",
              "    outputElement.appendChild(li);\n",
              "\n",
              "    const fileDataPromise = new Promise((resolve) => {\n",
              "      const reader = new FileReader();\n",
              "      reader.onload = (e) => {\n",
              "        resolve(e.target.result);\n",
              "      };\n",
              "      reader.readAsArrayBuffer(file);\n",
              "    });\n",
              "    // Wait for the data to be ready.\n",
              "    let fileData = yield {\n",
              "      promise: fileDataPromise,\n",
              "      response: {\n",
              "        action: 'continue',\n",
              "      }\n",
              "    };\n",
              "\n",
              "    // Use a chunked sending to avoid message size limits. See b/62115660.\n",
              "    let position = 0;\n",
              "    do {\n",
              "      const length = Math.min(fileData.byteLength - position, MAX_PAYLOAD_SIZE);\n",
              "      const chunk = new Uint8Array(fileData, position, length);\n",
              "      position += length;\n",
              "\n",
              "      const base64 = btoa(String.fromCharCode.apply(null, chunk));\n",
              "      yield {\n",
              "        response: {\n",
              "          action: 'append',\n",
              "          file: file.name,\n",
              "          data: base64,\n",
              "        },\n",
              "      };\n",
              "\n",
              "      let percentDone = fileData.byteLength === 0 ?\n",
              "          100 :\n",
              "          Math.round((position / fileData.byteLength) * 100);\n",
              "      percent.textContent = `${percentDone}% done`;\n",
              "\n",
              "    } while (position < fileData.byteLength);\n",
              "  }\n",
              "\n",
              "  // All done.\n",
              "  yield {\n",
              "    response: {\n",
              "      action: 'complete',\n",
              "    }\n",
              "  };\n",
              "}\n",
              "\n",
              "scope.google = scope.google || {};\n",
              "scope.google.colab = scope.google.colab || {};\n",
              "scope.google.colab._files = {\n",
              "  _uploadFiles,\n",
              "  _uploadFilesContinue,\n",
              "};\n",
              "})(self);\n",
              "</script> "
            ]
          },
          "metadata": {}
        },
        {
          "output_type": "stream",
          "name": "stdout",
          "text": [
            "Saving SMSSpamCollection.tsv to SMSSpamCollection.tsv\n"
          ]
        }
      ]
    },
    {
      "cell_type": "code",
      "metadata": {
        "id": "0kfWGsx5HGgW",
        "colab": {
          "base_uri": "https://localhost:8080/",
          "height": 363
        },
        "outputId": "10178800-1e6a-4098-9094-f8c91279a761"
      },
      "source": [
        "dataframe.head(10)"
      ],
      "execution_count": 7,
      "outputs": [
        {
          "output_type": "execute_result",
          "data": {
            "text/plain": [
              "  label                                            message\n",
              "0   ham  Go until jurong point, crazy.. Available only ...\n",
              "1   ham                      Ok lar... Joking wif u oni...\n",
              "2  spam  Free entry in 2 a wkly comp to win FA Cup fina...\n",
              "3   ham  U dun say so early hor... U c already then say...\n",
              "4   ham  Nah I don't think he goes to usf, he lives aro...\n",
              "5  spam  FreeMsg Hey there darling it's been 3 week's n...\n",
              "6   ham  Even my brother is not like to speak with me. ...\n",
              "7   ham  As per your request 'Melle Melle (Oru Minnamin...\n",
              "8  spam  WINNER!! As a valued network customer you have...\n",
              "9  spam  Had your mobile 11 months or more? U R entitle..."
            ],
            "text/html": [
              "\n",
              "  <div id=\"df-e8a31851-624f-424c-8060-884dda66d673\">\n",
              "    <div class=\"colab-df-container\">\n",
              "      <div>\n",
              "<style scoped>\n",
              "    .dataframe tbody tr th:only-of-type {\n",
              "        vertical-align: middle;\n",
              "    }\n",
              "\n",
              "    .dataframe tbody tr th {\n",
              "        vertical-align: top;\n",
              "    }\n",
              "\n",
              "    .dataframe thead th {\n",
              "        text-align: right;\n",
              "    }\n",
              "</style>\n",
              "<table border=\"1\" class=\"dataframe\">\n",
              "  <thead>\n",
              "    <tr style=\"text-align: right;\">\n",
              "      <th></th>\n",
              "      <th>label</th>\n",
              "      <th>message</th>\n",
              "    </tr>\n",
              "  </thead>\n",
              "  <tbody>\n",
              "    <tr>\n",
              "      <th>0</th>\n",
              "      <td>ham</td>\n",
              "      <td>Go until jurong point, crazy.. Available only ...</td>\n",
              "    </tr>\n",
              "    <tr>\n",
              "      <th>1</th>\n",
              "      <td>ham</td>\n",
              "      <td>Ok lar... Joking wif u oni...</td>\n",
              "    </tr>\n",
              "    <tr>\n",
              "      <th>2</th>\n",
              "      <td>spam</td>\n",
              "      <td>Free entry in 2 a wkly comp to win FA Cup fina...</td>\n",
              "    </tr>\n",
              "    <tr>\n",
              "      <th>3</th>\n",
              "      <td>ham</td>\n",
              "      <td>U dun say so early hor... U c already then say...</td>\n",
              "    </tr>\n",
              "    <tr>\n",
              "      <th>4</th>\n",
              "      <td>ham</td>\n",
              "      <td>Nah I don't think he goes to usf, he lives aro...</td>\n",
              "    </tr>\n",
              "    <tr>\n",
              "      <th>5</th>\n",
              "      <td>spam</td>\n",
              "      <td>FreeMsg Hey there darling it's been 3 week's n...</td>\n",
              "    </tr>\n",
              "    <tr>\n",
              "      <th>6</th>\n",
              "      <td>ham</td>\n",
              "      <td>Even my brother is not like to speak with me. ...</td>\n",
              "    </tr>\n",
              "    <tr>\n",
              "      <th>7</th>\n",
              "      <td>ham</td>\n",
              "      <td>As per your request 'Melle Melle (Oru Minnamin...</td>\n",
              "    </tr>\n",
              "    <tr>\n",
              "      <th>8</th>\n",
              "      <td>spam</td>\n",
              "      <td>WINNER!! As a valued network customer you have...</td>\n",
              "    </tr>\n",
              "    <tr>\n",
              "      <th>9</th>\n",
              "      <td>spam</td>\n",
              "      <td>Had your mobile 11 months or more? U R entitle...</td>\n",
              "    </tr>\n",
              "  </tbody>\n",
              "</table>\n",
              "</div>\n",
              "      <button class=\"colab-df-convert\" onclick=\"convertToInteractive('df-e8a31851-624f-424c-8060-884dda66d673')\"\n",
              "              title=\"Convert this dataframe to an interactive table.\"\n",
              "              style=\"display:none;\">\n",
              "        \n",
              "  <svg xmlns=\"http://www.w3.org/2000/svg\" height=\"24px\"viewBox=\"0 0 24 24\"\n",
              "       width=\"24px\">\n",
              "    <path d=\"M0 0h24v24H0V0z\" fill=\"none\"/>\n",
              "    <path d=\"M18.56 5.44l.94 2.06.94-2.06 2.06-.94-2.06-.94-.94-2.06-.94 2.06-2.06.94zm-11 1L8.5 8.5l.94-2.06 2.06-.94-2.06-.94L8.5 2.5l-.94 2.06-2.06.94zm10 10l.94 2.06.94-2.06 2.06-.94-2.06-.94-.94-2.06-.94 2.06-2.06.94z\"/><path d=\"M17.41 7.96l-1.37-1.37c-.4-.4-.92-.59-1.43-.59-.52 0-1.04.2-1.43.59L10.3 9.45l-7.72 7.72c-.78.78-.78 2.05 0 2.83L4 21.41c.39.39.9.59 1.41.59.51 0 1.02-.2 1.41-.59l7.78-7.78 2.81-2.81c.8-.78.8-2.07 0-2.86zM5.41 20L4 18.59l7.72-7.72 1.47 1.35L5.41 20z\"/>\n",
              "  </svg>\n",
              "      </button>\n",
              "      \n",
              "  <style>\n",
              "    .colab-df-container {\n",
              "      display:flex;\n",
              "      flex-wrap:wrap;\n",
              "      gap: 12px;\n",
              "    }\n",
              "\n",
              "    .colab-df-convert {\n",
              "      background-color: #E8F0FE;\n",
              "      border: none;\n",
              "      border-radius: 50%;\n",
              "      cursor: pointer;\n",
              "      display: none;\n",
              "      fill: #1967D2;\n",
              "      height: 32px;\n",
              "      padding: 0 0 0 0;\n",
              "      width: 32px;\n",
              "    }\n",
              "\n",
              "    .colab-df-convert:hover {\n",
              "      background-color: #E2EBFA;\n",
              "      box-shadow: 0px 1px 2px rgba(60, 64, 67, 0.3), 0px 1px 3px 1px rgba(60, 64, 67, 0.15);\n",
              "      fill: #174EA6;\n",
              "    }\n",
              "\n",
              "    [theme=dark] .colab-df-convert {\n",
              "      background-color: #3B4455;\n",
              "      fill: #D2E3FC;\n",
              "    }\n",
              "\n",
              "    [theme=dark] .colab-df-convert:hover {\n",
              "      background-color: #434B5C;\n",
              "      box-shadow: 0px 1px 3px 1px rgba(0, 0, 0, 0.15);\n",
              "      filter: drop-shadow(0px 1px 2px rgba(0, 0, 0, 0.3));\n",
              "      fill: #FFFFFF;\n",
              "    }\n",
              "  </style>\n",
              "\n",
              "      <script>\n",
              "        const buttonEl =\n",
              "          document.querySelector('#df-e8a31851-624f-424c-8060-884dda66d673 button.colab-df-convert');\n",
              "        buttonEl.style.display =\n",
              "          google.colab.kernel.accessAllowed ? 'block' : 'none';\n",
              "\n",
              "        async function convertToInteractive(key) {\n",
              "          const element = document.querySelector('#df-e8a31851-624f-424c-8060-884dda66d673');\n",
              "          const dataTable =\n",
              "            await google.colab.kernel.invokeFunction('convertToInteractive',\n",
              "                                                     [key], {});\n",
              "          if (!dataTable) return;\n",
              "\n",
              "          const docLinkHtml = 'Like what you see? Visit the ' +\n",
              "            '<a target=\"_blank\" href=https://colab.research.google.com/notebooks/data_table.ipynb>data table notebook</a>'\n",
              "            + ' to learn more about interactive tables.';\n",
              "          element.innerHTML = '';\n",
              "          dataTable['output_type'] = 'display_data';\n",
              "          await google.colab.output.renderOutput(dataTable, element);\n",
              "          const docLink = document.createElement('div');\n",
              "          docLink.innerHTML = docLinkHtml;\n",
              "          element.appendChild(docLink);\n",
              "        }\n",
              "      </script>\n",
              "    </div>\n",
              "  </div>\n",
              "  "
            ]
          },
          "metadata": {},
          "execution_count": 7
        }
      ]
    },
    {
      "cell_type": "code",
      "metadata": {
        "id": "80Th5a5XHGgX",
        "colab": {
          "base_uri": "https://localhost:8080/"
        },
        "outputId": "a857907e-aeb3-4b62-ac61-ad99d98b78de"
      },
      "source": [
        "# Check for missing values\n",
        "dataframe.isnull().sum()"
      ],
      "execution_count": 8,
      "outputs": [
        {
          "output_type": "execute_result",
          "data": {
            "text/plain": [
              "label      0\n",
              "message    0\n",
              "dtype: int64"
            ]
          },
          "metadata": {},
          "execution_count": 8
        }
      ]
    },
    {
      "cell_type": "markdown",
      "metadata": {
        "id": "Ztgi4XaJHGgX"
      },
      "source": [
        "Lets see how many spam and ham (non-spam) we have in the dataframe."
      ]
    },
    {
      "cell_type": "code",
      "metadata": {
        "id": "WQCuKp1ZHGgX",
        "colab": {
          "base_uri": "https://localhost:8080/"
        },
        "outputId": "cc5ec895-95b9-4ec0-c0fc-0bf70b0d1dcb"
      },
      "source": [
        "dataframe[\"label\"].value_counts()"
      ],
      "execution_count": 9,
      "outputs": [
        {
          "output_type": "execute_result",
          "data": {
            "text/plain": [
              "ham     4825\n",
              "spam     747\n",
              "Name: label, dtype: int64"
            ]
          },
          "metadata": {},
          "execution_count": 9
        }
      ]
    },
    {
      "cell_type": "markdown",
      "metadata": {
        "id": "ULUqxNk0HGgY"
      },
      "source": [
        "We can see that there are 5572 messages, and 4824 are labelled as ham. \n",
        "\n",
        "Therefore 4824 / 5572 = 86% of messages are ham. If we were to randomly choose either *ham* or *spam* when viewing a text message, then 86% would randomly be correct with this dataset. So our text classifier needs to perform better than 86% to beat a random selection.\n",
        "\n",
        "First we split the data into text message data `X` and *label data* `y`. Make sure you pay attention to capitalisation convention rules for both datasets. A multidimensional input is typically represented with a capital `X`."
      ]
    },
    {
      "cell_type": "code",
      "metadata": {
        "id": "bswQJO4oHGgY"
      },
      "source": [
        "# Following convention, X contains message data (large matrix)\n",
        "# and y contains label data\n",
        "X = dataframe[\"message\"]\n",
        "y = dataframe[\"label\"]"
      ],
      "execution_count": 10,
      "outputs": []
    },
    {
      "cell_type": "code",
      "metadata": {
        "id": "cuWX7YqhHGgY",
        "colab": {
          "base_uri": "https://localhost:8080/"
        },
        "outputId": "921036be-eb33-4eeb-ec4f-ca9c7f1aeb3a"
      },
      "source": [
        "# Contains index and message text\n",
        "X.head()"
      ],
      "execution_count": 11,
      "outputs": [
        {
          "output_type": "execute_result",
          "data": {
            "text/plain": [
              "0    Go until jurong point, crazy.. Available only ...\n",
              "1                        Ok lar... Joking wif u oni...\n",
              "2    Free entry in 2 a wkly comp to win FA Cup fina...\n",
              "3    U dun say so early hor... U c already then say...\n",
              "4    Nah I don't think he goes to usf, he lives aro...\n",
              "Name: message, dtype: object"
            ]
          },
          "metadata": {},
          "execution_count": 11
        }
      ]
    },
    {
      "cell_type": "code",
      "metadata": {
        "id": "h3IIBD6nHGgZ",
        "colab": {
          "base_uri": "https://localhost:8080/"
        },
        "outputId": "22fd925a-bb51-44e2-97dc-f7a49984a3ba"
      },
      "source": [
        "# Contains index and message label\n",
        "y.head()"
      ],
      "execution_count": 12,
      "outputs": [
        {
          "output_type": "execute_result",
          "data": {
            "text/plain": [
              "0     ham\n",
              "1     ham\n",
              "2    spam\n",
              "3     ham\n",
              "4     ham\n",
              "Name: label, dtype: object"
            ]
          },
          "metadata": {},
          "execution_count": 12
        }
      ]
    },
    {
      "cell_type": "markdown",
      "metadata": {
        "id": "km87Ubh0HGgZ"
      },
      "source": [
        "## Train-Test Split\n",
        "\n",
        "Next we split the data into train and test splits:"
      ]
    },
    {
      "cell_type": "code",
      "metadata": {
        "id": "pbHFs_ONHGgZ"
      },
      "source": [
        "from sklearn.model_selection import train_test_split\n",
        "\n",
        "# test size represents the proportion of training and testing data split. \n",
        "# Random_state sets \"randomness\" of data randomisation\n",
        "X_train, X_test, y_train, y_test = train_test_split(X, y, test_size = 0.3, random_state=1)"
      ],
      "execution_count": 13,
      "outputs": []
    },
    {
      "cell_type": "markdown",
      "metadata": {
        "id": "d3khpyQpHGgZ"
      },
      "source": [
        "## Scikit-learn's CountVectorizer\n",
        "\n",
        "The count vectorizer builds a dictionary of features and transforms documents to feature vectors.\n",
        "\n",
        "Text preprocessing, tokenising and the ability to filter out stopwords are all included in the count vectorizer in Scikit-learn. See the [documentation](https://scikit-learn.org/stable/modules/generated/sklearn.feature_extraction.text.CountVectorizer.html) for more details.\n",
        "\n",
        "For spam detection, stop word removal is appropriate, since words like *and*, *the**, *him*, are uninformative in representing the content of a text. We remove them to avoid them being construed as signal for prediction. See the relevant section of the documentation [here](https://scikit-learn.org/stable/modules/feature_extraction.html#text-feature-extraction) for more information."
      ]
    },
    {
      "cell_type": "code",
      "metadata": {
        "id": "KMN5cRJtHGga"
      },
      "source": [
        "# Import count vectorizer\n",
        "from sklearn.feature_extraction.text import CountVectorizer"
      ],
      "execution_count": 14,
      "outputs": []
    },
    {
      "cell_type": "code",
      "metadata": {
        "id": "M69dceWRHGga"
      },
      "source": [
        "# Create an instance of count vectorizer\n",
        "count_vectorizer = CountVectorizer()"
      ],
      "execution_count": 15,
      "outputs": []
    },
    {
      "cell_type": "markdown",
      "metadata": {
        "id": "7133Cs7nHGga"
      },
      "source": [
        "Next we need to pass the `X_train` data into `count_vectorizer` and then transform the message data. Remember that `X_train` contains training message text data.\n",
        "\n",
        "There are 2 ways to do this. We can call the `.fit()` method first, which creates the vocabulary and the word count, followed by the `.transform()` method which transforms the data into the vectorised representation:"
      ]
    },
    {
      "cell_type": "code",
      "metadata": {
        "id": "K6r9ww2YHGgb"
      },
      "source": [
        "# Fit count vectorizer to message data\n",
        "# This step builds vocabulary and counts number of words in text\n",
        "count_vectorizer.fit(X_train)\n",
        "\n",
        "# Transform original text message to a vector\n",
        "X_train_count = count_vectorizer.transform(X_train)"
      ],
      "execution_count": 16,
      "outputs": []
    },
    {
      "cell_type": "markdown",
      "metadata": {
        "id": "JFtSsjMAHGgb"
      },
      "source": [
        "There's an easier way to do this, by using `.fit_transform()` in the `CountVectorizer` class. This method performs the `fit` and the `transform` processes within one command."
      ]
    },
    {
      "cell_type": "code",
      "metadata": {
        "id": "UF_6R1sWHGgb"
      },
      "source": [
        "# Alternative is to use the fit_transform function\n",
        "# which performs the fit and then transforms X_train\n",
        "# into a numerical vector and stores in X_train_counts\n",
        "# No need to do this in 2 separate functions (above)\n",
        "X_train_counts = count_vectorizer.fit_transform(X_train)"
      ],
      "execution_count": 17,
      "outputs": []
    },
    {
      "cell_type": "markdown",
      "metadata": {
        "id": "0WnbgyJrHGgb"
      },
      "source": [
        "The output of the fit transform is a *compressed sparse matrix*. A sparse matrix is one in which most of the elements are zero. Large sparse matrices can be stored very efficiently by only storing the non-zero entries, since we know all of the other entries are zero. See the Wikipedia entry for [Sparse matrix](https://en.wikipedia.org/wiki/Sparse_matrix) for more information.\n",
        "\n",
        "Lets examine the dimensions of the sparse matrix. It contains 3900 rows of message data. Remember that previously we decided to split the message data into a 70/30 for training and testing. 70% of the original message texts (5572) = 3900. \n",
        "\n",
        "The sparse matrix contains 7155 columns or features. These features represent the number of unique words in all of the text messages."
      ]
    },
    {
      "cell_type": "code",
      "metadata": {
        "id": "DeXIiT77HGgc",
        "colab": {
          "base_uri": "https://localhost:8080/"
        },
        "outputId": "86886b2c-d4be-44b2-e20b-eeebcb067cf6"
      },
      "source": [
        "# The matrix contains 3900 rows of text. These aare 70% of the original\n",
        "# text messages (5572 rows)\n",
        "X_train_counts"
      ],
      "execution_count": 18,
      "outputs": [
        {
          "output_type": "execute_result",
          "data": {
            "text/plain": [
              "<3900x7155 sparse matrix of type '<class 'numpy.int64'>'\n",
              "\twith 51338 stored elements in Compressed Sparse Row format>"
            ]
          },
          "metadata": {},
          "execution_count": 18
        }
      ]
    },
    {
      "cell_type": "code",
      "metadata": {
        "id": "T_Dw6nXWHGgc",
        "colab": {
          "base_uri": "https://localhost:8080/"
        },
        "outputId": "3b398d56-e59c-4189-add5-df9fc8bca51b"
      },
      "source": [
        "# Same as size of no of rows in X_train\n",
        "X_train.shape"
      ],
      "execution_count": 19,
      "outputs": [
        {
          "output_type": "execute_result",
          "data": {
            "text/plain": [
              "(3900,)"
            ]
          },
          "metadata": {},
          "execution_count": 19
        }
      ]
    },
    {
      "cell_type": "markdown",
      "metadata": {
        "id": "5Lx-YuqmHGgc"
      },
      "source": [
        "## Transform Count Vectorization to Frequencies with TF-IDF\n",
        "While counting words is helpful, longer documents will have higher average count values than shorter documents, even though they might have the same tpoic content within them. To avoid this we can simply divide the number of occurrences of each word in a document by the total number of words in the document: these new features are called *term frequency* or *tf*.\n",
        "\n",
        "Another refinement on top of *tf* is to downscale weights for words that occur in many documents in the corpus, and are therefore less informative than those that occur only in a smaller portion of the corpus.\n",
        "\n",
        "This downscaling is called *Term Frequency-Inverse Document Frequency* or *TF–IDF*. Both can be computed using Scikit-learn's [`TfidfTransformer`](https://scikit-learn.org/stable/modules/generated/sklearn.feature_extraction.text.TfidfTransformer.html):"
      ]
    },
    {
      "cell_type": "code",
      "metadata": {
        "id": "DIellZulHGgd",
        "colab": {
          "base_uri": "https://localhost:8080/"
        },
        "outputId": "3712a6ce-169c-436e-e235-9cb9616bc633"
      },
      "source": [
        "# Load the tfidfTransformer\n",
        "from sklearn.feature_extraction.text import TfidfTransformer\n",
        "\n",
        "# Create an instance of TfidfTransformer\n",
        "tfidf_transformer = TfidfTransformer()\n",
        "\n",
        "# Perform a tf-idf fit transform on the X_train_counts\n",
        "# sparse matrix. Put the result into X_train_tfidf\n",
        "X_train_transform = tfidf_transformer.fit_transform(X_train_counts)\n",
        "\n",
        "# Shape is the same as original count vectorizer\n",
        "# although it now contains word term frequencies multiplied by the\n",
        "# inverse document frequency\n",
        "X_train_transform.shape"
      ],
      "execution_count": 20,
      "outputs": [
        {
          "output_type": "execute_result",
          "data": {
            "text/plain": [
              "(3900, 7155)"
            ]
          },
          "metadata": {},
          "execution_count": 20
        }
      ]
    },
    {
      "cell_type": "markdown",
      "metadata": {
        "id": "-VMjlOGpHGgd"
      },
      "source": [
        "We can carry out the above steps more efficiently by using Scikit-learn's `TfidfVectorizer`, which combines the processes of `count_vectorizer` and `fit_transform`. This replaces the two steps of *vectorizing* followed by *fit transformation* processes that we did above.\n",
        "\n",
        "Here's how we can complete this work in one process."
      ]
    },
    {
      "cell_type": "code",
      "metadata": {
        "id": "yHRbKr-XHGge"
      },
      "source": [
        "# Load the vectorizer library\n",
        "from sklearn.feature_extraction.text import TfidfVectorizer"
      ],
      "execution_count": 21,
      "outputs": []
    },
    {
      "cell_type": "code",
      "metadata": {
        "id": "DrTNZg34HGge"
      },
      "source": [
        "# Create an instance of the TfidfVectorizer\n",
        "tfidf_vectorizer = TfidfVectorizer()"
      ],
      "execution_count": 22,
      "outputs": []
    },
    {
      "cell_type": "code",
      "metadata": {
        "id": "TlDwrpiFHGge",
        "colab": {
          "base_uri": "https://localhost:8080/"
        },
        "outputId": "390b045b-01fb-4c80-b420-90e0e854bad6"
      },
      "source": [
        "# Complete the vectorizing and fit transform on the original X_train\n",
        "# dataset\n",
        "X_train_tfidf = tfidf_vectorizer.fit_transform(X_train)\n",
        "# Examine shape of the dataset\n",
        "X_train_tfidf.shape"
      ],
      "execution_count": 23,
      "outputs": [
        {
          "output_type": "execute_result",
          "data": {
            "text/plain": [
              "(3900, 7155)"
            ]
          },
          "metadata": {},
          "execution_count": 23
        }
      ]
    },
    {
      "cell_type": "markdown",
      "metadata": {
        "id": "es1ao2CvHGgf"
      },
      "source": [
        "Now we're ready to create a model with this data as its input. We can use a [Support Vector Machine]( https://scikit-learn.org/stable/modules/generated/sklearn.svm.LinearSVC.html#sklearn.svm.LinearSVC) to achieve quite good accuracy on spam-ham classification.  `LinearSVC` is somewhat more efficient than the regular `SVC` model and scales better to large numbers of samples. It uses a modified loss function (squared hinge loss instead of hinge loss) and can handle sparse matrices better then SVC.\n",
        "\n",
        "Let's set up a `linearSVC` model and examine its output."
      ]
    },
    {
      "cell_type": "code",
      "metadata": {
        "id": "yTlAWpEcHGgf"
      },
      "source": [
        "from sklearn.svm import LinearSVC"
      ],
      "execution_count": 24,
      "outputs": []
    },
    {
      "cell_type": "code",
      "metadata": {
        "id": "WeB650MVHGgf",
        "colab": {
          "base_uri": "https://localhost:8080/"
        },
        "outputId": "afcf2bbb-9b93-4af4-82d8-247dd3b3651f"
      },
      "source": [
        "# Contents of X_test\n",
        "X_test.head()"
      ],
      "execution_count": 25,
      "outputs": [
        {
          "output_type": "execute_result",
          "data": {
            "text/plain": [
              "1078                         Yep, by the pretty sculpture\n",
              "4028        Yes, princess. Are you going to make me moan?\n",
              "958                            Welp apparently he retired\n",
              "4642                                              Havent.\n",
              "4674    I forgot 2 ask ü all smth.. There's a card on ...\n",
              "Name: message, dtype: object"
            ]
          },
          "metadata": {},
          "execution_count": 25
        }
      ]
    },
    {
      "cell_type": "markdown",
      "metadata": {
        "id": "TKUh4Vt_HGgf"
      },
      "source": [
        "Next we create an instance of the Linear SVC classifier and fit the *vectorized* and *fitted* `X_train` message data along with the `y_train` label data to the model."
      ]
    },
    {
      "cell_type": "code",
      "metadata": {
        "id": "TcKP3kgVHGgg",
        "colab": {
          "base_uri": "https://localhost:8080/",
          "height": 75
        },
        "outputId": "2d5573a5-5f77-47ac-dda6-b534f7bb4176"
      },
      "source": [
        "# Create an instance of the LinearSVC classifier\n",
        "classifier = LinearSVC()\n",
        "\n",
        "# X : {array-like, sparse matrix}\n",
        "# y : array-like, shape = [n_samples], \n",
        "# Target vector relative to X\n",
        "classifier.fit(X_train_tfidf, y_train)"
      ],
      "execution_count": 26,
      "outputs": [
        {
          "output_type": "execute_result",
          "data": {
            "text/plain": [
              "LinearSVC()"
            ],
            "text/html": [
              "<style>#sk-container-id-1 {color: black;background-color: white;}#sk-container-id-1 pre{padding: 0;}#sk-container-id-1 div.sk-toggleable {background-color: white;}#sk-container-id-1 label.sk-toggleable__label {cursor: pointer;display: block;width: 100%;margin-bottom: 0;padding: 0.3em;box-sizing: border-box;text-align: center;}#sk-container-id-1 label.sk-toggleable__label-arrow:before {content: \"▸\";float: left;margin-right: 0.25em;color: #696969;}#sk-container-id-1 label.sk-toggleable__label-arrow:hover:before {color: black;}#sk-container-id-1 div.sk-estimator:hover label.sk-toggleable__label-arrow:before {color: black;}#sk-container-id-1 div.sk-toggleable__content {max-height: 0;max-width: 0;overflow: hidden;text-align: left;background-color: #f0f8ff;}#sk-container-id-1 div.sk-toggleable__content pre {margin: 0.2em;color: black;border-radius: 0.25em;background-color: #f0f8ff;}#sk-container-id-1 input.sk-toggleable__control:checked~div.sk-toggleable__content {max-height: 200px;max-width: 100%;overflow: auto;}#sk-container-id-1 input.sk-toggleable__control:checked~label.sk-toggleable__label-arrow:before {content: \"▾\";}#sk-container-id-1 div.sk-estimator input.sk-toggleable__control:checked~label.sk-toggleable__label {background-color: #d4ebff;}#sk-container-id-1 div.sk-label input.sk-toggleable__control:checked~label.sk-toggleable__label {background-color: #d4ebff;}#sk-container-id-1 input.sk-hidden--visually {border: 0;clip: rect(1px 1px 1px 1px);clip: rect(1px, 1px, 1px, 1px);height: 1px;margin: -1px;overflow: hidden;padding: 0;position: absolute;width: 1px;}#sk-container-id-1 div.sk-estimator {font-family: monospace;background-color: #f0f8ff;border: 1px dotted black;border-radius: 0.25em;box-sizing: border-box;margin-bottom: 0.5em;}#sk-container-id-1 div.sk-estimator:hover {background-color: #d4ebff;}#sk-container-id-1 div.sk-parallel-item::after {content: \"\";width: 100%;border-bottom: 1px solid gray;flex-grow: 1;}#sk-container-id-1 div.sk-label:hover label.sk-toggleable__label {background-color: #d4ebff;}#sk-container-id-1 div.sk-serial::before {content: \"\";position: absolute;border-left: 1px solid gray;box-sizing: border-box;top: 0;bottom: 0;left: 50%;z-index: 0;}#sk-container-id-1 div.sk-serial {display: flex;flex-direction: column;align-items: center;background-color: white;padding-right: 0.2em;padding-left: 0.2em;position: relative;}#sk-container-id-1 div.sk-item {position: relative;z-index: 1;}#sk-container-id-1 div.sk-parallel {display: flex;align-items: stretch;justify-content: center;background-color: white;position: relative;}#sk-container-id-1 div.sk-item::before, #sk-container-id-1 div.sk-parallel-item::before {content: \"\";position: absolute;border-left: 1px solid gray;box-sizing: border-box;top: 0;bottom: 0;left: 50%;z-index: -1;}#sk-container-id-1 div.sk-parallel-item {display: flex;flex-direction: column;z-index: 1;position: relative;background-color: white;}#sk-container-id-1 div.sk-parallel-item:first-child::after {align-self: flex-end;width: 50%;}#sk-container-id-1 div.sk-parallel-item:last-child::after {align-self: flex-start;width: 50%;}#sk-container-id-1 div.sk-parallel-item:only-child::after {width: 0;}#sk-container-id-1 div.sk-dashed-wrapped {border: 1px dashed gray;margin: 0 0.4em 0.5em 0.4em;box-sizing: border-box;padding-bottom: 0.4em;background-color: white;}#sk-container-id-1 div.sk-label label {font-family: monospace;font-weight: bold;display: inline-block;line-height: 1.2em;}#sk-container-id-1 div.sk-label-container {text-align: center;}#sk-container-id-1 div.sk-container {/* jupyter's `normalize.less` sets `[hidden] { display: none; }` but bootstrap.min.css set `[hidden] { display: none !important; }` so we also need the `!important` here to be able to override the default hidden behavior on the sphinx rendered scikit-learn.org. See: https://github.com/scikit-learn/scikit-learn/issues/21755 */display: inline-block !important;position: relative;}#sk-container-id-1 div.sk-text-repr-fallback {display: none;}</style><div id=\"sk-container-id-1\" class=\"sk-top-container\"><div class=\"sk-text-repr-fallback\"><pre>LinearSVC()</pre><b>In a Jupyter environment, please rerun this cell to show the HTML representation or trust the notebook. <br />On GitHub, the HTML representation is unable to render, please try loading this page with nbviewer.org.</b></div><div class=\"sk-container\" hidden><div class=\"sk-item\"><div class=\"sk-estimator sk-toggleable\"><input class=\"sk-toggleable__control sk-hidden--visually\" id=\"sk-estimator-id-1\" type=\"checkbox\" checked><label for=\"sk-estimator-id-1\" class=\"sk-toggleable__label sk-toggleable__label-arrow\">LinearSVC</label><div class=\"sk-toggleable__content\"><pre>LinearSVC()</pre></div></div></div></div></div>"
            ]
          },
          "metadata": {},
          "execution_count": 26
        }
      ]
    },
    {
      "cell_type": "markdown",
      "metadata": {
        "id": "Q4vQnnOyHGgg"
      },
      "source": [
        "Next we need to prepare the test data before it can be used for inference by the SVC model. *Note* that we don't perform a `fit_transform` on the `X_text` data, just a `transform`."
      ]
    },
    {
      "cell_type": "code",
      "metadata": {
        "id": "N4Hf8CRmHGgg"
      },
      "source": [
        "# Transform original test message data to a vector\n",
        "# No need to fit and transform it\n",
        "X_test_transform = tfidf_vectorizer.transform(X_test)\n",
        "\n",
        "# Predict message type from Linear SVC classifier\n",
        "predictions = classifier.predict(X_test_transform)"
      ],
      "execution_count": 27,
      "outputs": []
    },
    {
      "cell_type": "code",
      "metadata": {
        "id": "mPwogbHNHGgg",
        "colab": {
          "base_uri": "https://localhost:8080/"
        },
        "outputId": "e47eff18-80d9-4da2-f8e8-464e389c7f26"
      },
      "source": [
        "# Predictions contains the predicted label data from inputted message test data\n",
        "predictions.shape"
      ],
      "execution_count": 28,
      "outputs": [
        {
          "output_type": "execute_result",
          "data": {
            "text/plain": [
              "(1672,)"
            ]
          },
          "metadata": {},
          "execution_count": 28
        }
      ]
    },
    {
      "cell_type": "code",
      "metadata": {
        "id": "R3IbU7jbHGgh",
        "colab": {
          "base_uri": "https://localhost:8080/",
          "height": 279
        },
        "outputId": "558aaffb-664f-436b-b6bb-f393206aaf6c"
      },
      "source": [
        "# Show a confusion matrix of results\n",
        "from sklearn import metrics\n",
        "import matplotlib.pyplot as plt\n",
        "metrics.ConfusionMatrixDisplay(metrics.confusion_matrix(y_test, predictions)).plot()\n",
        "plt.show()"
      ],
      "execution_count": 29,
      "outputs": [
        {
          "output_type": "display_data",
          "data": {
            "text/plain": [
              "<Figure size 432x288 with 2 Axes>"
            ],
            "image/png": "[encoded data removed]"
          },
          "metadata": {
            "needs_background": "light"
          }
        }
      ]
    },
    {
      "cell_type": "code",
      "metadata": {
        "id": "e_F62XbVHGgh",
        "colab": {
          "base_uri": "https://localhost:8080/"
        },
        "outputId": "0cf28163-f065-4ad5-c4fe-1c963aa82b6b"
      },
      "source": [
        "# Print a classification report\n",
        "print(metrics.classification_report(y_test, predictions))"
      ],
      "execution_count": 30,
      "outputs": [
        {
          "output_type": "stream",
          "name": "stdout",
          "text": [
            "              precision    recall  f1-score   support\n",
            "\n",
            "         ham       0.99      1.00      0.99      1442\n",
            "        spam       0.98      0.91      0.94       230\n",
            "\n",
            "    accuracy                           0.99      1672\n",
            "   macro avg       0.98      0.95      0.97      1672\n",
            "weighted avg       0.98      0.99      0.98      1672\n",
            "\n"
          ]
        }
      ]
    },
    {
      "cell_type": "code",
      "source": [
        "print(metrics.accuracy_score(y_test, predictions))"
      ],
      "metadata": {
        "id": "N5xzBL3Jljw2",
        "colab": {
          "base_uri": "https://localhost:8080/"
        },
        "outputId": "bf766af2-7685-45d4-c84c-12a9615a80f1"
      },
      "execution_count": 31,
      "outputs": [
        {
          "output_type": "stream",
          "name": "stdout",
          "text": [
            "0.9850478468899522\n"
          ]
        }
      ]
    },
    {
      "cell_type": "markdown",
      "metadata": {
        "id": "buY4_a3GHGgh"
      },
      "source": [
        "Let's test the new system with some typical spam and ham text messages."
      ]
    },
    {
      "cell_type": "code",
      "metadata": {
        "id": "Gp867CrjHGgh",
        "colab": {
          "base_uri": "https://localhost:8080/"
        },
        "outputId": "0f323ef5-3965-4b71-cc9a-7d91cd13546e"
      },
      "source": [
        "# Typical ham text message\n",
        "sample_text_message = [\"I'm going to go to work soon\"]\n",
        "transformed_text = tfidf_vectorizer.transform(sample_text_message)\n",
        "\n",
        "model_output = classifier.predict(transformed_text)\n",
        "print(model_output)"
      ],
      "execution_count": 32,
      "outputs": [
        {
          "output_type": "stream",
          "name": "stdout",
          "text": [
            "['ham']\n"
          ]
        }
      ]
    },
    {
      "cell_type": "code",
      "metadata": {
        "id": "gKFE2wYXHGgi",
        "colab": {
          "base_uri": "https://localhost:8080/"
        },
        "outputId": "ec417b1a-4685-4b59-92a3-52c0e54a2a51"
      },
      "source": [
        "# Typical spam text message\n",
        "sample_text_message = [\"You can win a holiday! Text 23455 to take this offer up.\"]\n",
        "transformed_text = tfidf_vectorizer.transform(sample_text_message)\n",
        "\n",
        "model_output = classifier.predict(transformed_text)\n",
        "print(model_output)"
      ],
      "execution_count": 33,
      "outputs": [
        {
          "output_type": "stream",
          "name": "stdout",
          "text": [
            "['spam']\n"
          ]
        }
      ]
    },
    {
      "cell_type": "markdown",
      "metadata": {
        "id": "QW6zUGA_HGgj"
      },
      "source": [
        "We can write a function to simplify this process:"
      ]
    },
    {
      "cell_type": "code",
      "metadata": {
        "id": "3_d3Rl0CHGgj"
      },
      "source": [
        "def predict_message_type(text_message):\n",
        "    # Note that I'm using square brackets around the text_message variable\n",
        "    transformed_message = tfidf_vectorizer.transform([text_message])\n",
        "    \n",
        "    # Predict model output from \n",
        "    model_output = classifier.predict(transformed_message)\n",
        "    return(model_output)"
      ],
      "execution_count": 34,
      "outputs": []
    },
    {
      "cell_type": "code",
      "metadata": {
        "id": "BaEiYcC0HGgj",
        "colab": {
          "base_uri": "https://localhost:8080/"
        },
        "outputId": "0d7c5268-bf83-4945-c453-50abc444d75c"
      },
      "source": [
        "# Submit a text message to the function and see if the model can accurately detect whether it is ham or spam.\n",
        "# Here I'm testing whether the model can predict this as SPAM\n",
        "predict_message_type(\"You can win a holiday! Text 23455 to take this offer up.\")"
      ],
      "execution_count": 35,
      "outputs": [
        {
          "output_type": "execute_result",
          "data": {
            "text/plain": [
              "array(['spam'], dtype=object)"
            ]
          },
          "metadata": {},
          "execution_count": 35
        }
      ]
    },
    {
      "cell_type": "code",
      "metadata": {
        "scrolled": true,
        "id": "nVEZY4-cHGgj",
        "colab": {
          "base_uri": "https://localhost:8080/"
        },
        "outputId": "772bad2a-8282-4e37-d2e4-62ed077990b2"
      },
      "source": [
        "# Typical spam message\n",
        "predict_message_type(\"Your invoice is attached to this text. Click this link to download it.\")\n"
      ],
      "execution_count": 36,
      "outputs": [
        {
          "output_type": "execute_result",
          "data": {
            "text/plain": [
              "array(['spam'], dtype=object)"
            ]
          },
          "metadata": {},
          "execution_count": 36
        }
      ]
    },
    {
      "cell_type": "code",
      "metadata": {
        "id": "WYEYBxa4HGgk",
        "colab": {
          "base_uri": "https://localhost:8080/"
        },
        "outputId": "bce5e6c3-1ea5-44a1-cf58-ecdb4f5d2042"
      },
      "source": [
        "predict_message_type(\"Hi there. Hows things with you today? Are you heading out for some food?\")"
      ],
      "execution_count": 37,
      "outputs": [
        {
          "output_type": "execute_result",
          "data": {
            "text/plain": [
              "array(['ham'], dtype=object)"
            ]
          },
          "metadata": {},
          "execution_count": 37
        }
      ]
    },
    {
      "cell_type": "markdown",
      "source": [
        "We can also compare this with a model that uses only the CountVectorizer, and not TF-IDF:"
      ],
      "metadata": {
        "id": "uXXzsT5siLOY"
      }
    },
    {
      "cell_type": "code",
      "source": [
        "# Create an instance of the LinearSVC classifier\n",
        "classifier_cv = LinearSVC()\n",
        "\n",
        "# X : {array-like, sparse matrix}\n",
        "# y : array-like, shape = [n_samples], \n",
        "# Target vector relative to X\n",
        "classifier_cv.fit(X_train_counts, y_train)\n",
        "\n",
        "X_test_transform = count_vectorizer.transform(X_test)\n",
        "\n",
        "predictions_cv = classifier_cv.predict(X_test_transform)\n",
        "\n",
        "metrics.ConfusionMatrixDisplay(metrics.confusion_matrix(y_test, predictions_cv)).plot()\n",
        "plt.show()\n",
        "# Print a classification report\n",
        "print(metrics.classification_report(y_test, predictions_cv))"
      ],
      "metadata": {
        "id": "yAD2fauBiQio",
        "colab": {
          "base_uri": "https://localhost:8080/",
          "height": 435
        },
        "outputId": "731cc7ee-6db2-4f45-de57-ff4f5f7a7fbb"
      },
      "execution_count": 38,
      "outputs": [
        {
          "output_type": "display_data",
          "data": {
            "text/plain": [
              "<Figure size 432x288 with 2 Axes>"
            ],
            "image/png": "[encoded data removed]"
          },
          "metadata": {
            "needs_background": "light"
          }
        },
        {
          "output_type": "stream",
          "name": "stdout",
          "text": [
            "              precision    recall  f1-score   support\n",
            "\n",
            "         ham       0.99      1.00      0.99      1442\n",
            "        spam       0.97      0.91      0.94       230\n",
            "\n",
            "    accuracy                           0.98      1672\n",
            "   macro avg       0.98      0.95      0.97      1672\n",
            "weighted avg       0.98      0.98      0.98      1672\n",
            "\n"
          ]
        }
      ]
    },
    {
      "cell_type": "code",
      "source": [
        "print(metrics.accuracy_score(y_test, predictions_cv))"
      ],
      "metadata": {
        "id": "vt-ph453lZgb",
        "colab": {
          "base_uri": "https://localhost:8080/"
        },
        "outputId": "64e6884c-dcb3-4cd9-a880-08058fd01220"
      },
      "execution_count": 39,
      "outputs": [
        {
          "output_type": "stream",
          "name": "stdout",
          "text": [
            "0.9838516746411483\n"
          ]
        }
      ]
    },
    {
      "cell_type": "markdown",
      "source": [
        "We see that the accuracy of the CountVectorizer model is 98.39%, while using the TF-IDF model improves this to 98.51%. Getting any improvement when the accuracy is already so high is often quite difficult, so this is a good outcome although the improvement appears small. Note that we're measuring these metrics on a test set of 1672 items - adding more data would give us a better picture of the value of this improvement."
      ],
      "metadata": {
        "id": "WlUl9hMzi6Iq"
      }
    },
    {
      "cell_type": "markdown",
      "metadata": {
        "id": "bGsvcVluHGgk"
      },
      "source": [
        "## Creating a  Scikit-learn Pipeline\n",
        "\n",
        "So far we've vectorised the training data, then built a Linear SVC classifier, fitted the model to the training data, and then transformed the testing data before it could be used for predictions from the trained model.\n",
        "\n",
        "We managed to speed up the process slightly by implementing a function to complete some of the repetitive actions required to test the model.\n",
        "\n",
        "Fortunately scikit-learn offers a [`Pipeline`](https://scikit-learn.org/stable/modules/generated/sklearn.pipeline.Pipeline.html) class that behaves like a compound classifier. This means we can creat a *pipeline* to contain several libraries that can be called just like a method.\n",
        "\n",
        "Let's use a pipeline to complete the processes above in a more automated manner.\n",
        "\n",
        "When `text_classifier.fit(X_train, y_train)` is called, the pipeline takes in `X_train` data and calls `TfidfVectorizer` on it. A model is then stored in memory.\n",
        "\n",
        "When `predictions = text_classifier.predict(X_test)` is called, `X_text` is first transformed  with `tfidf_vect` and then the `LinearSVC_classifier` is used to predict using `X_test` data.  All steps are performed within the `text_classifier` pipeline."
      ]
    },
    {
      "cell_type": "code",
      "metadata": {
        "id": "WbLMNbI7HGgk",
        "colab": {
          "base_uri": "https://localhost:8080/",
          "height": 126
        },
        "outputId": "83fd80dd-99d8-4778-b765-4ca8455320c2"
      },
      "source": [
        "from sklearn.pipeline import Pipeline\n",
        "\n",
        "# If we didn't have these libraries loaded then we should also do this\n",
        "# from sklearn.feature_extraction.text import TfidfVectorizer\n",
        "# from sklearn.svm import LinearSVC\n",
        "\n",
        "text_classifier = Pipeline([('tfidf_vect', TfidfVectorizer()),\n",
        "                     ('LinearSVC_classifier', LinearSVC()),\n",
        "])\n",
        "\n",
        "# Feed the training data through the pipeline\n",
        "text_classifier.fit(X_train, y_train)"
      ],
      "execution_count": 40,
      "outputs": [
        {
          "output_type": "execute_result",
          "data": {
            "text/plain": [
              "Pipeline(steps=[('tfidf_vect', TfidfVectorizer()),\n",
              "                ('LinearSVC_classifier', LinearSVC())])"
            ],
            "text/html": [
              "<style>#sk-container-id-2 {color: black;background-color: white;}#sk-container-id-2 pre{padding: 0;}#sk-container-id-2 div.sk-toggleable {background-color: white;}#sk-container-id-2 label.sk-toggleable__label {cursor: pointer;display: block;width: 100%;margin-bottom: 0;padding: 0.3em;box-sizing: border-box;text-align: center;}#sk-container-id-2 label.sk-toggleable__label-arrow:before {content: \"▸\";float: left;margin-right: 0.25em;color: #696969;}#sk-container-id-2 label.sk-toggleable__label-arrow:hover:before {color: black;}#sk-container-id-2 div.sk-estimator:hover label.sk-toggleable__label-arrow:before {color: black;}#sk-container-id-2 div.sk-toggleable__content {max-height: 0;max-width: 0;overflow: hidden;text-align: left;background-color: #f0f8ff;}#sk-container-id-2 div.sk-toggleable__content pre {margin: 0.2em;color: black;border-radius: 0.25em;background-color: #f0f8ff;}#sk-container-id-2 input.sk-toggleable__control:checked~div.sk-toggleable__content {max-height: 200px;max-width: 100%;overflow: auto;}#sk-container-id-2 input.sk-toggleable__control:checked~label.sk-toggleable__label-arrow:before {content: \"▾\";}#sk-container-id-2 div.sk-estimator input.sk-toggleable__control:checked~label.sk-toggleable__label {background-color: #d4ebff;}#sk-container-id-2 div.sk-label input.sk-toggleable__control:checked~label.sk-toggleable__label {background-color: #d4ebff;}#sk-container-id-2 input.sk-hidden--visually {border: 0;clip: rect(1px 1px 1px 1px);clip: rect(1px, 1px, 1px, 1px);height: 1px;margin: -1px;overflow: hidden;padding: 0;position: absolute;width: 1px;}#sk-container-id-2 div.sk-estimator {font-family: monospace;background-color: #f0f8ff;border: 1px dotted black;border-radius: 0.25em;box-sizing: border-box;margin-bottom: 0.5em;}#sk-container-id-2 div.sk-estimator:hover {background-color: #d4ebff;}#sk-container-id-2 div.sk-parallel-item::after {content: \"\";width: 100%;border-bottom: 1px solid gray;flex-grow: 1;}#sk-container-id-2 div.sk-label:hover label.sk-toggleable__label {background-color: #d4ebff;}#sk-container-id-2 div.sk-serial::before {content: \"\";position: absolute;border-left: 1px solid gray;box-sizing: border-box;top: 0;bottom: 0;left: 50%;z-index: 0;}#sk-container-id-2 div.sk-serial {display: flex;flex-direction: column;align-items: center;background-color: white;padding-right: 0.2em;padding-left: 0.2em;position: relative;}#sk-container-id-2 div.sk-item {position: relative;z-index: 1;}#sk-container-id-2 div.sk-parallel {display: flex;align-items: stretch;justify-content: center;background-color: white;position: relative;}#sk-container-id-2 div.sk-item::before, #sk-container-id-2 div.sk-parallel-item::before {content: \"\";position: absolute;border-left: 1px solid gray;box-sizing: border-box;top: 0;bottom: 0;left: 50%;z-index: -1;}#sk-container-id-2 div.sk-parallel-item {display: flex;flex-direction: column;z-index: 1;position: relative;background-color: white;}#sk-container-id-2 div.sk-parallel-item:first-child::after {align-self: flex-end;width: 50%;}#sk-container-id-2 div.sk-parallel-item:last-child::after {align-self: flex-start;width: 50%;}#sk-container-id-2 div.sk-parallel-item:only-child::after {width: 0;}#sk-container-id-2 div.sk-dashed-wrapped {border: 1px dashed gray;margin: 0 0.4em 0.5em 0.4em;box-sizing: border-box;padding-bottom: 0.4em;background-color: white;}#sk-container-id-2 div.sk-label label {font-family: monospace;font-weight: bold;display: inline-block;line-height: 1.2em;}#sk-container-id-2 div.sk-label-container {text-align: center;}#sk-container-id-2 div.sk-container {/* jupyter's `normalize.less` sets `[hidden] { display: none; }` but bootstrap.min.css set `[hidden] { display: none !important; }` so we also need the `!important` here to be able to override the default hidden behavior on the sphinx rendered scikit-learn.org. See: https://github.com/scikit-learn/scikit-learn/issues/21755 */display: inline-block !important;position: relative;}#sk-container-id-2 div.sk-text-repr-fallback {display: none;}</style><div id=\"sk-container-id-2\" class=\"sk-top-container\"><div class=\"sk-text-repr-fallback\"><pre>Pipeline(steps=[(&#x27;tfidf_vect&#x27;, TfidfVectorizer()),\n",
              "                (&#x27;LinearSVC_classifier&#x27;, LinearSVC())])</pre><b>In a Jupyter environment, please rerun this cell to show the HTML representation or trust the notebook. <br />On GitHub, the HTML representation is unable to render, please try loading this page with nbviewer.org.</b></div><div class=\"sk-container\" hidden><div class=\"sk-item sk-dashed-wrapped\"><div class=\"sk-label-container\"><div class=\"sk-label sk-toggleable\"><input class=\"sk-toggleable__control sk-hidden--visually\" id=\"sk-estimator-id-2\" type=\"checkbox\" ><label for=\"sk-estimator-id-2\" class=\"sk-toggleable__label sk-toggleable__label-arrow\">Pipeline</label><div class=\"sk-toggleable__content\"><pre>Pipeline(steps=[(&#x27;tfidf_vect&#x27;, TfidfVectorizer()),\n",
              "                (&#x27;LinearSVC_classifier&#x27;, LinearSVC())])</pre></div></div></div><div class=\"sk-serial\"><div class=\"sk-item\"><div class=\"sk-estimator sk-toggleable\"><input class=\"sk-toggleable__control sk-hidden--visually\" id=\"sk-estimator-id-3\" type=\"checkbox\" ><label for=\"sk-estimator-id-3\" class=\"sk-toggleable__label sk-toggleable__label-arrow\">TfidfVectorizer</label><div class=\"sk-toggleable__content\"><pre>TfidfVectorizer()</pre></div></div></div><div class=\"sk-item\"><div class=\"sk-estimator sk-toggleable\"><input class=\"sk-toggleable__control sk-hidden--visually\" id=\"sk-estimator-id-4\" type=\"checkbox\" ><label for=\"sk-estimator-id-4\" class=\"sk-toggleable__label sk-toggleable__label-arrow\">LinearSVC</label><div class=\"sk-toggleable__content\"><pre>LinearSVC()</pre></div></div></div></div></div></div></div>"
            ]
          },
          "metadata": {},
          "execution_count": 40
        }
      ]
    },
    {
      "cell_type": "code",
      "metadata": {
        "id": "QAaQjpC6HGgk"
      },
      "source": [
        "# Form a prediction set\n",
        "predictions = text_classifier.predict(X_test)"
      ],
      "execution_count": 41,
      "outputs": []
    },
    {
      "cell_type": "code",
      "metadata": {
        "id": "DbOXIGAjHGgk",
        "colab": {
          "base_uri": "https://localhost:8080/",
          "height": 279
        },
        "outputId": "0bdf6d33-ef06-46ee-cb1d-69e7c1125c9b"
      },
      "source": [
        "# Report the confusion matrix\n",
        "from sklearn import metrics\n",
        "import matplotlib.pyplot as plt\n",
        "metrics.ConfusionMatrixDisplay(metrics.confusion_matrix(y_test, predictions)).plot()\n",
        "plt.show()"
      ],
      "execution_count": 42,
      "outputs": [
        {
          "output_type": "display_data",
          "data": {
            "text/plain": [
              "<Figure size 432x288 with 2 Axes>"
            ],
            "image/png": "[encoded data removed]"
          },
          "metadata": {
            "needs_background": "light"
          }
        }
      ]
    },
    {
      "cell_type": "code",
      "metadata": {
        "id": "dZdv-g4vHGgl",
        "colab": {
          "base_uri": "https://localhost:8080/"
        },
        "outputId": "b6218866-6d9a-4708-f1eb-c3f37471e7ea"
      },
      "source": [
        "# Print a classification report\n",
        "print(metrics.classification_report(y_test, predictions))"
      ],
      "execution_count": 43,
      "outputs": [
        {
          "output_type": "stream",
          "name": "stdout",
          "text": [
            "              precision    recall  f1-score   support\n",
            "\n",
            "         ham       0.99      1.00      0.99      1442\n",
            "        spam       0.98      0.91      0.94       230\n",
            "\n",
            "    accuracy                           0.99      1672\n",
            "   macro avg       0.98      0.95      0.97      1672\n",
            "weighted avg       0.98      0.99      0.98      1672\n",
            "\n"
          ]
        }
      ]
    },
    {
      "cell_type": "code",
      "metadata": {
        "id": "D2sndjv5HGgl",
        "colab": {
          "base_uri": "https://localhost:8080/"
        },
        "outputId": "4a2f1df4-799b-48aa-bda2-3a3401bb4a60"
      },
      "source": [
        "print(metrics.accuracy_score(y_test, predictions))"
      ],
      "execution_count": 44,
      "outputs": [
        {
          "output_type": "stream",
          "name": "stdout",
          "text": [
            "0.9850478468899522\n"
          ]
        }
      ]
    },
    {
      "cell_type": "markdown",
      "metadata": {
        "id": "Z92uH__qHGgl"
      },
      "source": [
        "This means that we can predict whether a text message is *spam* or *ham* correctly in 98.5% of time. This shows a large improvement over the previous data we used for predictions.\n",
        "\n",
        "We can test the model out by feeding in some examples of a ham and spam messages. Remember *ham* is a genuine text message whereas *spam* is not."
      ]
    },
    {
      "cell_type": "code",
      "metadata": {
        "id": "gf_6nusqHGgl",
        "colab": {
          "base_uri": "https://localhost:8080/"
        },
        "outputId": "d83e46e5-d4dc-4b7f-a6b5-a46a3b4d4aec"
      },
      "source": [
        "# Typical ham text message\n",
        "text_classifier.predict([\"I'm going to go to work soon\"])"
      ],
      "execution_count": 45,
      "outputs": [
        {
          "output_type": "execute_result",
          "data": {
            "text/plain": [
              "array(['ham'], dtype=object)"
            ]
          },
          "metadata": {},
          "execution_count": 45
        }
      ]
    },
    {
      "cell_type": "code",
      "metadata": {
        "id": "hVjpyCpBHGgl",
        "colab": {
          "base_uri": "https://localhost:8080/"
        },
        "outputId": "3961ac84-c511-44bf-a742-a3fbda798fe4"
      },
      "source": [
        "text_classifier.predict([\"This is my phone number. I hope you can call before 4pm.\"])"
      ],
      "execution_count": 46,
      "outputs": [
        {
          "output_type": "execute_result",
          "data": {
            "text/plain": [
              "array(['ham'], dtype=object)"
            ]
          },
          "metadata": {},
          "execution_count": 46
        }
      ]
    },
    {
      "cell_type": "code",
      "metadata": {
        "id": "u3wE81x-HGgm",
        "colab": {
          "base_uri": "https://localhost:8080/"
        },
        "outputId": "3d098eb6-1207-4656-94e3-16f57327ff30"
      },
      "source": [
        "text_classifier.predict([\"You can win a holiday! Text 23455 to take this offer up.\"])"
      ],
      "execution_count": 47,
      "outputs": [
        {
          "output_type": "execute_result",
          "data": {
            "text/plain": [
              "array(['spam'], dtype=object)"
            ]
          },
          "metadata": {},
          "execution_count": 47
        }
      ]
    },
    {
      "cell_type": "code",
      "metadata": {
        "id": "B0aNHnUuHGgm",
        "colab": {
          "base_uri": "https://localhost:8080/"
        },
        "outputId": "c75f9d21-b87e-4cd2-f923-87a7d4c76af4"
      },
      "source": [
        "text_classifier.predict([\"Your invoice is attached to this text. Click this link to download it.\"])"
      ],
      "execution_count": 48,
      "outputs": [
        {
          "output_type": "execute_result",
          "data": {
            "text/plain": [
              "array(['spam'], dtype=object)"
            ]
          },
          "metadata": {},
          "execution_count": 48
        }
      ]
    },
    {
      "cell_type": "markdown",
      "source": [
        "## Exercise\n",
        "\n",
        "Try building a similar model to classify the IMDB reviews we've seen in previous labs as positive or negative.\n",
        "* First create a pipeline using `CountVectorizer`, train the model on the resulting vectorised data, calculate the accuracy and obtain the confusion matrix \n",
        "*   Then create a second pipeline using `TfidfVectorizer` and determine if this improves your results by comparing the accuracy and confusion matrices.\n",
        "*   Finally: when we visualised the lemmatised data, we restricted our analysis to 1000 reviews since it ran quite slowly. Since we don't need to do that here, try increasing the size of the dataset. What effect does this have on the train/test accuracy?\n",
        "\n",
        "The code to create the DataFrame containing decoded reviews and labels is supplied below for convenience. Use different variable names to those above to avoid any confusion, or open a new notebook and write your code there instead.\n"
      ],
      "metadata": {
        "id": "3LeP_L_2Bllz"
      }
    },
    {
      "cell_type": "code",
      "source": [
        "from tensorflow.keras.datasets import imdb\n",
        "(train_data, train_labels), (test_data, \n",
        "                             test_labels) = imdb.load_data(num_words=30000)"
      ],
      "metadata": {
        "id": "6kl4KR-IZD3x",
        "colab": {
          "base_uri": "https://localhost:8080/"
        },
        "outputId": "8c75c896-0e66-4817-da20-b91c114123f6"
      },
      "execution_count": 49,
      "outputs": [
        {
          "output_type": "stream",
          "name": "stdout",
          "text": [
            "Downloading data from https://storage.googleapis.com/tensorflow/tf-keras-datasets/imdb.npz\n",
            "17464789/17464789 [==============================] - 0s 0us/step\n"
          ]
        }
      ]
    },
    {
      "cell_type": "code",
      "source": [],
      "metadata": {
        "id": "R_vhMY-KZEB4"
      },
      "execution_count": 49,
      "outputs": []
    },
    {
      "cell_type": "code",
      "source": [],
      "metadata": {
        "id": "F71bZ65dZI3b"
      },
      "execution_count": 49,
      "outputs": []
    }
  ]
}