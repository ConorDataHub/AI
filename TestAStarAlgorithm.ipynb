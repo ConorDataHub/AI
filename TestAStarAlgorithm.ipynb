{
  "nbformat": 4,
  "nbformat_minor": 0,
  "metadata": {
    "colab": {
      "provenance": [],
      "authorship_tag": "ABX9TyOvFWydI6j5uScP6dkOmxnN",
      "include_colab_link": true
    },
    "kernelspec": {
      "name": "python3",
      "display_name": "Python 3"
    },
    "language_info": {
      "name": "python"
    },
    "accelerator": "GPU",
    "gpuClass": "standard"
  },
  "cells": [
    {
      "cell_type": "markdown",
      "metadata": {
        "id": "view-in-github",
        "colab_type": "text"
      },
      "source": [
        "<a href=\"https://colab.research.google.com/github/ConorDataHub/AI/blob/main/TestAStarAlgorithm.ipynb\" target=\"_parent\"><img src=\"https://colab.research.google.com/assets/colab-badge.svg\" alt=\"Open In Colab\"/></a>"
      ]
    },
    {
      "cell_type": "markdown",
      "source": [
        "# A * Search Algorithm\n",
        "\n",
        "- This algorithm is know as an informed search algorithm, meaning that it has a \"heuristic\" or help in finding its goal state"
      ],
      "metadata": {
        "id": "umWMuW0SeDgs"
      }
    },
    {
      "cell_type": "code",
      "execution_count": 9,
      "metadata": {
        "id": "JoO2zWQYIEKw"
      },
      "outputs": [],
      "source": [
        "# The below is a an array which contains the starting point or starting state of the algorithm. \n",
        "# The 0 is representative of a blank tile in an N-Puzzle\n",
        "# This is always the the number that will be moved to try and reach the goal state\n",
        "\n",
        "\n",
        "initial_state = [0,  3,  5,  7,\n",
        "                 1, 11, 13, 15,\n",
        "                 9,  4,  6,  8,\n",
        "                 2, 10, 12, 14]"
      ]
    },
    {
      "cell_type": "code",
      "source": [
        "# This array is the goal state\n",
        "# The goal of the algorithm is for the initial state to reach the goal state in the shortest number of moves\n",
        "\n",
        "goal_state = [1,  3,  5,  5,\n",
        "              9, 11, 13, 15,\n",
        "              2,  4,  6,  8,\n",
        "              10, 12, 14, 0]"
      ],
      "metadata": {
        "id": "AOn3wkhjQAEv"
      },
      "execution_count": 10,
      "outputs": []
    },
    {
      "cell_type": "code",
      "source": [
        "# This is the size of the list (determined by counting the numbers in the initial_state plus 1)\n",
        "size = 16  \n",
        "# Dimension is the squared root of the size - sqr(16)=4\n",
        "dimension = 4             "
      ],
      "metadata": {
        "id": "CE7B0C5RQQKm"
      },
      "execution_count": 11,
      "outputs": []
    },
    {
      "cell_type": "code",
      "source": [
        "# This function takes a state as an array \n",
        "# Its purpose is to keep the score of the number of tiles that are out of place at each stage of the algorithm\n",
        "# E.g., it will compare index[i] in the initial_state against index[i] of the goal_state and if they are not equal it will count 1 else it won't count anything\n",
        "\n",
        "\n",
        "def check_diff_score(state):        \n",
        "  diff = 0\n",
        "  for i in range(size):\n",
        "      current_item = state[i]\n",
        "      if current_item != 0 and current_item != goal_state[i]:\n",
        "          diff +=1\n",
        "  return diff\n"
      ],
      "metadata": {
        "id": "5rPpfJn8QljL"
      },
      "execution_count": 12,
      "outputs": []
    },
    {
      "cell_type": "code",
      "source": [
        "print(\"Initial State: \", initial_state)\n",
        "print(\"Goal State:    \", goal_state)\n",
        "diff = check_diff_score(initial_state)\n",
        "print(\"Numbers out of place :\", diff)"
      ],
      "metadata": {
        "colab": {
          "base_uri": "https://localhost:8080/"
        },
        "id": "K2wKpU9yR3qf",
        "outputId": "aaf23071-ceab-4441-83d2-2b73361970a0"
      },
      "execution_count": 16,
      "outputs": [
        {
          "output_type": "stream",
          "name": "stdout",
          "text": [
            "Initial State:  [0, 3, 5, 7, 1, 11, 13, 15, 9, 4, 6, 8, 2, 10, 12, 14]\n",
            "Goal State:     [1, 3, 5, 5, 9, 11, 13, 15, 2, 4, 6, 8, 10, 12, 14, 0]\n",
            "Numbers out of place : 7\n"
          ]
        }
      ]
    },
    {
      "cell_type": "code",
      "source": [
        "# Function to print states as a 4x4 matrix\n",
        "\n",
        "def print_state(state):               \n",
        "  for i in range(size):              \n",
        "    if i % dimension == 0:\n",
        "      print(\"\")                      # This gives us a new line if index = 4 (count starts from 0)\n",
        "    print(str(state[i]), \"\", end=\"\")      # Prints the current value of the state as a string\n",
        "  print(\"\\n\")\n"
      ],
      "metadata": {
        "id": "J0voqfspTVPk"
      },
      "execution_count": 40,
      "outputs": []
    },
    {
      "cell_type": "code",
      "source": [
        "# Example of the format that is printed\n",
        "print_state(initial_state) \n",
        "\n"
      ],
      "metadata": {
        "colab": {
          "base_uri": "https://localhost:8080/"
        },
        "id": "k1LNHHc9WP7d",
        "outputId": "67d67632-42a5-4434-b257-09b46f818cf3"
      },
      "execution_count": 44,
      "outputs": [
        {
          "output_type": "stream",
          "name": "stdout",
          "text": [
            "\n",
            "0 3 5 7 \n",
            "1 11 13 15 \n",
            "9 4 6 8 \n",
            "2 10 12 14 \n",
            "\n"
          ]
        }
      ]
    },
    {
      "cell_type": "code",
      "source": [
        "# These dictionaries will have the list of items inside of it \n",
        "# Every value has a key associated with it. \n",
        "# The hashing helps to reduce time complexity compared to lists O(1) v O(n)\n",
        "\n",
        "# Map the index of a 2 dimensional array to a 1 dimensional index \n",
        "matrix_to_1D_mapping = {} \n",
        "\n",
        "# Map the index of a 1 dimensional array to a 2 dimensional index         \n",
        "index_to_2D_mapping = {}                                  "
      ],
      "metadata": {
        "id": "MQKtfSMIaIXR"
      },
      "execution_count": 45,
      "outputs": []
    },
    {
      "cell_type": "code",
      "source": [
        "# This function will give us dictionary values to search the array by its 1D and 2D index\n",
        "\n",
        "index = 0\n",
        "for row in range(dimension):\n",
        "  for column in range(dimension):\n",
        "    matrix_to_1D_mapping[(row, column)] = index\n",
        "    index_to_2D_mapping[index] = (row, column)\n",
        "    index += 1\n"
      ],
      "metadata": {
        "id": "IWoFq_B8bNyC"
      },
      "execution_count": 46,
      "outputs": []
    },
    {
      "cell_type": "code",
      "source": [
        "print(matrix_to_1D_mapping)\n",
        "print(index_to_2D_mapping)"
      ],
      "metadata": {
        "colab": {
          "base_uri": "https://localhost:8080/"
        },
        "id": "NdEP2ymkcX78",
        "outputId": "559b5491-3ac2-4149-c329-d5c409e6e9a2"
      },
      "execution_count": 47,
      "outputs": [
        {
          "output_type": "stream",
          "name": "stdout",
          "text": [
            "{(0, 0): 0, (0, 1): 1, (0, 2): 2, (0, 3): 3, (1, 0): 4, (1, 1): 5, (1, 2): 6, (1, 3): 7, (2, 0): 8, (2, 1): 9, (2, 2): 10, (2, 3): 11, (3, 0): 12, (3, 1): 13, (3, 2): 14, (3, 3): 15}\n",
            "{0: (0, 0), 1: (0, 1), 2: (0, 2), 3: (0, 3), 4: (1, 0), 5: (1, 1), 6: (1, 2), 7: (1, 3), 8: (2, 0), 9: (2, 1), 10: (2, 2), 11: (2, 3), 12: (3, 0), 13: (3, 1), 14: (3, 2), 15: (3, 3)}\n"
          ]
        }
      ]
    },
    {
      "cell_type": "code",
      "source": [
        "#Function to change list to string\n",
        "def get_state_id(state):\n",
        "  string_list = []\n",
        "  for item in state:\n",
        "    string_list.append(str(item))\n",
        "  return \", \".join(str(v) for v in state)               # For every item inside the list - cast that item to a string and join with a comma - this is so we can use a string to query the dictionary"
      ],
      "metadata": {
        "id": "x7-X69nTeXAp"
      },
      "execution_count": 61,
      "outputs": []
    },
    {
      "cell_type": "code",
      "source": [
        "print(\"List of ints:\")\n",
        "print(initial_state)\n",
        "id = get_state_id(initial_state)\n",
        "print(\"Casted to String:\")\n",
        "print(id)"
      ],
      "metadata": {
        "colab": {
          "base_uri": "https://localhost:8080/"
        },
        "id": "PGajvIHjfw0_",
        "outputId": "a0ff55ef-2201-4fe9-e5a1-b0e1a27b4edd"
      },
      "execution_count": 63,
      "outputs": [
        {
          "output_type": "stream",
          "name": "stdout",
          "text": [
            "List of ints:\n",
            "[0, 3, 5, 7, 1, 11, 13, 15, 9, 4, 6, 8, 2, 10, 12, 14]\n",
            "Casted to String:\n",
            "0, 3, 5, 7, 1, 11, 13, 15, 9, 4, 6, 8, 2, 10, 12, 14\n"
          ]
        }
      ]
    },
    {
      "cell_type": "code",
      "source": [
        "def get_node_state(id):\n",
        "  state = []\n",
        "  split_list = id.split(\",\")\n",
        "  for item in split_list:\n",
        "    state.append(int(item))\n",
        "  print(split_list)\n",
        "  return state"
      ],
      "metadata": {
        "id": "qCc2VpNWg1Ex"
      },
      "execution_count": 65,
      "outputs": []
    },
    {
      "cell_type": "code",
      "source": [
        "get_node_state(\"0, 3, 5, 7, 1, 11, 13, 15, 9, 4, 6, 8, 2, 10, 12, 14\")"
      ],
      "metadata": {
        "colab": {
          "base_uri": "https://localhost:8080/"
        },
        "id": "CpZEkvfthazn",
        "outputId": "aaa39fc6-b816-49d5-8197-fd325e3577af"
      },
      "execution_count": 67,
      "outputs": [
        {
          "output_type": "stream",
          "name": "stdout",
          "text": [
            "['0', ' 3', ' 5', ' 7', ' 1', ' 11', ' 13', ' 15', ' 9', ' 4', ' 6', ' 8', ' 2', ' 10', ' 12', ' 14']\n"
          ]
        },
        {
          "output_type": "execute_result",
          "data": {
            "text/plain": [
              "[0, 3, 5, 7, 1, 11, 13, 15, 9, 4, 6, 8, 2, 10, 12, 14]"
            ]
          },
          "metadata": {},
          "execution_count": 67
        }
      ]
    },
    {
      "cell_type": "code",
      "source": [
        "# Need two lists/dictionaries, one for open nodes and one for closed nodes(nodes of previous states)\n",
        "\n",
        "opened_nodes = {}\n",
        "closed_nodes = {}\n",
        "\n",
        "# Current state is assigned the value of the initial state. The .copy method is used so that the original list will remain unchanged\n",
        "current_state = initial_state.copy()\n",
        "# Depth tracks the depths of the nodes, starting from 0\n",
        "depth = 0\n",
        "\n",
        "# This method counts the number of tiles currently out of place\n",
        "initial_score = check_diff_score(current_state)\n",
        "print(\"Initial score: \", initial_score)\n",
        "\n",
        "if(initial_score == 0):\n",
        "  print(\"Puzzle solved\")\n",
        "else:\n",
        "  pass\n"
      ],
      "metadata": {
        "colab": {
          "base_uri": "https://localhost:8080/"
        },
        "id": "9jgeVvQQkYcl",
        "outputId": "4c32a269-9cd2-420b-b421-d94f484131dc"
      },
      "execution_count": 69,
      "outputs": [
        {
          "output_type": "stream",
          "name": "stdout",
          "text": [
            "Initial score:  7\n"
          ]
        }
      ]
    }
  ]
}