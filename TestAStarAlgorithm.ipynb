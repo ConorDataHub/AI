{
  "nbformat": 4,
  "nbformat_minor": 0,
  "metadata": {
    "colab": {
      "provenance": [],
      "authorship_tag": "ABX9TyPKguZGyGbGvH3300knu1YW",
      "include_colab_link": true
    },
    "kernelspec": {
      "name": "python3",
      "display_name": "Python 3"
    },
    "language_info": {
      "name": "python"
    }
  },
  "cells": [
    {
      "cell_type": "markdown",
      "metadata": {
        "id": "view-in-github",
        "colab_type": "text"
      },
      "source": [
        "<a href=\"https://colab.research.google.com/github/ConorDataHub/AI/blob/main/TestAStarAlgorithm.ipynb\" target=\"_parent\"><img src=\"https://colab.research.google.com/assets/colab-badge.svg\" alt=\"Open In Colab\"/></a>"
      ]
    },
    {
      "cell_type": "code",
      "execution_count": 5,
      "metadata": {
        "id": "JoO2zWQYIEKw"
      },
      "outputs": [],
      "source": [
        "initial_state = [0, 3, 5, 7,\n",
        "                 1, 11, 13, 15,\n",
        "                 9, 4, 6, 8,\n",
        "                 2, 10, 12, 14]"
      ]
    },
    {
      "cell_type": "code",
      "source": [
        "goal_state = [1, 3, 5, 5,\n",
        "              9, 11, 13, 15,\n",
        "              2, 4, 6, 8,\n",
        "              10, 12, 14, 0]"
      ],
      "metadata": {
        "id": "AOn3wkhjQAEv"
      },
      "execution_count": 6,
      "outputs": []
    },
    {
      "cell_type": "code",
      "source": [
        "size = 16                 # this is the size of the list\n",
        "dimension = 4             # dimension is the total number of of elements 15+1 (square root of 16)"
      ],
      "metadata": {
        "id": "CE7B0C5RQQKm"
      },
      "execution_count": 7,
      "outputs": []
    },
    {
      "cell_type": "code",
      "source": [
        "def check_diff_score(state):        # This function takes a state as an array and its purpose is to keep the score of the number of tiles that are out of place at each stage of the algorithm\n",
        "  diff = 0\n",
        "  for i in range(size):\n",
        "      current_item = state[i]\n",
        "      if current_item != 0 and current_item != goal_state[i]:\n",
        "          diff +=1\n",
        "  return diff\n"
      ],
      "metadata": {
        "id": "5rPpfJn8QljL"
      },
      "execution_count": 8,
      "outputs": []
    },
    {
      "cell_type": "code",
      "source": [
        "print(initial_state)\n",
        "print(goal_state)\n",
        "diff = check_diff_score(initial_state)\n",
        "print(diff)"
      ],
      "metadata": {
        "colab": {
          "base_uri": "https://localhost:8080/"
        },
        "id": "K2wKpU9yR3qf",
        "outputId": "f635a77b-38a2-444d-88e8-e40add8891ac"
      },
      "execution_count": 9,
      "outputs": [
        {
          "output_type": "stream",
          "name": "stdout",
          "text": [
            "[0, 3, 5, 7, 1, 11, 13, 15, 9, 4, 6, 8, 2, 10, 12, 14]\n",
            "[1, 3, 5, 5, 9, 11, 13, 15, 2, 4, 6, 8, 10, 12, 14, 0]\n",
            "7\n"
          ]
        }
      ]
    },
    {
      "cell_type": "code",
      "source": [
        "def print_state(state):               # Function to print state as matrix\n",
        "  for i in range(size):               # Range function used to work with the array index, size is 16 which is the number of items in the states 0-15\n",
        "    if i % dimension == 0:\n",
        "      print(\"\")                      # This print statement is printed before every line\n",
        "    print(state[i], \"\", end=\"\")      # Prints the current value of the state as a string\n",
        "  print(\"\\n\")\n"
      ],
      "metadata": {
        "id": "J0voqfspTVPk"
      },
      "execution_count": 34,
      "outputs": []
    },
    {
      "cell_type": "code",
      "source": [
        "print_state(initial_state) # example of the format that is printed"
      ],
      "metadata": {
        "colab": {
          "base_uri": "https://localhost:8080/"
        },
        "id": "k1LNHHc9WP7d",
        "outputId": "93705df5-f3b7-4152-e652-a6161b644758"
      },
      "execution_count": 35,
      "outputs": [
        {
          "output_type": "stream",
          "name": "stdout",
          "text": [
            "\n",
            "0 3 5 7 \n",
            "1 11 13 15 \n",
            "9 4 6 8 \n",
            "2 10 12 14 \n",
            "\n"
          ]
        }
      ]
    },
    {
      "cell_type": "code",
      "source": [
        "# These dictionary will have the list of items inside of it - every value has a key associated with it. The hashing helps to reduce time complexity compared to lists O(1) v O(n)\n",
        "\n",
        "matrix_to_1D_mapping = {}               # mapping the index of a 2 dimensional array to a 1 dimensional index \n",
        "index_to_2D_mapping = {}                # mapping the index of a 1 dimensional array to a 2 dimensional index                           "
      ],
      "metadata": {
        "id": "MQKtfSMIaIXR"
      },
      "execution_count": 42,
      "outputs": []
    },
    {
      "cell_type": "code",
      "source": [
        "index = 0\n",
        "for row in range(dimension):\n",
        "  for column in range(dimension):\n",
        "    matrix_to_1D_mapping[(row, column)] = index\n",
        "    index_to_2D_mapping[index] = (row, column)\n",
        "    index += 1\n"
      ],
      "metadata": {
        "id": "IWoFq_B8bNyC"
      },
      "execution_count": 43,
      "outputs": []
    },
    {
      "cell_type": "code",
      "source": [
        "print(matrix_to_1D_mapping)\n",
        "print(index_to_2D_mapping)"
      ],
      "metadata": {
        "colab": {
          "base_uri": "https://localhost:8080/"
        },
        "id": "NdEP2ymkcX78",
        "outputId": "5a3743f0-0347-40a3-b21e-1864983bf547"
      },
      "execution_count": 44,
      "outputs": [
        {
          "output_type": "stream",
          "name": "stdout",
          "text": [
            "{(0, 0): 0, (0, 1): 1, (0, 2): 2, (0, 3): 3, (1, 0): 4, (1, 1): 5, (1, 2): 6, (1, 3): 7, (2, 0): 8, (2, 1): 9, (2, 2): 10, (2, 3): 11, (3, 0): 12, (3, 1): 13, (3, 2): 14, (3, 3): 15}\n",
            "{0: (0, 0), 1: (0, 1), 2: (0, 2), 3: (0, 3), 4: (1, 0), 5: (1, 1), 6: (1, 2), 7: (1, 3), 8: (2, 0), 9: (2, 1), 10: (2, 2), 11: (2, 3), 12: (3, 0), 13: (3, 1), 14: (3, 2), 15: (3, 3)}\n"
          ]
        }
      ]
    },
    {
      "cell_type": "code",
      "source": [
        "# Need to store open and closed lists\n",
        "\n",
        "#Function to change list to string\n",
        "def get_state_id(state):\n",
        "  string_list = []\n",
        "  for item in state:\n",
        "    string_list.append(str(item))\n",
        "  return \", \".join(str(v) for v in state)               # For every item inside the list - cast that item to a string and join with a comma - this is so we can use a string to query the distionary"
      ],
      "metadata": {
        "id": "x7-X69nTeXAp"
      },
      "execution_count": 61,
      "outputs": []
    },
    {
      "cell_type": "code",
      "source": [
        "print(initial_state)\n",
        "id = get_state_id(initial_state)\n",
        "print(id)"
      ],
      "metadata": {
        "colab": {
          "base_uri": "https://localhost:8080/"
        },
        "id": "PGajvIHjfw0_",
        "outputId": "b268ed5b-b135-4e3c-f47e-50b88e84899b"
      },
      "execution_count": 65,
      "outputs": [
        {
          "output_type": "stream",
          "name": "stdout",
          "text": [
            "[0, 3, 5, 7, 1, 11, 13, 15, 9, 4, 6, 8, 2, 10, 12, 14]\n",
            "['0', '3', '5', '7', '1', '11', '13', '15', '9', '4', '6', '8', '2', '10', '12', '14']\n",
            "0, 3, 5, 7, 1, 11, 13, 15, 9, 4, 6, 8, 2, 10, 12, 14\n"
          ]
        }
      ]
    },
    {
      "cell_type": "code",
      "source": [
        "def get_node_state(id):\n",
        "  state = []\n",
        "  split_list = id.split(\",\")\n",
        "  for item in split_list:\n",
        "    state.append(int(item))\n",
        "  print(split_list)\n",
        "  return state"
      ],
      "metadata": {
        "id": "qCc2VpNWg1Ex"
      },
      "execution_count": 68,
      "outputs": []
    },
    {
      "cell_type": "code",
      "source": [
        "get_node_state(\"0, 3, 5, 7, 1, 11, 13, 15, 9, 4, 6, 8, 2, 10, 12, 14\")"
      ],
      "metadata": {
        "colab": {
          "base_uri": "https://localhost:8080/"
        },
        "id": "CpZEkvfthazn",
        "outputId": "3876b892-9e50-4cc0-b326-003565d9a7d6"
      },
      "execution_count": 69,
      "outputs": [
        {
          "output_type": "stream",
          "name": "stdout",
          "text": [
            "['0', ' 3', ' 5', ' 7', ' 1', ' 11', ' 13', ' 15', ' 9', ' 4', ' 6', ' 8', ' 2', ' 10', ' 12', ' 14']\n"
          ]
        },
        {
          "output_type": "execute_result",
          "data": {
            "text/plain": [
              "[0, 3, 5, 7, 1, 11, 13, 15, 9, 4, 6, 8, 2, 10, 12, 14]"
            ]
          },
          "metadata": {},
          "execution_count": 69
        }
      ]
    },
    {
      "cell_type": "code",
      "source": [
        "# Need two lists/dictionaries, one for open nodes and one for closed nodes(nodes of previous states)\n",
        "\n",
        "opened_nodes = {}\n",
        "closed_nodes = {}\n",
        "\n",
        "# Current state is assigned the value of the initial state. The .copy method is used so that the original list will remain unchanged\n",
        "current_state = initial_state.copy()\n",
        "# Depth tracks the depths of the nodes, starting from 0\n",
        "depth = 0\n",
        "\n",
        "# This method counts the number of tiles currently out of place\n",
        "initial_score = check_diff_score(current_state)\n",
        "print(\"initial score: \", initial_score)\n",
        "\n",
        "if(initial_score == 0):\n",
        "  print(\"Puzzle solved\")\n",
        "else:\n",
        "  pass\n"
      ],
      "metadata": {
        "colab": {
          "base_uri": "https://localhost:8080/"
        },
        "id": "9jgeVvQQkYcl",
        "outputId": "761bda03-a762-4578-ff48-83908b76225c"
      },
      "execution_count": 70,
      "outputs": [
        {
          "output_type": "stream",
          "name": "stdout",
          "text": [
            "initial score:  7\n"
          ]
        }
      ]
    }
  ]
}