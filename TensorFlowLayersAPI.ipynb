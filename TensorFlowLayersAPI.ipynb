{
  "nbformat": 4,
  "nbformat_minor": 0,
  "metadata": {
    "colab": {
      "name": "TensorFlowLayersAPI.ipynb",
      "provenance": [],
      "collapsed_sections": []
    },
    "kernelspec": {
      "name": "python3",
      "display_name": "Python 3"
    },
    "language_info": {
      "name": "python"
    }
  },
  "cells": [
    {
      "cell_type": "code",
      "metadata": {
        "colab": {
          "base_uri": "https://localhost:8080/"
        },
        "id": "T0ezdH-pGDso",
        "outputId": "1a2f65d1-0ee1-4ed3-b152-fa89c9d59476"
      },
      "source": [
        "!pip install tensorflow\n",
        "!pip install tensorflow-gpu"
      ],
      "execution_count": null,
      "outputs": [
        {
          "output_type": "stream",
          "name": "stdout",
          "text": [
            "Requirement already satisfied: tensorflow in /usr/local/lib/python3.7/dist-packages (2.7.0)\n",
            "Requirement already satisfied: tensorflow-estimator<2.8,~=2.7.0rc0 in /usr/local/lib/python3.7/dist-packages (from tensorflow) (2.7.0)\n",
            "Requirement already satisfied: tensorboard~=2.6 in /usr/local/lib/python3.7/dist-packages (from tensorflow) (2.7.0)\n",
            "Requirement already satisfied: gast<0.5.0,>=0.2.1 in /usr/local/lib/python3.7/dist-packages (from tensorflow) (0.4.0)\n",
            "Requirement already satisfied: grpcio<2.0,>=1.24.3 in /usr/local/lib/python3.7/dist-packages (from tensorflow) (1.41.1)\n",
            "Requirement already satisfied: typing-extensions>=3.6.6 in /usr/local/lib/python3.7/dist-packages (from tensorflow) (3.10.0.2)\n",
            "Requirement already satisfied: absl-py>=0.4.0 in /usr/local/lib/python3.7/dist-packages (from tensorflow) (0.12.0)\n",
            "Requirement already satisfied: h5py>=2.9.0 in /usr/local/lib/python3.7/dist-packages (from tensorflow) (3.1.0)\n",
            "Requirement already satisfied: google-pasta>=0.1.1 in /usr/local/lib/python3.7/dist-packages (from tensorflow) (0.2.0)\n",
            "Requirement already satisfied: opt-einsum>=2.3.2 in /usr/local/lib/python3.7/dist-packages (from tensorflow) (3.3.0)\n",
            "Requirement already satisfied: flatbuffers<3.0,>=1.12 in /usr/local/lib/python3.7/dist-packages (from tensorflow) (2.0)\n",
            "Requirement already satisfied: astunparse>=1.6.0 in /usr/local/lib/python3.7/dist-packages (from tensorflow) (1.6.3)\n",
            "Requirement already satisfied: libclang>=9.0.1 in /usr/local/lib/python3.7/dist-packages (from tensorflow) (12.0.0)\n",
            "Requirement already satisfied: wheel<1.0,>=0.32.0 in /usr/local/lib/python3.7/dist-packages (from tensorflow) (0.37.0)\n",
            "Requirement already satisfied: tensorflow-io-gcs-filesystem>=0.21.0 in /usr/local/lib/python3.7/dist-packages (from tensorflow) (0.21.0)\n",
            "Requirement already satisfied: termcolor>=1.1.0 in /usr/local/lib/python3.7/dist-packages (from tensorflow) (1.1.0)\n",
            "Requirement already satisfied: six>=1.12.0 in /usr/local/lib/python3.7/dist-packages (from tensorflow) (1.15.0)\n",
            "Requirement already satisfied: numpy>=1.14.5 in /usr/local/lib/python3.7/dist-packages (from tensorflow) (1.19.5)\n",
            "Requirement already satisfied: protobuf>=3.9.2 in /usr/local/lib/python3.7/dist-packages (from tensorflow) (3.17.3)\n",
            "Requirement already satisfied: keras<2.8,>=2.7.0rc0 in /usr/local/lib/python3.7/dist-packages (from tensorflow) (2.7.0)\n",
            "Requirement already satisfied: keras-preprocessing>=1.1.1 in /usr/local/lib/python3.7/dist-packages (from tensorflow) (1.1.2)\n",
            "Requirement already satisfied: wrapt>=1.11.0 in /usr/local/lib/python3.7/dist-packages (from tensorflow) (1.13.3)\n",
            "Requirement already satisfied: cached-property in /usr/local/lib/python3.7/dist-packages (from h5py>=2.9.0->tensorflow) (1.5.2)\n",
            "Requirement already satisfied: werkzeug>=0.11.15 in /usr/local/lib/python3.7/dist-packages (from tensorboard~=2.6->tensorflow) (1.0.1)\n",
            "Requirement already satisfied: requests<3,>=2.21.0 in /usr/local/lib/python3.7/dist-packages (from tensorboard~=2.6->tensorflow) (2.23.0)\n",
            "Requirement already satisfied: setuptools>=41.0.0 in /usr/local/lib/python3.7/dist-packages (from tensorboard~=2.6->tensorflow) (57.4.0)\n",
            "Requirement already satisfied: tensorboard-plugin-wit>=1.6.0 in /usr/local/lib/python3.7/dist-packages (from tensorboard~=2.6->tensorflow) (1.8.0)\n",
            "Requirement already satisfied: markdown>=2.6.8 in /usr/local/lib/python3.7/dist-packages (from tensorboard~=2.6->tensorflow) (3.3.4)\n",
            "Requirement already satisfied: tensorboard-data-server<0.7.0,>=0.6.0 in /usr/local/lib/python3.7/dist-packages (from tensorboard~=2.6->tensorflow) (0.6.1)\n",
            "Requirement already satisfied: google-auth<3,>=1.6.3 in /usr/local/lib/python3.7/dist-packages (from tensorboard~=2.6->tensorflow) (1.35.0)\n",
            "Requirement already satisfied: google-auth-oauthlib<0.5,>=0.4.1 in /usr/local/lib/python3.7/dist-packages (from tensorboard~=2.6->tensorflow) (0.4.6)\n",
            "Requirement already satisfied: rsa<5,>=3.1.4 in /usr/local/lib/python3.7/dist-packages (from google-auth<3,>=1.6.3->tensorboard~=2.6->tensorflow) (4.7.2)\n",
            "Requirement already satisfied: cachetools<5.0,>=2.0.0 in /usr/local/lib/python3.7/dist-packages (from google-auth<3,>=1.6.3->tensorboard~=2.6->tensorflow) (4.2.4)\n",
            "Requirement already satisfied: pyasn1-modules>=0.2.1 in /usr/local/lib/python3.7/dist-packages (from google-auth<3,>=1.6.3->tensorboard~=2.6->tensorflow) (0.2.8)\n",
            "Requirement already satisfied: requests-oauthlib>=0.7.0 in /usr/local/lib/python3.7/dist-packages (from google-auth-oauthlib<0.5,>=0.4.1->tensorboard~=2.6->tensorflow) (1.3.0)\n",
            "Requirement already satisfied: importlib-metadata in /usr/local/lib/python3.7/dist-packages (from markdown>=2.6.8->tensorboard~=2.6->tensorflow) (4.8.1)\n",
            "Requirement already satisfied: pyasn1<0.5.0,>=0.4.6 in /usr/local/lib/python3.7/dist-packages (from pyasn1-modules>=0.2.1->google-auth<3,>=1.6.3->tensorboard~=2.6->tensorflow) (0.4.8)\n",
            "Requirement already satisfied: urllib3!=1.25.0,!=1.25.1,<1.26,>=1.21.1 in /usr/local/lib/python3.7/dist-packages (from requests<3,>=2.21.0->tensorboard~=2.6->tensorflow) (1.24.3)\n",
            "Requirement already satisfied: chardet<4,>=3.0.2 in /usr/local/lib/python3.7/dist-packages (from requests<3,>=2.21.0->tensorboard~=2.6->tensorflow) (3.0.4)\n",
            "Requirement already satisfied: certifi>=2017.4.17 in /usr/local/lib/python3.7/dist-packages (from requests<3,>=2.21.0->tensorboard~=2.6->tensorflow) (2021.10.8)\n",
            "Requirement already satisfied: idna<3,>=2.5 in /usr/local/lib/python3.7/dist-packages (from requests<3,>=2.21.0->tensorboard~=2.6->tensorflow) (2.10)\n",
            "Requirement already satisfied: oauthlib>=3.0.0 in /usr/local/lib/python3.7/dist-packages (from requests-oauthlib>=0.7.0->google-auth-oauthlib<0.5,>=0.4.1->tensorboard~=2.6->tensorflow) (3.1.1)\n",
            "Requirement already satisfied: zipp>=0.5 in /usr/local/lib/python3.7/dist-packages (from importlib-metadata->markdown>=2.6.8->tensorboard~=2.6->tensorflow) (3.6.0)\n",
            "Requirement already satisfied: tensorflow-gpu in /usr/local/lib/python3.7/dist-packages (2.7.0)\n",
            "Requirement already satisfied: keras<2.8,>=2.7.0rc0 in /usr/local/lib/python3.7/dist-packages (from tensorflow-gpu) (2.7.0)\n",
            "Requirement already satisfied: opt-einsum>=2.3.2 in /usr/local/lib/python3.7/dist-packages (from tensorflow-gpu) (3.3.0)\n",
            "Requirement already satisfied: h5py>=2.9.0 in /usr/local/lib/python3.7/dist-packages (from tensorflow-gpu) (3.1.0)\n",
            "Requirement already satisfied: google-pasta>=0.1.1 in /usr/local/lib/python3.7/dist-packages (from tensorflow-gpu) (0.2.0)\n",
            "Requirement already satisfied: typing-extensions>=3.6.6 in /usr/local/lib/python3.7/dist-packages (from tensorflow-gpu) (3.10.0.2)\n",
            "Requirement already satisfied: gast<0.5.0,>=0.2.1 in /usr/local/lib/python3.7/dist-packages (from tensorflow-gpu) (0.4.0)\n",
            "Requirement already satisfied: keras-preprocessing>=1.1.1 in /usr/local/lib/python3.7/dist-packages (from tensorflow-gpu) (1.1.2)\n",
            "Requirement already satisfied: tensorboard~=2.6 in /usr/local/lib/python3.7/dist-packages (from tensorflow-gpu) (2.7.0)\n",
            "Requirement already satisfied: protobuf>=3.9.2 in /usr/local/lib/python3.7/dist-packages (from tensorflow-gpu) (3.17.3)\n",
            "Requirement already satisfied: astunparse>=1.6.0 in /usr/local/lib/python3.7/dist-packages (from tensorflow-gpu) (1.6.3)\n",
            "Requirement already satisfied: tensorflow-estimator<2.8,~=2.7.0rc0 in /usr/local/lib/python3.7/dist-packages (from tensorflow-gpu) (2.7.0)\n",
            "Requirement already satisfied: wrapt>=1.11.0 in /usr/local/lib/python3.7/dist-packages (from tensorflow-gpu) (1.13.3)\n",
            "Requirement already satisfied: six>=1.12.0 in /usr/local/lib/python3.7/dist-packages (from tensorflow-gpu) (1.15.0)\n",
            "Requirement already satisfied: grpcio<2.0,>=1.24.3 in /usr/local/lib/python3.7/dist-packages (from tensorflow-gpu) (1.41.1)\n",
            "Requirement already satisfied: libclang>=9.0.1 in /usr/local/lib/python3.7/dist-packages (from tensorflow-gpu) (12.0.0)\n",
            "Requirement already satisfied: termcolor>=1.1.0 in /usr/local/lib/python3.7/dist-packages (from tensorflow-gpu) (1.1.0)\n",
            "Requirement already satisfied: absl-py>=0.4.0 in /usr/local/lib/python3.7/dist-packages (from tensorflow-gpu) (0.12.0)\n",
            "Requirement already satisfied: numpy>=1.14.5 in /usr/local/lib/python3.7/dist-packages (from tensorflow-gpu) (1.19.5)\n",
            "Requirement already satisfied: wheel<1.0,>=0.32.0 in /usr/local/lib/python3.7/dist-packages (from tensorflow-gpu) (0.37.0)\n",
            "Requirement already satisfied: tensorflow-io-gcs-filesystem>=0.21.0 in /usr/local/lib/python3.7/dist-packages (from tensorflow-gpu) (0.21.0)\n",
            "Requirement already satisfied: flatbuffers<3.0,>=1.12 in /usr/local/lib/python3.7/dist-packages (from tensorflow-gpu) (2.0)\n",
            "Requirement already satisfied: cached-property in /usr/local/lib/python3.7/dist-packages (from h5py>=2.9.0->tensorflow-gpu) (1.5.2)\n",
            "Requirement already satisfied: markdown>=2.6.8 in /usr/local/lib/python3.7/dist-packages (from tensorboard~=2.6->tensorflow-gpu) (3.3.4)\n",
            "Requirement already satisfied: google-auth-oauthlib<0.5,>=0.4.1 in /usr/local/lib/python3.7/dist-packages (from tensorboard~=2.6->tensorflow-gpu) (0.4.6)\n",
            "Requirement already satisfied: werkzeug>=0.11.15 in /usr/local/lib/python3.7/dist-packages (from tensorboard~=2.6->tensorflow-gpu) (1.0.1)\n",
            "Requirement already satisfied: tensorboard-plugin-wit>=1.6.0 in /usr/local/lib/python3.7/dist-packages (from tensorboard~=2.6->tensorflow-gpu) (1.8.0)\n",
            "Requirement already satisfied: setuptools>=41.0.0 in /usr/local/lib/python3.7/dist-packages (from tensorboard~=2.6->tensorflow-gpu) (57.4.0)\n",
            "Requirement already satisfied: requests<3,>=2.21.0 in /usr/local/lib/python3.7/dist-packages (from tensorboard~=2.6->tensorflow-gpu) (2.23.0)\n",
            "Requirement already satisfied: tensorboard-data-server<0.7.0,>=0.6.0 in /usr/local/lib/python3.7/dist-packages (from tensorboard~=2.6->tensorflow-gpu) (0.6.1)\n",
            "Requirement already satisfied: google-auth<3,>=1.6.3 in /usr/local/lib/python3.7/dist-packages (from tensorboard~=2.6->tensorflow-gpu) (1.35.0)\n",
            "Requirement already satisfied: cachetools<5.0,>=2.0.0 in /usr/local/lib/python3.7/dist-packages (from google-auth<3,>=1.6.3->tensorboard~=2.6->tensorflow-gpu) (4.2.4)\n",
            "Requirement already satisfied: pyasn1-modules>=0.2.1 in /usr/local/lib/python3.7/dist-packages (from google-auth<3,>=1.6.3->tensorboard~=2.6->tensorflow-gpu) (0.2.8)\n",
            "Requirement already satisfied: rsa<5,>=3.1.4 in /usr/local/lib/python3.7/dist-packages (from google-auth<3,>=1.6.3->tensorboard~=2.6->tensorflow-gpu) (4.7.2)\n",
            "Requirement already satisfied: requests-oauthlib>=0.7.0 in /usr/local/lib/python3.7/dist-packages (from google-auth-oauthlib<0.5,>=0.4.1->tensorboard~=2.6->tensorflow-gpu) (1.3.0)\n",
            "Requirement already satisfied: importlib-metadata in /usr/local/lib/python3.7/dist-packages (from markdown>=2.6.8->tensorboard~=2.6->tensorflow-gpu) (4.8.1)\n",
            "Requirement already satisfied: pyasn1<0.5.0,>=0.4.6 in /usr/local/lib/python3.7/dist-packages (from pyasn1-modules>=0.2.1->google-auth<3,>=1.6.3->tensorboard~=2.6->tensorflow-gpu) (0.4.8)\n",
            "Requirement already satisfied: certifi>=2017.4.17 in /usr/local/lib/python3.7/dist-packages (from requests<3,>=2.21.0->tensorboard~=2.6->tensorflow-gpu) (2021.10.8)\n",
            "Requirement already satisfied: chardet<4,>=3.0.2 in /usr/local/lib/python3.7/dist-packages (from requests<3,>=2.21.0->tensorboard~=2.6->tensorflow-gpu) (3.0.4)\n",
            "Requirement already satisfied: idna<3,>=2.5 in /usr/local/lib/python3.7/dist-packages (from requests<3,>=2.21.0->tensorboard~=2.6->tensorflow-gpu) (2.10)\n",
            "Requirement already satisfied: urllib3!=1.25.0,!=1.25.1,<1.26,>=1.21.1 in /usr/local/lib/python3.7/dist-packages (from requests<3,>=2.21.0->tensorboard~=2.6->tensorflow-gpu) (1.24.3)\n",
            "Requirement already satisfied: oauthlib>=3.0.0 in /usr/local/lib/python3.7/dist-packages (from requests-oauthlib>=0.7.0->google-auth-oauthlib<0.5,>=0.4.1->tensorboard~=2.6->tensorflow-gpu) (3.1.1)\n",
            "Requirement already satisfied: zipp>=0.5 in /usr/local/lib/python3.7/dist-packages (from importlib-metadata->markdown>=2.6.8->tensorboard~=2.6->tensorflow-gpu) (3.6.0)\n"
          ]
        }
      ]
    },
    {
      "cell_type": "code",
      "metadata": {
        "colab": {
          "base_uri": "https://localhost:8080/"
        },
        "id": "fvvBMvgRHVcJ",
        "outputId": "d6ce9a04-81c5-44fb-bb87-1e851a76b5df"
      },
      "source": [
        "## loading the data\n",
        "import tensorflow as tf\n",
        "import tensorflow.keras\n",
        "\n",
        "(x_train, y_train), (x_test, y_test)= tf.keras.datasets.mnist.load_data()\n",
        "x_train = x_train.reshape(len(y_train), 784)\n",
        "x_test = x_test.reshape(len(y_test), 784)\n",
        "print(\"x_train\", x_train)\n",
        "print(\"y_train\", y_train)\n",
        "print(\"x_test\", x_test)\n",
        "print(\"y_test\", y_test)\n",
        "\n"
      ],
      "execution_count": null,
      "outputs": [
        {
          "output_type": "stream",
          "name": "stdout",
          "text": [
            "x_train [[0 0 0 ... 0 0 0]\n",
            " [0 0 0 ... 0 0 0]\n",
            " [0 0 0 ... 0 0 0]\n",
            " ...\n",
            " [0 0 0 ... 0 0 0]\n",
            " [0 0 0 ... 0 0 0]\n",
            " [0 0 0 ... 0 0 0]]\n",
            "y_train [5 0 4 ... 5 6 8]\n",
            "x_test [[0 0 0 ... 0 0 0]\n",
            " [0 0 0 ... 0 0 0]\n",
            " [0 0 0 ... 0 0 0]\n",
            " ...\n",
            " [0 0 0 ... 0 0 0]\n",
            " [0 0 0 ... 0 0 0]\n",
            " [0 0 0 ... 0 0 0]]\n",
            "y_test [7 2 1 ... 4 5 6]\n"
          ]
        }
      ]
    },
    {
      "cell_type": "code",
      "metadata": {
        "colab": {
          "base_uri": "https://localhost:8080/"
        },
        "id": "HvJXP5-VVYRd",
        "outputId": "e1debfa9-37d4-4723-ec01-439590e513d8"
      },
      "source": [
        "import numpy as np\n",
        "## mean centering and normalization:\n",
        "mean_vals = np.mean(x_train, axis=0)\n",
        "std_val = np.std(x_train)\n",
        "print(mean_vals)\n",
        "print(std_val)"
      ],
      "execution_count": null,
      "outputs": [
        {
          "output_type": "stream",
          "name": "stdout",
          "text": [
            "[0.00000000e+00 0.00000000e+00 0.00000000e+00 0.00000000e+00\n",
            " 0.00000000e+00 0.00000000e+00 0.00000000e+00 0.00000000e+00\n",
            " 0.00000000e+00 0.00000000e+00 0.00000000e+00 0.00000000e+00\n",
            " 2.10000000e-03 7.83333333e-03 3.60000000e-03 1.50000000e-04\n",
            " 0.00000000e+00 0.00000000e+00 0.00000000e+00 0.00000000e+00\n",
            " 0.00000000e+00 0.00000000e+00 0.00000000e+00 0.00000000e+00\n",
            " 0.00000000e+00 0.00000000e+00 0.00000000e+00 0.00000000e+00\n",
            " 0.00000000e+00 0.00000000e+00 0.00000000e+00 0.00000000e+00\n",
            " 2.66666667e-04 9.16666667e-04 9.28333333e-03 2.42833333e-02\n",
            " 4.37166667e-02 6.41000000e-02 1.20133333e-01 1.60733333e-01\n",
            " 1.74183333e-01 1.77433333e-01 1.89316667e-01 1.74150000e-01\n",
            " 1.86933333e-01 1.53650000e-01 1.00116667e-01 7.12333333e-02\n",
            " 5.38166667e-02 2.13666667e-02 1.00833333e-02 3.53333333e-03\n",
            " 0.00000000e+00 0.00000000e+00 0.00000000e+00 0.00000000e+00\n",
            " 0.00000000e+00 0.00000000e+00 1.06666667e-03 7.00000000e-04\n",
            " 6.95000000e-03 5.48333333e-03 4.71000000e-02 1.38400000e-01\n",
            " 2.64183333e-01 5.06616667e-01 8.66800000e-01 1.29008333e+00\n",
            " 1.87035000e+00 2.52995000e+00 3.20161667e+00 3.62555000e+00\n",
            " 3.72198333e+00 3.39255000e+00 2.80293333e+00 2.04438333e+00\n",
            " 1.20211667e+00 6.33450000e-01 2.96166667e-01 9.39833333e-02\n",
            " 3.52166667e-02 8.63333333e-03 0.00000000e+00 0.00000000e+00\n",
            " 0.00000000e+00 0.00000000e+00 3.23333333e-03 5.85000000e-03\n",
            " 1.20166667e-02 6.97666667e-02 2.12083333e-01 5.46100000e-01\n",
            " 1.15441667e+00 2.21590000e+00 3.63963333e+00 5.43800000e+00\n",
            " 7.40705000e+00 9.69673333e+00 1.18830833e+01 1.32373667e+01\n",
            " 1.31246167e+01 1.18135167e+01 9.54366667e+00 6.86305000e+00\n",
            " 4.19365000e+00 2.27463333e+00 1.06103333e+00 4.13066667e-01\n",
            " 1.62083333e-01 2.77666667e-02 2.80000000e-03 0.00000000e+00\n",
            " 0.00000000e+00 6.33333333e-04 5.21666667e-03 1.43500000e-02\n",
            " 8.08833333e-02 4.10216667e-01 1.04323333e+00 2.41928333e+00\n",
            " 4.77575000e+00 8.39441667e+00 1.33102667e+01 1.94773000e+01\n",
            " 2.70366833e+01 3.52121667e+01 4.18408000e+01 4.52526000e+01\n",
            " 4.43388333e+01 3.91414500e+01 3.13282167e+01 2.29239333e+01\n",
            " 1.48310167e+01 8.66140000e+00 4.54796667e+00 2.13701667e+00\n",
            " 8.62900000e-01 2.07750000e-01 2.96500000e-02 2.03333333e-03\n",
            " 0.00000000e+00 0.00000000e+00 1.03166667e-02 6.33500000e-02\n",
            " 3.95466667e-01 1.46340000e+00 3.58778333e+00 7.22781667e+00\n",
            " 1.30171167e+01 2.12179167e+01 3.15004000e+01 4.42063667e+01\n",
            " 5.89038500e+01 7.38041500e+01 8.51027333e+01 9.05997833e+01\n",
            " 8.89239333e+01 8.01812500e+01 6.59428167e+01 4.97938333e+01\n",
            " 3.43498333e+01 2.15100000e+01 1.23903167e+01 6.63911667e+00\n",
            " 2.99271667e+00 8.43666667e-01 1.41633333e-01 4.70000000e-03\n",
            " 0.00000000e+00 1.83333333e-04 2.75000000e-02 2.21433333e-01\n",
            " 1.11951667e+00 3.28990000e+00 7.43646667e+00 1.42544333e+01\n",
            " 2.41377500e+01 3.72885167e+01 5.31154000e+01 7.09128167e+01\n",
            " 8.92784667e+01 1.06232967e+02 1.18506117e+02 1.24098150e+02\n",
            " 1.21711333e+02 1.12033333e+02 9.61081167e+01 7.51653667e+01\n",
            " 5.40371167e+01 3.53124833e+01 2.09919000e+01 1.14424333e+01\n",
            " 5.38776667e+00 1.85558333e+00 3.72700000e-01 3.03000000e-02\n",
            " 7.83333333e-04 1.97333333e-02 1.07666667e-01 5.95650000e-01\n",
            " 2.31240000e+00 5.92876667e+00 1.24360500e+01 2.24518000e+01\n",
            " 3.62947833e+01 5.38984167e+01 7.37647167e+01 9.41030833e+01\n",
            " 1.11579483e+02 1.24999917e+02 1.32759117e+02 1.35398700e+02\n",
            " 1.33338650e+02 1.26677533e+02 1.13546667e+02 9.37442667e+01\n",
            " 6.97779333e+01 4.68328833e+01 2.81439167e+01 1.52010500e+01\n",
            " 7.03366667e+00 2.58303333e+00 5.13100000e-01 3.18833333e-02\n",
            " 4.06666667e-03 5.08166667e-02 3.29366667e-01 1.31735000e+00\n",
            " 3.74813333e+00 8.48346667e+00 1.68181833e+01 2.95974000e+01\n",
            " 4.69301500e+01 6.81070000e+01 9.02913833e+01 1.08475717e+02\n",
            " 1.19435417e+02 1.23393850e+02 1.23038050e+02 1.22340650e+02\n",
            " 1.22730050e+02 1.22144100e+02 1.16260933e+02 1.00610600e+02\n",
            " 7.73180333e+01 5.28976000e+01 3.18106167e+01 1.63576667e+01\n",
            " 7.18566667e+00 2.60661667e+00 4.81583333e-01 2.71833333e-02\n",
            " 4.86666667e-03 7.94666667e-02 5.12016667e-01 1.71938333e+00\n",
            " 4.44581667e+00 9.80663333e+00 1.95264833e+01 3.45048167e+01\n",
            " 5.47009000e+01 7.81380333e+01 9.90387000e+01 1.10600467e+02\n",
            " 1.10787550e+02 1.04553617e+02 9.90472000e+01 9.93883833e+01\n",
            " 1.04333217e+02 1.10882067e+02 1.11078267e+02 9.91469167e+01\n",
            " 7.70405500e+01 5.27057667e+01 3.14484167e+01 1.53927167e+01\n",
            " 5.96113333e+00 1.89796667e+00 3.51833333e-01 2.82166667e-02\n",
            " 6.66666667e-03 9.85666667e-02 5.23033333e-01 1.67458333e+00\n",
            " 4.28908333e+00 9.87643333e+00 2.05393167e+01 3.71890333e+01\n",
            " 5.97151167e+01 8.33987333e+01 1.00225900e+02 1.03168817e+02\n",
            " 9.38921333e+01 8.29528167e+01 7.94228333e+01 8.45250167e+01\n",
            " 9.38685833e+01 1.04427533e+02 1.06281183e+02 9.42218667e+01\n",
            " 7.18490667e+01 4.83172500e+01 2.84781833e+01 1.34981667e+01\n",
            " 4.60050000e+00 1.15010000e+00 2.21833333e-01 1.87333333e-02\n",
            " 5.93333333e-03 7.64000000e-02 4.20883333e-01 1.28036667e+00\n",
            " 3.64608333e+00 9.55390000e+00 2.11332333e+01 3.98545167e+01\n",
            " 6.40892167e+01 8.72096667e+01 9.87805833e+01 9.48668500e+01\n",
            " 8.16835333e+01 7.33427667e+01 7.61450667e+01 8.54255500e+01\n",
            " 9.72928000e+01 1.07482583e+02 1.05509433e+02 8.90295000e+01\n",
            " 6.49443500e+01 4.24968833e+01 2.53411000e+01 1.25802167e+01\n",
            " 3.98988333e+00 6.04533333e-01 1.24500000e-01 8.16666667e-03\n",
            " 3.80000000e-03 4.36833333e-02 2.42033333e-01 8.78816667e-01\n",
            " 3.06883333e+00 9.60745000e+00 2.27779833e+01 4.35750333e+01\n",
            " 6.89713333e+01 9.02567000e+01 9.78938167e+01 9.10827333e+01\n",
            " 7.97067500e+01 7.93691167e+01 8.93387000e+01 1.01714517e+02\n",
            " 1.13037867e+02 1.17581100e+02 1.07426717e+02 8.45188833e+01\n",
            " 5.85871667e+01 3.82634500e+01 2.37392333e+01 1.27121000e+01\n",
            " 4.29471667e+00 4.43250000e-01 7.97833333e-02 1.01666667e-02\n",
            " 5.33333333e-04 1.82500000e-02 1.22616667e-01 6.07333333e-01\n",
            " 2.91783333e+00 1.06341667e+01 2.55538000e+01 4.75837167e+01\n",
            " 7.26322333e+01 9.16736500e+01 9.68884167e+01 9.10977333e+01\n",
            " 8.68673000e+01 9.69665500e+01 1.11371833e+02 1.23972067e+02\n",
            " 1.29806550e+02 1.26599550e+02 1.08880333e+02 8.11576333e+01\n",
            " 5.52258667e+01 3.72046000e+01 2.39728000e+01 1.36437500e+01\n",
            " 5.10268333e+00 5.84700000e-01 8.29833333e-02 1.08666667e-02\n",
            " 1.88333333e-03 8.25000000e-03 5.41666667e-02 4.66183333e-01\n",
            " 3.06558333e+00 1.23512667e+01 2.85280667e+01 5.05083833e+01\n",
            " 7.37506167e+01 9.03691833e+01 9.50769833e+01 9.32885333e+01\n",
            " 9.78289500e+01 1.15421317e+02 1.30267250e+02 1.39553600e+02\n",
            " 1.37100633e+02 1.28085750e+02 1.06994517e+02 7.95539500e+01\n",
            " 5.60965667e+01 3.89430667e+01 2.55374667e+01 1.46162500e+01\n",
            " 5.72158333e+00 8.20300000e-01 9.24500000e-02 2.21666667e-03\n",
            " 7.33333333e-04 3.86666667e-03 4.51000000e-02 5.05583333e-01\n",
            " 3.56056667e+00 1.44081500e+01 3.09883167e+01 5.12096333e+01\n",
            " 7.14404333e+01 8.57322167e+01 9.13810333e+01 9.42424333e+01\n",
            " 1.05047117e+02 1.23204200e+02 1.35689433e+02 1.39110050e+02\n",
            " 1.31804500e+02 1.21436567e+02 1.01340300e+02 7.83792667e+01\n",
            " 5.82829000e+01 4.12509333e+01 2.69801167e+01 1.48906000e+01\n",
            " 5.82828333e+00 1.07956667e+00 1.48216667e-01 1.08333333e-02\n",
            " 6.66666667e-04 3.96666667e-03 7.43333333e-02 6.22966667e-01\n",
            " 4.46996667e+00 1.65289667e+01 3.25549167e+01 4.99447333e+01\n",
            " 6.63117167e+01 7.78862667e+01 8.37070500e+01 8.94484167e+01\n",
            " 1.01136017e+02 1.15857400e+02 1.26473417e+02 1.27426650e+02\n",
            " 1.21056817e+02 1.11218100e+02 9.53723333e+01 7.73547833e+01\n",
            " 5.96073333e+01 4.20403333e+01 2.67287667e+01 1.42431167e+01\n",
            " 5.61555000e+00 1.28710000e+00 1.91500000e-01 1.23000000e-02\n",
            " 0.00000000e+00 7.28333333e-03 1.12200000e-01 9.53350000e-01\n",
            " 5.95223333e+00 1.85244000e+01 3.34512000e+01 4.81763500e+01\n",
            " 6.04605333e+01 6.92180333e+01 7.46814167e+01 8.07367000e+01\n",
            " 8.95865500e+01 1.01950417e+02 1.12616500e+02 1.15436917e+02\n",
            " 1.12244833e+02 1.04524150e+02 9.26265833e+01 7.72614833e+01\n",
            " 5.93285167e+01 4.08083000e+01 2.49427500e+01 1.28348000e+01\n",
            " 5.15665000e+00 1.41666667e+00 2.10033333e-01 8.88333333e-03\n",
            " 1.90000000e-03 5.31666667e-03 1.80500000e-01 1.52015000e+00\n",
            " 7.62145000e+00 2.04178667e+01 3.49108333e+01 4.81825667e+01\n",
            " 5.82768500e+01 6.59944667e+01 7.17466333e+01 7.65832833e+01\n",
            " 8.31222000e+01 9.51299333e+01 1.06557200e+02 1.12201383e+02\n",
            " 1.11347933e+02 1.05018283e+02 9.36185833e+01 7.66274333e+01\n",
            " 5.67010833e+01 3.77625667e+01 2.25467167e+01 1.13823333e+01\n",
            " 4.57905000e+00 1.29855000e+00 1.53933333e-01 1.21833333e-02\n",
            " 2.50000000e-04 1.21833333e-02 2.86316667e-01 2.04381667e+00\n",
            " 8.72351667e+00 2.17344667e+01 3.68331667e+01 5.09790667e+01\n",
            " 6.23501500e+01 7.12715167e+01 7.78803000e+01 8.26346667e+01\n",
            " 8.99674333e+01 1.01406317e+02 1.12445483e+02 1.17803450e+02\n",
            " 1.15924617e+02 1.07432500e+02 9.22773833e+01 7.18833000e+01\n",
            " 5.08002500e+01 3.26939667e+01 1.87729667e+01 9.15635000e+00\n",
            " 3.64005000e+00 1.06850000e+00 1.46700000e-01 6.83333333e-03\n",
            " 0.00000000e+00 1.52666667e-02 3.32000000e-01 2.25566667e+00\n",
            " 8.51305000e+00 2.06940833e+01 3.70852167e+01 5.37940333e+01\n",
            " 6.88695000e+01 8.11596000e+01 9.04059167e+01 9.78863000e+01\n",
            " 1.06734567e+02 1.17339517e+02 1.24952417e+02 1.25555750e+02\n",
            " 1.18216250e+02 1.03805833e+02 8.38763833e+01 6.12356500e+01\n",
            " 4.09525000e+01 2.49440333e+01 1.36286167e+01 6.53750000e+00\n",
            " 2.71388333e+00 7.49166667e-01 1.11683333e-01 1.68333333e-03\n",
            " 5.33333333e-04 1.27000000e-02 2.84233333e-01 1.83920000e+00\n",
            " 6.63258333e+00 1.69004833e+01 3.28094667e+01 5.15708833e+01\n",
            " 7.04237333e+01 8.72520000e+01 1.00985133e+02 1.12455750e+02\n",
            " 1.22594000e+02 1.30372300e+02 1.31844900e+02 1.24868033e+02\n",
            " 1.10025800e+02 8.94660000e+01 6.65912667e+01 4.55973833e+01\n",
            " 2.85566667e+01 1.62958167e+01 8.51148333e+00 4.10908333e+00\n",
            " 1.70298333e+00 4.43816667e-01 5.90500000e-02 6.50000000e-04\n",
            " 5.16666667e-04 9.83333333e-04 1.87083333e-01 1.08796667e+00\n",
            " 3.94443333e+00 1.08453667e+01 2.33906333e+01 4.06385333e+01\n",
            " 6.09691833e+01 8.10054000e+01 9.91114333e+01 1.13100500e+02\n",
            " 1.22524317e+02 1.25302250e+02 1.20613567e+02 1.07185867e+02\n",
            " 8.77064167e+01 6.59730500e+01 4.53337167e+01 2.87308167e+01\n",
            " 1.69034500e+01 9.16145000e+00 4.70896667e+00 2.22501667e+00\n",
            " 8.35133333e-01 1.89116667e-01 1.78333333e-02 1.20000000e-03\n",
            " 0.00000000e+00 0.00000000e+00 6.41666667e-02 4.18766667e-01\n",
            " 1.73270000e+00 5.01473333e+00 1.20309167e+01 2.39401333e+01\n",
            " 4.02565833e+01 5.88924833e+01 7.72688667e+01 9.20322000e+01\n",
            " 9.97043833e+01 9.91646667e+01 9.05921000e+01 7.55835000e+01\n",
            " 5.75861333e+01 4.01938000e+01 2.54972333e+01 1.52398333e+01\n",
            " 8.52368333e+00 4.41923333e+00 2.20506667e+00 9.81650000e-01\n",
            " 3.10366667e-01 5.79666667e-02 9.61666667e-03 0.00000000e+00\n",
            " 0.00000000e+00 0.00000000e+00 1.58500000e-02 1.22200000e-01\n",
            " 5.43633333e-01 1.60085000e+00 4.20331667e+00 9.14358333e+00\n",
            " 1.68276167e+01 2.70768167e+01 3.81033833e+01 4.70437833e+01\n",
            " 5.16087500e+01 5.09622500e+01 4.54375833e+01 3.67445333e+01\n",
            " 2.74417833e+01 1.91085833e+01 1.21141500e+01 7.21490000e+00\n",
            " 3.95933333e+00 1.99318333e+00 9.51233333e-01 3.99633333e-01\n",
            " 1.01816667e-01 2.21833333e-02 1.93333333e-03 0.00000000e+00\n",
            " 0.00000000e+00 0.00000000e+00 1.56666667e-03 1.77833333e-02\n",
            " 1.27783333e-01 4.74500000e-01 1.40550000e+00 3.18078333e+00\n",
            " 6.14340000e+00 9.82870000e+00 1.38693333e+01 1.67183333e+01\n",
            " 1.81000167e+01 1.77754000e+01 1.58076667e+01 1.31235500e+01\n",
            " 1.04980500e+01 7.79116667e+00 5.22193333e+00 3.16213333e+00\n",
            " 1.69133333e+00 8.25383333e-01 3.70583333e-01 1.39816667e-01\n",
            " 3.12666667e-02 3.56666667e-03 1.73333333e-03 0.00000000e+00\n",
            " 0.00000000e+00 0.00000000e+00 0.00000000e+00 6.33333333e-04\n",
            " 3.54500000e-02 1.63083333e-01 5.38283333e-01 1.19935000e+00\n",
            " 2.31608333e+00 3.51143333e+00 4.85021667e+00 5.98023333e+00\n",
            " 6.44481667e+00 6.25923333e+00 5.57051667e+00 4.45076667e+00\n",
            " 3.53493333e+00 2.59181667e+00 1.70116667e+00 1.00860000e+00\n",
            " 5.40283333e-01 2.38400000e-01 7.52666667e-02 1.61666667e-02\n",
            " 5.16666667e-04 9.83333333e-04 0.00000000e+00 0.00000000e+00\n",
            " 0.00000000e+00 0.00000000e+00 0.00000000e+00 0.00000000e+00\n",
            " 2.53333333e-03 1.55833333e-02 4.16333333e-02 8.92000000e-02\n",
            " 1.28216667e-01 1.96733333e-01 3.36016667e-01 4.29966667e-01\n",
            " 5.25983333e-01 5.90683333e-01 6.88033333e-01 5.92066667e-01\n",
            " 4.82733333e-01 3.43516667e-01 2.00433333e-01 8.88666667e-02\n",
            " 4.56333333e-02 1.92833333e-02 1.51166667e-02 2.00000000e-03\n",
            " 0.00000000e+00 0.00000000e+00 0.00000000e+00 0.00000000e+00]\n",
            "78.56748998339798\n"
          ]
        }
      ]
    },
    {
      "cell_type": "code",
      "metadata": {
        "colab": {
          "base_uri": "https://localhost:8080/"
        },
        "id": "Q3JfGaU9V4iM",
        "outputId": "7b065b64-347f-4bc2-9de7-5af817f712a9"
      },
      "source": [
        "X_train_centered = (x_train - mean_vals)/std_val\n",
        "X_test_centered = (x_test - mean_vals)/std_val\n",
        "print(\"X_train_centered\", X_train_centered)\n",
        "print(\"X_test_centered\",X_test_centered)\n",
        "del x_train, x_test"
      ],
      "execution_count": null,
      "outputs": [
        {
          "output_type": "stream",
          "name": "stdout",
          "text": [
            "X_train_centered [[0. 0. 0. ... 0. 0. 0.]\n",
            " [0. 0. 0. ... 0. 0. 0.]\n",
            " [0. 0. 0. ... 0. 0. 0.]\n",
            " ...\n",
            " [0. 0. 0. ... 0. 0. 0.]\n",
            " [0. 0. 0. ... 0. 0. 0.]\n",
            " [0. 0. 0. ... 0. 0. 0.]]\n",
            "X_test_centered [[0. 0. 0. ... 0. 0. 0.]\n",
            " [0. 0. 0. ... 0. 0. 0.]\n",
            " [0. 0. 0. ... 0. 0. 0.]\n",
            " ...\n",
            " [0. 0. 0. ... 0. 0. 0.]\n",
            " [0. 0. 0. ... 0. 0. 0.]\n",
            " [0. 0. 0. ... 0. 0. 0.]]\n"
          ]
        }
      ]
    },
    {
      "cell_type": "code",
      "metadata": {
        "colab": {
          "base_uri": "https://localhost:8080/"
        },
        "id": "JPUHTTZ9WRey",
        "outputId": "be21ba98-6e10-45b7-b36c-8f28e78d6c67"
      },
      "source": [
        "print(X_train_centered.shape, y_train.shape)\n",
        "print(X_test_centered.shape, y_test.shape)"
      ],
      "execution_count": null,
      "outputs": [
        {
          "output_type": "stream",
          "name": "stdout",
          "text": [
            "(60000, 784) (60000,)\n",
            "(10000, 784) (10000,)\n"
          ]
        }
      ]
    },
    {
      "cell_type": "markdown",
      "metadata": {
        "id": "opov90iyYcy4"
      },
      "source": [
        "Now we can start building our model. We will start by creating two placeholders,\n",
        "named tf_x and tf_y, and then build a Multilayer Artificial Neural Network from Scratch with three fully connected layers\n",
        "\n",
        "We will use hyperbolic tangent activation functions (tanh) in the hidden layer, we will use the softmax function in the output layer"
      ]
    },
    {
      "cell_type": "code",
      "metadata": {
        "colab": {
          "base_uri": "https://localhost:8080/"
        },
        "id": "D1gYcCGtYSix",
        "outputId": "a7728e30-87c7-44c0-8801-158ef281315d"
      },
      "source": [
        "import tensorflow.compat.v1 as tf\n",
        "tf.disable_v2_behavior() \n",
        "n_features = X_train_centered.shape[1]\n",
        "n_classes = 10\n",
        "random_seed = 123\n",
        "np.random.seed(random_seed)\n",
        "g = tf.Graph()\n",
        "with g.as_default():\n",
        "  #Creates the structure of the network\n",
        "  tf.set_random_seed(random_seed)\n",
        "  tf_x = tf.placeholder(dtype=tf.float32, shape=(None, n_features),name='tf_x')\n",
        "  tf_y = tf.placeholder(dtype=tf.int32,shape=None, name='tf_y')\n",
        "  # Generating one hot Tensor\n",
        "  # is a Tensor in which all the values at indices where i =j and i!=j is same\n",
        "  # one_hot method: This method accepts a Tensor of indices, a scalar defining depth of\n",
        "  # the one hot dimension and returns a one hot Tensor with default on value 1 \n",
        "  #and off value 0. These on and off values can be modified.\n",
        "  y_onehot = tf.one_hot(indices=tf_y, depth=n_classes)\n",
        "  h1 = tf.layers.dense(inputs=tf_x, units=50,activation=tf.tanh,name='layer1')\n",
        "  h2 = tf.layers.dense(inputs=h1, units=50,activation=tf.tanh,name='layer2')\n",
        "  logits = tf.layers.dense(inputs=h2, units=10, activation=None,name='layer3')\n",
        "  predictions = {'classes' : tf.argmax(logits, axis=1,name='predicted_classes'),'probabilities' : tf.nn.softmax(logits,name='softmax_tensor')}"
      ],
      "execution_count": null,
      "outputs": [
        {
          "output_type": "stream",
          "name": "stderr",
          "text": [
            "/usr/local/lib/python3.7/dist-packages/ipykernel_launcher.py:19: UserWarning: `tf.layers.dense` is deprecated and will be removed in a future version. Please use `tf.keras.layers.Dense` instead.\n",
            "/usr/local/lib/python3.7/dist-packages/keras/legacy_tf_layers/core.py:255: UserWarning: `layer.apply` is deprecated and will be removed in a future version. Please use `layer.__call__` method instead.\n",
            "  return layer.apply(inputs)\n",
            "/usr/local/lib/python3.7/dist-packages/ipykernel_launcher.py:20: UserWarning: `tf.layers.dense` is deprecated and will be removed in a future version. Please use `tf.keras.layers.Dense` instead.\n",
            "/usr/local/lib/python3.7/dist-packages/ipykernel_launcher.py:21: UserWarning: `tf.layers.dense` is deprecated and will be removed in a future version. Please use `tf.keras.layers.Dense` instead.\n"
          ]
        }
      ]
    },
    {
      "cell_type": "markdown",
      "metadata": {
        "id": "m1_tm591cJat"
      },
      "source": [
        "Next, we define the cost functions and add an operator for initializing the model variables as well as an optimization operator:"
      ]
    },
    {
      "cell_type": "code",
      "metadata": {
        "id": "hbJ2TYO_YbyT"
      },
      "source": [
        "## define cost function and optimizer:\n",
        "with g.as_default():\n",
        "  cost = tf.losses.softmax_cross_entropy(onehot_labels=y_onehot, logits=logits)\n",
        "  optimizer = tf.train.GradientDescentOptimizer(learning_rate=0.001)\n",
        "  train_op = optimizer.minimize(loss=cost)\n",
        "  init_op = tf.global_variables_initializer()"
      ],
      "execution_count": null,
      "outputs": []
    },
    {
      "cell_type": "markdown",
      "metadata": {
        "id": "vxV18eZLcfGM"
      },
      "source": [
        "Before we start training the network, we need a way to generate batches of data. For this, we implement the following function that returns a generator:"
      ]
    },
    {
      "cell_type": "code",
      "metadata": {
        "id": "LvjADCl4dKDr"
      },
      "source": [
        "def create_batch_generator(X, y, batch_size=128, shuffle=False):\n",
        "  X_copy = np.array(X)\n",
        "  y_copy = np.array(y)\n",
        "  if shuffle:\n",
        "    data = np.column_stack((X_copy, y_copy))\n",
        "    np.random.shuffle(data)\n",
        "    X_copy = data[:, :-1]\n",
        "    y_copy = data[:, -1].astype(int)\n",
        "\n",
        "  for i in range(0, X.shape[0], batch_size):\n",
        "    yield (X_copy[i:i+batch_size, :], y_copy[i:i+batch_size])"
      ],
      "execution_count": null,
      "outputs": []
    },
    {
      "cell_type": "markdown",
      "metadata": {
        "id": "_ESlNDNIdip5"
      },
      "source": [
        "Next, we can create a new TensorFlow session, initialize all the variables in our network, and train it. We also display the average training loss after each epoch monitors the learning process later:\n"
      ]
    },
    {
      "cell_type": "code",
      "metadata": {
        "colab": {
          "base_uri": "https://localhost:8080/"
        },
        "id": "dfU_y5kAdicW",
        "outputId": "f7ec5f95-ba98-4acd-a02d-9cbd28fb203b"
      },
      "source": [
        "## create a session to launch the graph\n",
        "sess = tf.Session(graph=g)\n",
        "## run the variable initialization operator\n",
        "sess.run(init_op)\n",
        "\n",
        "## 50 epochs of training:\n",
        "for epoch in range(50):\n",
        "  training_costs = []\n",
        "  batch_generator = create_batch_generator(X_train_centered, y_train, batch_size=64)\n",
        "  for batch_X, batch_y in batch_generator:\n",
        "    ## prepare a dict to feed data to our network:\n",
        "    feed = {tf_x:batch_X, tf_y:batch_y}\n",
        "    batch_cost = sess.run([train_op, cost], feed_dict=feed)\n",
        "    training_costs.append(batch_cost[1])\n",
        "  #print(training_costs)\n",
        "  mean_cost = float(np.mean(training_costs))\n",
        "  epoch_to_print = int(epoch) + 1\n",
        "  print(\" -- Epoch %2d Avg. Training Loss: %.4f\" % (epoch_to_print, mean_cost))\n"
      ],
      "execution_count": null,
      "outputs": [
        {
          "output_type": "stream",
          "name": "stdout",
          "text": [
            " -- Epoch  1 Avg. Training Loss: 1.5841\n",
            " -- Epoch  2 Avg. Training Loss: 0.9637\n",
            " -- Epoch  3 Avg. Training Loss: 0.7528\n",
            " -- Epoch  4 Avg. Training Loss: 0.6378\n",
            " -- Epoch  5 Avg. Training Loss: 0.5643\n",
            " -- Epoch  6 Avg. Training Loss: 0.5132\n",
            " -- Epoch  7 Avg. Training Loss: 0.4754\n",
            " -- Epoch  8 Avg. Training Loss: 0.4462\n",
            " -- Epoch  9 Avg. Training Loss: 0.4228\n",
            " -- Epoch 10 Avg. Training Loss: 0.4036\n",
            " -- Epoch 11 Avg. Training Loss: 0.3874\n",
            " -- Epoch 12 Avg. Training Loss: 0.3735\n",
            " -- Epoch 13 Avg. Training Loss: 0.3614\n",
            " -- Epoch 14 Avg. Training Loss: 0.3508\n",
            " -- Epoch 15 Avg. Training Loss: 0.3412\n",
            " -- Epoch 16 Avg. Training Loss: 0.3326\n",
            " -- Epoch 17 Avg. Training Loss: 0.3248\n",
            " -- Epoch 18 Avg. Training Loss: 0.3177\n",
            " -- Epoch 19 Avg. Training Loss: 0.3111\n",
            " -- Epoch 20 Avg. Training Loss: 0.3050\n",
            " -- Epoch 21 Avg. Training Loss: 0.2994\n",
            " -- Epoch 22 Avg. Training Loss: 0.2940\n",
            " -- Epoch 23 Avg. Training Loss: 0.2890\n",
            " -- Epoch 24 Avg. Training Loss: 0.2843\n",
            " -- Epoch 25 Avg. Training Loss: 0.2799\n",
            " -- Epoch 26 Avg. Training Loss: 0.2757\n",
            " -- Epoch 27 Avg. Training Loss: 0.2717\n",
            " -- Epoch 28 Avg. Training Loss: 0.2678\n",
            " -- Epoch 29 Avg. Training Loss: 0.2642\n",
            " -- Epoch 30 Avg. Training Loss: 0.2607\n",
            " -- Epoch 31 Avg. Training Loss: 0.2573\n",
            " -- Epoch 32 Avg. Training Loss: 0.2541\n",
            " -- Epoch 33 Avg. Training Loss: 0.2510\n",
            " -- Epoch 34 Avg. Training Loss: 0.2480\n",
            " -- Epoch 35 Avg. Training Loss: 0.2451\n",
            " -- Epoch 36 Avg. Training Loss: 0.2423\n",
            " -- Epoch 37 Avg. Training Loss: 0.2396\n",
            " -- Epoch 38 Avg. Training Loss: 0.2370\n",
            " -- Epoch 39 Avg. Training Loss: 0.2345\n",
            " -- Epoch 40 Avg. Training Loss: 0.2320\n",
            " -- Epoch 41 Avg. Training Loss: 0.2296\n",
            " -- Epoch 42 Avg. Training Loss: 0.2273\n",
            " -- Epoch 43 Avg. Training Loss: 0.2251\n",
            " -- Epoch 44 Avg. Training Loss: 0.2229\n",
            " -- Epoch 45 Avg. Training Loss: 0.2208\n",
            " -- Epoch 46 Avg. Training Loss: 0.2187\n",
            " -- Epoch 47 Avg. Training Loss: 0.2167\n",
            " -- Epoch 48 Avg. Training Loss: 0.2147\n",
            " -- Epoch 49 Avg. Training Loss: 0.2128\n",
            " -- Epoch 50 Avg. Training Loss: 0.2109\n"
          ]
        }
      ]
    },
    {
      "cell_type": "markdown",
      "metadata": {
        "id": "lhTYZ8eSlC3j"
      },
      "source": [
        "The training process may take a couple of minutes. Finally, we can use the trained model to do predictions on the test dataset:"
      ]
    },
    {
      "cell_type": "code",
      "metadata": {
        "colab": {
          "base_uri": "https://localhost:8080/"
        },
        "id": "UBvgOnEulFwi",
        "outputId": "d1cbbc10-d30f-4c2d-ffb8-5bdc5e030f44"
      },
      "source": [
        "## do prediction on the test set:\n",
        "feed = {tf_x : X_test_centered}\n",
        "y_pred = sess.run(predictions['classes'],feed_dict=feed)\n",
        "print('Test Accuracy: %.2f%%' % (100*np.sum(y_pred == y_test)/y_test.shape[0]))"
      ],
      "execution_count": null,
      "outputs": [
        {
          "output_type": "stream",
          "name": "stdout",
          "text": [
            "Test Accuracy: 93.67%\n"
          ]
        }
      ]
    },
    {
      "cell_type": "markdown",
      "metadata": {
        "id": "zm2cwnh3l5-i"
      },
      "source": [
        "We can see that by leveraging high-level APIs, we can quickly build a model and test it. Therefore, a high-level API is very useful for prototyping our ideas and quickly checking the results."
      ]
    }
  ]
}