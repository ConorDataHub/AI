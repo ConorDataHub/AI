{
  "nbformat": 4,
  "nbformat_minor": 0,
  "metadata": {
    "colab": {
      "provenance": [],
      "include_colab_link": true
    },
    "kernelspec": {
      "name": "python3",
      "display_name": "Python 3"
    },
    "language_info": {
      "name": "python"
    }
  },
  "cells": [
    {
      "cell_type": "markdown",
      "metadata": {
        "id": "view-in-github",
        "colab_type": "text"
      },
      "source": [
        "<a href=\"https://colab.research.google.com/github/ConorDataHub/AI/blob/main/Final_version_of_A_Algorithm.ipynb\" target=\"_parent\"><img src=\"https://colab.research.google.com/assets/colab-badge.svg\" alt=\"Open In Colab\"/></a>"
      ]
    },
    {
      "cell_type": "markdown",
      "source": [
        "Below are the steps of an A* search algorithm that we need to implement using Python"
      ],
      "metadata": {
        "id": "iHGmEGvFlj7g"
      }
    },
    {
      "cell_type": "markdown",
      "source": [
        "\n",
        "\n",
        "1. Initialize an empty open list to hold all the nodes that are opened so far\n",
        "2. Initialize an empty closed list to hold all the nodes that are already looked into and are not a solution node\n",
        "3. Add the initial state node to the open list\n",
        "4. While open list is not empty do,\n",
        "5. Find q which is the node with least difference score from the open list\n",
        "6. Find the children of q (Generate all the new states by moving the empty space)\n",
        "7. For each child node do,\n",
        "8. If child node is the goal state, print the node and stop\n",
        "9. Compute the f_score which is the sum of depth of the node and the difference score of the node (f_score = depth + diff_score)\n",
        "10. Check is the same node (state) is in the open list with a less f_score value. If yes, skip this child node\n",
        "11. Check if the same node (state) is in the closed list with a less f_score value. If yes, skip this child node. Else, add this node to open list\n",
        "12. End for\n",
        "13. Push q to the closed list\n",
        "14. End while\n",
        "\n"
      ],
      "metadata": {
        "id": "SqHkqcQaltbi"
      }
    },
    {
      "cell_type": "code",
      "source": [
        "# initialize the initial state of the puzzle\n",
        "initial_state = [0, 3, 5, 7,\n",
        "                 1, 11, 13, 15,\n",
        "                 9, 4, 6, 8,\n",
        "                 2, 10, 12, 14]"
      ],
      "metadata": {
        "id": "A8EyOg4uDSzZ"
      },
      "execution_count": null,
      "outputs": []
    },
    {
      "cell_type": "code",
      "source": [
        "# initialize the goal state of the puzzle\n",
        "goal_state = [1, 3, 5, 7,\n",
        "              9, 11, 13, 15,\n",
        "              2, 4, 6, 8,\n",
        "              10, 12, 14, 0]"
      ],
      "metadata": {
        "id": "jW7KUdBvPvXU"
      },
      "execution_count": null,
      "outputs": []
    },
    {
      "cell_type": "code",
      "source": [
        "# Initializing size and dimension which represents the puzzle is a 15-puzzle and the rows and columns are 4x4\n",
        "size = 16\n",
        "dimension = 4"
      ],
      "metadata": {
        "id": "_JjuTVfUP5pR"
      },
      "execution_count": null,
      "outputs": []
    },
    {
      "cell_type": "code",
      "source": [
        "# This function is used to calculate the score of a given state\n",
        "# The param that this function accept is a list that represents the 1D array of the state\n",
        "def check_diff_score(state):\n",
        "    diff = 0\n",
        "    for i in range(size): # loop through all the elements. Size is the length of the list containing our puzzle in 1D\n",
        "        current_item = state[i]\n",
        "        if current_item != 0 and current_item != goal_state[i]: # check if the current item at index i is equal to goal state item at index i\n",
        "            diff += 1\n",
        "    return diff"
      ],
      "metadata": {
        "id": "15V__QNJjE-n"
      },
      "execution_count": null,
      "outputs": []
    },
    {
      "cell_type": "code",
      "source": [
        "# This function prints the 1D array in a nice 2D way\n",
        "# The param of this function is a 1D list (state of the puzzle)\n",
        "def print_state(state):\n",
        "    for i in range(size):\n",
        "        # we need to break the printing to a new line when the dimension value reaches\n",
        "        # This dimension says that when we write the whole 1D list as a 2D matrix, we need to break the printing to a new line for every multiple of 4\n",
        "        # Therefore, after printing, it will look like a 4x4 matrix\n",
        "        if i % dimension == 0: # If the reminder of division by 4 is 0, then that is a multiple of 4\n",
        "            print(\" \") # Printing space to make the print move to the next line\n",
        "        print(state[i], \"\", end=\"\") # In this line, we print the current element in the state list and to keep it in the same line, we specify end = \"\"\n",
        "    print(\"\\n\") # Printing a new line so when we call the function again, the next matrix will be spaced from the current matrix that we printed"
      ],
      "metadata": {
        "id": "LEDat3QQjR10"
      },
      "execution_count": null,
      "outputs": []
    },
    {
      "cell_type": "code",
      "source": [
        "# We are creating a mapping dictionary. So if we query the dictionary with the key (which is the current index of 0 in our 1D list)\n",
        "# we get back the indices of the list that 0 can move to next\n",
        "mapping_dictionary = {\n",
        "    0: [1, 4],\n",
        "    1: [0, 2, 5],\n",
        "    2: [1, 3, 6],\n",
        "    3: [2, 7],\n",
        "    4: [1, 5, 8],\n",
        "    5: [1, 4, 6, 9],\n",
        "    6: [2, 5, 7, 10],\n",
        "    7: [3, 6, 11],\n",
        "    8: [4, 9, 12],\n",
        "    9: [5, 8, 10, 13],\n",
        "    10: [6, 9, 11, 14],\n",
        "    11: [7, 10, 15],\n",
        "    12: [8, 13],\n",
        "    13: [9, 12, 14],\n",
        "    14: [10, 13, 15],\n",
        "    15: [11, 14]\n",
        "}"
      ],
      "metadata": {
        "id": "JZw4l7sbjT_b"
      },
      "execution_count": null,
      "outputs": []
    },
    {
      "cell_type": "code",
      "source": [
        "# This function accepts a 1D state list as the param and returns a string which can then be used as the uniques id for that particular state\n",
        "def get_node_id_from_state(state):\n",
        "    # Since our list contains integers, we need to first convert that to a list of strings to be able to use join function. So initialize an empty list\n",
        "    string_list = []\n",
        "    # We now loop through every item currently within the 1D list\n",
        "    for item in state:\n",
        "        # we append the current item to the string_list by converting that to a string\n",
        "        string_list.append(str(item))\n",
        "    # In the end, we join the list of strings by calling the join function in python and ask it to join using a ',' \n",
        "    # so it will be easy for us to split the string later to get back the list\n",
        "    return \",\".join(string_list)"
      ],
      "metadata": {
        "id": "V_17NmHjjXt6"
      },
      "execution_count": null,
      "outputs": []
    },
    {
      "cell_type": "code",
      "source": [
        "# This function accepts a string id of a node and returns the list which represents the state of the puzzle\n",
        "def get_node_state_from_id(id):\n",
        "    # Since our state is a list of numbers, we initialize an empty list to hold the values\n",
        "    state = []\n",
        "    # First, we split the string at every , and we now have a list of strings that represents our state\n",
        "    split_list = id.split(\",\")\n",
        "    # We now loop through all the elements of the list of strings and convert the element to integer and append to the state list\n",
        "    for item in split_list:\n",
        "        state.append(int(item))\n",
        "    # In the end, we return the list of numbers which represents the state in 1D\n",
        "    return state"
      ],
      "metadata": {
        "id": "HQlWAuGRjZ3L"
      },
      "execution_count": null,
      "outputs": []
    },
    {
      "cell_type": "code",
      "source": [
        "# This function accepts the state of the puzzle as a 1D list and depth of the nodes and generate all the possible child nodes\n",
        "def open_children_nodes(state, depth):\n",
        "    # we start by creating an empty dictionary to hold the key and value of each node. In our case, the key will be the unique id that\n",
        "    # we generate using the node state and value will be its f_score\n",
        "    new_opened_nodes = {}\n",
        "    # We first find where the element 0 is within the state list\n",
        "    index = state.index(0)\n",
        "\n",
        "    # Now we check the mapping dictionary to find the possible movements of 0 within the list from where it currently is\n",
        "    moving_index_list = mapping_dictionary[index]\n",
        "\n",
        "    # We need to generate a new state for every possible new index that 0 can move.\n",
        "    # Therefore, we iterate through each moving index and generate a new state\n",
        "    for moving_index in moving_index_list:\n",
        "        # New state will initially hold a copy of the current state which is passed as a param to this function\n",
        "        new_state = state.copy()\n",
        "        # Now we simply swap the elements at the index and moving index of the copied new state\n",
        "        # To swap to positions in python, it is quite easy.\n",
        "        # We can give something like a, b = b, a where a will be swapped with b and b with a in a single line of code\n",
        "        new_state[index], new_state[moving_index] = new_state[moving_index], new_state[index]\n",
        "\n",
        "        # We use the function that we created to get the unique id for the current state\n",
        "        node_id = get_node_id_from_state(new_state)\n",
        "        # We calculate the f_score of the new state\n",
        "        f_score = depth + check_diff_score(new_state)\n",
        "        # We push the new state and its score to the opened nodes dictionary\n",
        "        new_opened_nodes[node_id] = f_score\n",
        "\n",
        "    return new_opened_nodes"
      ],
      "metadata": {
        "id": "CYOYxc86jcED"
      },
      "execution_count": null,
      "outputs": []
    },
    {
      "cell_type": "code",
      "source": [
        "# We start by creating empty dictionaries to hold the open and closed nodes\n",
        "open_nodes = {}\n",
        "closed_nodes = {}\n",
        "depth = 0 # initial depth is 0\n",
        "tries = 0 # This variable is used to know how many nodes were expanded to find the solution\n",
        "solved = False # This variable holds the state of the program which represents the puzzle is solved or not"
      ],
      "metadata": {
        "id": "BfcmN1OpjfBC"
      },
      "execution_count": null,
      "outputs": []
    },
    {
      "cell_type": "code",
      "source": [
        "# We start by copying the initial state\n",
        "current_state = initial_state.copy()\n",
        "node_id = get_node_id_from_state(current_state) # get the node id for the initial state\n",
        "open_nodes[node_id] = depth + check_diff_score(current_state) # push the initial state and its score to the open nodes dictionary"
      ],
      "metadata": {
        "id": "NtXqbf7cjiHJ"
      },
      "execution_count": null,
      "outputs": []
    },
    {
      "cell_type": "code",
      "source": [
        "# While the open nodes dictionary is not empty, do\n",
        "while len(open_nodes) > 0:\n",
        "    tries += 1 # increment the value of tries\n",
        "    depth += 1\n",
        "    next_best_node = next(iter(open_nodes)) # get the next key from the open nodes dictionary. This will be the one with the least f_score as this dictionary is sorted\n",
        "    depth_score = open_nodes.pop(next_best_node, None) # get the depth score of the node and pop that from the dictionary\n",
        "    next_best_node_state = get_node_state_from_id(next_best_node) # convert the id to state\n",
        "    print_state(next_best_node_state)\n",
        "\n",
        "    # If the depth score is None that means no element was popped out of the dictionary and the puzzle cannot be solved as no item was found on the dictionary\n",
        "    if depth_score == None:\n",
        "        print(\"Unsolvable puzzle\")\n",
        "        break\n",
        "\n",
        "\n",
        "    opened_children_nodes = open_children_nodes(next_best_node_state, depth) # we pass in the best node state and its depth to get all the children nodes associated with it\n",
        "    \n",
        "    # Now we loop through all the keys within the opened children nodes where each key represents the node id\n",
        "    for node_id in opened_children_nodes:\n",
        "        node = get_node_state_from_id(node_id) # Here we get the node 1D list state from the node id\n",
        "        score = check_diff_score(node) # We find the score of the child node\n",
        "\n",
        "        # If the score of the child node is 0, that means it is a solution node. So, we print the node and stop the program\n",
        "        if score == 0:\n",
        "            print(\"Solved in \" + str(tries) + \" steps\")\n",
        "            print_state(node)\n",
        "            solved = True # set to True so outside the for loop we can check for this value\n",
        "            break # break out of the for loop\n",
        "\n",
        "        # We get the f_score of the current child node from the children dictionary that we got\n",
        "        f_score = opened_children_nodes[node_id]\n",
        "\n",
        "        # We use a try-except program block to see if the current child node id is already present in the open_nodes dictionary\n",
        "        # The reason why we use a try-except is that whenever we query a dictionary with a key that is not present, the code will throw an exception\n",
        "        # If we use a try-except block, the code will not break. Instead the program goes to the except block and continue execution\n",
        "        # This is the behaviour we want here. If a particular key is missing in the dictionary, that means that node is not visited yet. so we don't need to compare its f_score\n",
        "        # If the node key is present, we query the score out of the dictionary\n",
        "        try:\n",
        "            opened_node_score = open_nodes[node_id] # We try to query the f_score of the item in the dictionary with the key 'node_id'\n",
        "            # If the node in the open list has less score than the current child node, that means, we have already seen the same puzzle state on a less depth state and it is better than the current child node\n",
        "            if opened_node_score < f_score:\n",
        "                continue # If that is the case, we just skip this child node\n",
        "        except: # If the above query fails, the code will jump to except block and since we don't want to do anything specific here, we can just pass the code block\n",
        "            pass\n",
        "\n",
        "        # The same method we used above is replicated to the closed_nodes as well\n",
        "        try:\n",
        "            closed_node_score = closed_nodes[node_id]\n",
        "            if closed_node_score < f_score:\n",
        "                continue\n",
        "        except:\n",
        "            pass\n",
        "\n",
        "        # If the child node is still better than the ones in the open and closed dictionaries or if we didn't find a node with the child node's state id\n",
        "        # we add that to the open list\n",
        "        open_nodes[node_id] = f_score\n",
        "    # Outside the for loop we first check if the solved state has been set to True by any child state value\n",
        "    # If so, we break out of the while loop\n",
        "    if solved == True:\n",
        "        break\n",
        "\n",
        "    # If the puzzle is not solved yet, we need to push the current q (the node that we found the children of) to the closed nodes dictionary\n",
        "    closed_nodes[next_best_node] = depth_score\n",
        "    \n",
        "    # To get the node with the least score always in the beginning of the while loop, we need to sort it when we add more nodes.\n",
        "    \n",
        "    # (NOTE: A simple example of this sorting is shown with example on a below code block)\n",
        "    \n",
        "    # To sort, we initialize an empty dictionary\n",
        "    sorted_open_nodes = {}\n",
        "    \n",
        "    open_node_items = open_nodes.items() # Get all items of a dictionary as a list of tuples with key and value\n",
        "    \n",
        "    sorted_node_items_list = sorted(\n",
        "            open_node_items,\n",
        "            key=lambda item: item[1] # 1 because we need to solve based on the value\n",
        "          )\n",
        "    \n",
        "    for key, value in sorted_node_items_list: # This loop will split the list item (which is a tuple) into key and value (key will be the first item of the tuple and value will be the second item of the tuple)\n",
        "      sorted_open_nodes[key] = value\n",
        "\n",
        "    # We reassign the open_nodes to hold the sorted_open_nodes dictionary which is sorted\n",
        "    open_nodes = sorted_open_nodes"
      ],
      "metadata": {
        "colab": {
          "base_uri": "https://localhost:8080/"
        },
        "id": "MbWgYRlxjrH4",
        "outputId": "2e59f672-099b-42b8-bcd3-3cd19a11f3cc"
      },
      "execution_count": null,
      "outputs": [
        {
          "output_type": "stream",
          "name": "stdout",
          "text": [
            " \n",
            "0 3 5 7  \n",
            "1 11 13 15  \n",
            "9 4 6 8  \n",
            "2 10 12 14 \n",
            "\n",
            " \n",
            "1 3 5 7  \n",
            "0 11 13 15  \n",
            "9 4 6 8  \n",
            "2 10 12 14 \n",
            "\n",
            " \n",
            "1 3 5 7  \n",
            "9 11 13 15  \n",
            "0 4 6 8  \n",
            "2 10 12 14 \n",
            "\n",
            " \n",
            "1 3 5 7  \n",
            "9 11 13 15  \n",
            "2 4 6 8  \n",
            "0 10 12 14 \n",
            "\n",
            " \n",
            "1 3 5 7  \n",
            "9 11 13 15  \n",
            "2 4 6 8  \n",
            "10 0 12 14 \n",
            "\n",
            " \n",
            "1 3 5 7  \n",
            "9 11 13 15  \n",
            "2 4 6 8  \n",
            "10 12 0 14 \n",
            "\n",
            "Solved in 6 steps\n",
            " \n",
            "1 3 5 7  \n",
            "9 11 13 15  \n",
            "2 4 6 8  \n",
            "10 12 14 0 \n",
            "\n"
          ]
        }
      ]
    },
    {
      "cell_type": "code",
      "source": [
        "if solved == False:\n",
        "    print(\"Puzzle cannot be solved\")\n",
        "\n",
        "# A* algorithm ends here"
      ],
      "metadata": {
        "id": "IWSJ9C2fj0J2"
      },
      "execution_count": null,
      "outputs": []
    },
    {
      "cell_type": "code",
      "source": [
        "# Dictionary sorting example\n",
        "dictionary = {\n",
        "    'a': 4,\n",
        "    'b': 2,\n",
        "    'c': 1,\n",
        "    'd': 5\n",
        "}\n",
        "\n",
        "dictionary_items = dictionary.items() # This will get the items of a dictionary as a list of tuples with key and value\n",
        "print(dictionary_items)\n",
        "\n",
        "sorted_list = sorted(\n",
        "            dictionary_items,\n",
        "            key=lambda item: item[1] # 1 since we need to solve based on the value\n",
        "        )\n",
        "print(sorted_list)\n",
        "\n",
        "sorted_dictionary = {}\n",
        "for key, value in sorted_list: # This loop will split the list item (which is a tuple) into key and value (key will be the first item of the tuple and value will be the second item of the tuple)\n",
        "  print(key, value)\n",
        "  sorted_dictionary[key] = value\n",
        "print(sorted_dictionary)"
      ],
      "metadata": {
        "colab": {
          "base_uri": "https://localhost:8080/"
        },
        "id": "HXbd7A1_HIL_",
        "outputId": "acf6550b-f349-4834-8fbb-3b5bcdce5a67"
      },
      "execution_count": null,
      "outputs": [
        {
          "output_type": "stream",
          "name": "stdout",
          "text": [
            "dict_items([('a', 4), ('b', 2), ('c', 1), ('d', 5)])\n",
            "[('c', 1), ('b', 2), ('a', 4), ('d', 5)]\n",
            "c 1\n",
            "b 2\n",
            "a 4\n",
            "d 5\n",
            "{'c': 1, 'b': 2, 'a': 4, 'd': 5}\n"
          ]
        }
      ]
    }
  ]
}