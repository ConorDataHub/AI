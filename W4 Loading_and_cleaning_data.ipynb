{
  "nbformat": 4,
  "nbformat_minor": 0,
  "metadata": {
    "kernelspec": {
      "display_name": "Python 3",
      "language": "python",
      "name": "python3"
    },
    "language_info": {
      "codemirror_mode": {
        "name": "ipython",
        "version": 3
      },
      "file_extension": ".py",
      "mimetype": "text/x-python",
      "name": "python",
      "nbconvert_exporter": "python",
      "pygments_lexer": "ipython3",
      "version": "3.7.4"
    },
    "colab": {
      "name": "Loading and cleaning data.ipynb",
      "provenance": [],
      "collapsed_sections": []
    }
  },
  "cells": [
    {
      "cell_type": "markdown",
      "metadata": {
        "id": "BGmBRkeMBJxe"
      },
      "source": [
        "# Perform Imports and Load Data\n",
        "For this exercise we'll be using the **SMSSpamCollection** dataset from [UCI datasets](https://archive.ics.uci.edu/ml/datasets/SMS+Spam+Collection) that contains more than 5 thousand SMS phone messages.\n",
        "\n",
        "The file is a tab-separated-values (tsv) file with 2 columns:\n",
        "<br><br>\n",
        "**label** - every message is labeled as either ***ham*** or ***spam***<br>\n",
        "**message** - the text message<br>\n",
        "\n",
        "Later in this tutorial we'll add 2 additional columns to see if they can help us distinguish between **HAM** and **SPAM**.\n",
        "\n",
        "\n",
        "**length** - the number of characters in each text message<br>\n",
        "**punct** - the number of punctuation characters in each text message"
      ]
    },
    {
      "cell_type": "markdown",
      "metadata": {
        "id": "bVKWt1meBJxi"
      },
      "source": [
        "Firstly we need to import the csv files into Python. We'll use the `pandas` library to read the csv file and to perform some general manipulation of the csv file contents.\n",
        "\n",
        "Before you import the csv file, download the compressed file **SMSSpamCollection.zip** from Blackboard and then extract the contents of it to the working folder of your program code. In this example, a new folder called **SMSSpamCollection is created in my working directory folder. This folder contains a ** readme** file and the `tsv file` called **SMSSpamCollection**."
      ]
    },
    {
      "cell_type": "code",
      "metadata": {
        "id": "jqqTHIo2BJxj"
      },
      "source": [
        "import numpy as np\n",
        "import pandas as pd\n",
        "import io"
      ],
      "execution_count": null,
      "outputs": []
    },
    {
      "cell_type": "code",
      "metadata": {
        "colab": {
          "resources": {
            "http://localhost:8080/nbextensions/google.colab/files.js": {
              "data": "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",
              "ok": true,
              "headers": [
                [
                  "content-type",
                  "application/javascript"
                ]
              ],
              "status": 200,
              "status_text": ""
            }
          },
          "base_uri": "https://localhost:8080/",
          "height": 72
        },
        "id": "MYvvt3v8BJxk",
        "outputId": "f2577d23-2f22-4acd-a510-8f24304a3833"
      },
      "source": [
        "# Read tsv file into a dataframe object\n",
        "# Press tab to check you are in the correct folder location and to browse\n",
        "# to the tsv file\n",
        "# The sep command indicates this files is separated by tabs\n",
        "from google.colab import files\n",
        "uploaded = files.upload()\n",
        "# Read tsv file into a dataframe object\n",
        "# Press tab to check you are in the correct folder location and to browse\n",
        "# to the tsv file\n",
        "# The sep command indicates this files is separated by tabs\n",
        "dataframe = pd.read_csv(io.BytesIO(uploaded['SMSSpamCollection.tsv']), sep=\"\\t\")"
      ],
      "execution_count": null,
      "outputs": [
        {
          "output_type": "display_data",
          "data": {
            "text/html": [
              "\n",
              "     <input type=\"file\" id=\"files-afa6b51d-ad1d-4d30-9a1f-6d4c51cd567b\" name=\"files[]\" multiple disabled\n",
              "        style=\"border:none\" />\n",
              "     <output id=\"result-afa6b51d-ad1d-4d30-9a1f-6d4c51cd567b\">\n",
              "      Upload widget is only available when the cell has been executed in the\n",
              "      current browser session. Please rerun this cell to enable.\n",
              "      </output>\n",
              "      <script src=\"/nbextensions/google.colab/files.js\"></script> "
            ],
            "text/plain": [
              "<IPython.core.display.HTML object>"
            ]
          },
          "metadata": {
            "tags": []
          }
        },
        {
          "output_type": "stream",
          "text": [
            "Saving SMSSpamCollection.tsv to SMSSpamCollection (1).tsv\n"
          ],
          "name": "stdout"
        }
      ]
    },
    {
      "cell_type": "code",
      "metadata": {
        "colab": {
          "base_uri": "https://localhost:8080/",
          "height": 204
        },
        "id": "AQeqXhNKBJxl",
        "outputId": "ff88baf1-7c6d-40d2-c2f8-5523285f8e56"
      },
      "source": [
        "# Show first 5 rows of dataframe\n",
        "dataframe.head()"
      ],
      "execution_count": null,
      "outputs": [
        {
          "output_type": "execute_result",
          "data": {
            "text/html": [
              "<div>\n",
              "<style scoped>\n",
              "    .dataframe tbody tr th:only-of-type {\n",
              "        vertical-align: middle;\n",
              "    }\n",
              "\n",
              "    .dataframe tbody tr th {\n",
              "        vertical-align: top;\n",
              "    }\n",
              "\n",
              "    .dataframe thead th {\n",
              "        text-align: right;\n",
              "    }\n",
              "</style>\n",
              "<table border=\"1\" class=\"dataframe\">\n",
              "  <thead>\n",
              "    <tr style=\"text-align: right;\">\n",
              "      <th></th>\n",
              "      <th>label</th>\n",
              "      <th>message</th>\n",
              "    </tr>\n",
              "  </thead>\n",
              "  <tbody>\n",
              "    <tr>\n",
              "      <th>0</th>\n",
              "      <td>ham</td>\n",
              "      <td>Go until jurong point, crazy.. Available only ...</td>\n",
              "    </tr>\n",
              "    <tr>\n",
              "      <th>1</th>\n",
              "      <td>ham</td>\n",
              "      <td>Ok lar... Joking wif u oni...</td>\n",
              "    </tr>\n",
              "    <tr>\n",
              "      <th>2</th>\n",
              "      <td>spam</td>\n",
              "      <td>Free entry in 2 a wkly comp to win FA Cup fina...</td>\n",
              "    </tr>\n",
              "    <tr>\n",
              "      <th>3</th>\n",
              "      <td>ham</td>\n",
              "      <td>U dun say so early hor... U c already then say...</td>\n",
              "    </tr>\n",
              "    <tr>\n",
              "      <th>4</th>\n",
              "      <td>ham</td>\n",
              "      <td>Nah I don't think he goes to usf, he lives aro...</td>\n",
              "    </tr>\n",
              "  </tbody>\n",
              "</table>\n",
              "</div>"
            ],
            "text/plain": [
              "  label                                            message\n",
              "0   ham  Go until jurong point, crazy.. Available only ...\n",
              "1   ham                      Ok lar... Joking wif u oni...\n",
              "2  spam  Free entry in 2 a wkly comp to win FA Cup fina...\n",
              "3   ham  U dun say so early hor... U c already then say...\n",
              "4   ham  Nah I don't think he goes to usf, he lives aro..."
            ]
          },
          "metadata": {
            "tags": []
          },
          "execution_count": 19
        }
      ]
    },
    {
      "cell_type": "markdown",
      "metadata": {
        "id": "sqHWbAn0BJxm"
      },
      "source": [
        "One of the methods we could use to determine whether a text message is **HAM** or **SPAM** is through examination of the length of characters in each line of text.\n",
        "\n",
        "Let's create a loop that uses a list to contain the number of characters within each line. then we'll add the lenght to the end of each row in the dataframe."
      ]
    },
    {
      "cell_type": "code",
      "metadata": {
        "id": "79C3y4auBJxm"
      },
      "source": [
        "message_length_col = []\n",
        "for index, row in dataframe.iterrows():\n",
        "    length_message_text = len(row.message)\n",
        "    # add the length of each message to list\n",
        "    message_length_col.append(length_message_text)"
      ],
      "execution_count": null,
      "outputs": []
    },
    {
      "cell_type": "code",
      "metadata": {
        "colab": {
          "base_uri": "https://localhost:8080/"
        },
        "id": "JX8BM5HrBJxn",
        "outputId": "39b46736-b7c2-4587-84c0-99ef02954bcf"
      },
      "source": [
        "# Show message length col contents\n",
        "message_length_col"
      ],
      "execution_count": null,
      "outputs": [
        {
          "output_type": "execute_result",
          "data": {
            "text/plain": [
              "[111,\n",
              " 29,\n",
              " 155,\n",
              " 49,\n",
              " 61,\n",
              " 147,\n",
              " 77,\n",
              " 160,\n",
              " 157,\n",
              " 154,\n",
              " 109,\n",
              " 136,\n",
              " 155,\n",
              " 196,\n",
              " 35,\n",
              " 149,\n",
              " 26,\n",
              " 81,\n",
              " 56,\n",
              " 155,\n",
              " 41,\n",
              " 47,\n",
              " 52,\n",
              " 88,\n",
              " 57,\n",
              " 144,\n",
              " 30,\n",
              " 134,\n",
              " 75,\n",
              " 64,\n",
              " 130,\n",
              " 189,\n",
              " 29,\n",
              " 84,\n",
              " 158,\n",
              " 122,\n",
              " 47,\n",
              " 28,\n",
              " 27,\n",
              " 155,\n",
              " 82,\n",
              " 142,\n",
              " 172,\n",
              " 19,\n",
              " 72,\n",
              " 32,\n",
              " 45,\n",
              " 31,\n",
              " 67,\n",
              " 148,\n",
              " 58,\n",
              " 124,\n",
              " 80,\n",
              " 289,\n",
              " 120,\n",
              " 76,\n",
              " 161,\n",
              " 34,\n",
              " 22,\n",
              " 40,\n",
              " 108,\n",
              " 48,\n",
              " 25,\n",
              " 56,\n",
              " 110,\n",
              " 152,\n",
              " 122,\n",
              " 159,\n",
              " 78,\n",
              " 34,\n",
              " 46,\n",
              " 29,\n",
              " 45,\n",
              " 42,\n",
              " 20,\n",
              " 43,\n",
              " 73,\n",
              " 50,\n",
              " 42,\n",
              " 76,\n",
              " 22,\n",
              " 32,\n",
              " 32,\n",
              " 36,\n",
              " 14,\n",
              " 55,\n",
              " 121,\n",
              " 144,\n",
              " 42,\n",
              " 41,\n",
              " 58,\n",
              " 195,\n",
              " 141,\n",
              " 137,\n",
              " 107,\n",
              " 158,\n",
              " 33,\n",
              " 51,\n",
              " 178,\n",
              " 31,\n",
              " 57,\n",
              " 81,\n",
              " 76,\n",
              " 160,\n",
              " 183,\n",
              " 44,\n",
              " 95,\n",
              " 43,\n",
              " 82,\n",
              " 115,\n",
              " 30,\n",
              " 40,\n",
              " 31,\n",
              " 96,\n",
              " 158,\n",
              " 143,\n",
              " 156,\n",
              " 152,\n",
              " 72,\n",
              " 86,\n",
              " 144,\n",
              " 156,\n",
              " 53,\n",
              " 156,\n",
              " 52,\n",
              " 38,\n",
              " 20,\n",
              " 244,\n",
              " 22,\n",
              " 107,\n",
              " 28,\n",
              " 9,\n",
              " 39,\n",
              " 25,\n",
              " 125,\n",
              " 162,\n",
              " 38,\n",
              " 34,\n",
              " 46,\n",
              " 155,\n",
              " 85,\n",
              " 33,\n",
              " 27,\n",
              " 156,\n",
              " 42,\n",
              " 25,\n",
              " 48,\n",
              " 159,\n",
              " 84,\n",
              " 33,\n",
              " 30,\n",
              " 45,\n",
              " 59,\n",
              " 25,\n",
              " 160,\n",
              " 384,\n",
              " 28,\n",
              " 27,\n",
              " 157,\n",
              " 124,\n",
              " 145,\n",
              " 115,\n",
              " 64,\n",
              " 85,\n",
              " 152,\n",
              " 155,\n",
              " 51,\n",
              " 156,\n",
              " 74,\n",
              " 67,\n",
              " 59,\n",
              " 50,\n",
              " 94,\n",
              " 33,\n",
              " 105,\n",
              " 61,\n",
              " 65,\n",
              " 26,\n",
              " 146,\n",
              " 66,\n",
              " 126,\n",
              " 159,\n",
              " 23,\n",
              " 65,\n",
              " 24,\n",
              " 26,\n",
              " 152,\n",
              " 34,\n",
              " 147,\n",
              " 55,\n",
              " 88,\n",
              " 72,\n",
              " 185,\n",
              " 37,\n",
              " 111,\n",
              " 92,\n",
              " 28,\n",
              " 28,\n",
              " 64,\n",
              " 131,\n",
              " 40,\n",
              " 28,\n",
              " 84,\n",
              " 174,\n",
              " 24,\n",
              " 25,\n",
              " 63,\n",
              " 156,\n",
              " 28,\n",
              " 86,\n",
              " 39,\n",
              " 73,\n",
              " 26,\n",
              " 23,\n",
              " 23,\n",
              " 31,\n",
              " 58,\n",
              " 48,\n",
              " 41,\n",
              " 32,\n",
              " 159,\n",
              " 25,\n",
              " 161,\n",
              " 22,\n",
              " 119,\n",
              " 142,\n",
              " 69,\n",
              " 137,\n",
              " 30,\n",
              " 165,\n",
              " 34,\n",
              " 109,\n",
              " 37,\n",
              " 33,\n",
              " 48,\n",
              " 157,\n",
              " 50,\n",
              " 65,\n",
              " 38,\n",
              " 145,\n",
              " 145,\n",
              " 51,\n",
              " 45,\n",
              " 83,\n",
              " 155,\n",
              " 37,\n",
              " 78,\n",
              " 30,\n",
              " 31,\n",
              " 146,\n",
              " 150,\n",
              " 44,\n",
              " 179,\n",
              " 27,\n",
              " 179,\n",
              " 38,\n",
              " 97,\n",
              " 43,\n",
              " 36,\n",
              " 154,\n",
              " 72,\n",
              " 3,\n",
              " 85,\n",
              " 51,\n",
              " 121,\n",
              " 26,\n",
              " 35,\n",
              " 47,\n",
              " 159,\n",
              " 47,\n",
              " 133,\n",
              " 53,\n",
              " 147,\n",
              " 155,\n",
              " 37,\n",
              " 31,\n",
              " 8,\n",
              " 38,\n",
              " 30,\n",
              " 47,\n",
              " 56,\n",
              " 22,\n",
              " 141,\n",
              " 29,\n",
              " 7,\n",
              " 121,\n",
              " 58,\n",
              " 4,\n",
              " 148,\n",
              " 160,\n",
              " 152,\n",
              " 37,\n",
              " 55,\n",
              " 21,\n",
              " 22,\n",
              " 50,\n",
              " 159,\n",
              " 67,\n",
              " 153,\n",
              " 51,\n",
              " 67,\n",
              " 88,\n",
              " 157,\n",
              " 91,\n",
              " 24,\n",
              " 146,\n",
              " 57,\n",
              " 26,\n",
              " 71,\n",
              " 138,\n",
              " 55,\n",
              " 156,\n",
              " 133,\n",
              " 119,\n",
              " 142,\n",
              " 41,\n",
              " 26,\n",
              " 119,\n",
              " 46,\n",
              " 157,\n",
              " 23,\n",
              " 51,\n",
              " 62,\n",
              " 107,\n",
              " 157,\n",
              " 30,\n",
              " 32,\n",
              " 31,\n",
              " 79,\n",
              " 32,\n",
              " 86,\n",
              " 22,\n",
              " 76,\n",
              " 128,\n",
              " 232,\n",
              " 158,\n",
              " 45,\n",
              " 57,\n",
              " 26,\n",
              " 22,\n",
              " 41,\n",
              " 28,\n",
              " 151,\n",
              " 29,\n",
              " 34,\n",
              " 52,\n",
              " 33,\n",
              " 85,\n",
              " 31,\n",
              " 111,\n",
              " 78,\n",
              " 50,\n",
              " 63,\n",
              " 148,\n",
              " 129,\n",
              " 45,\n",
              " 202,\n",
              " 150,\n",
              " 148,\n",
              " 168,\n",
              " 85,\n",
              " 38,\n",
              " 15,\n",
              " 31,\n",
              " 88,\n",
              " 160,\n",
              " 50,\n",
              " 165,\n",
              " 129,\n",
              " 26,\n",
              " 31,\n",
              " 129,\n",
              " 34,\n",
              " 54,\n",
              " 162,\n",
              " 157,\n",
              " 23,\n",
              " 53,\n",
              " 131,\n",
              " 36,\n",
              " 143,\n",
              " 300,\n",
              " 59,\n",
              " 42,\n",
              " 41,\n",
              " 149,\n",
              " 22,\n",
              " 31,\n",
              " 30,\n",
              " 155,\n",
              " 47,\n",
              " 25,\n",
              " 80,\n",
              " 22,\n",
              " 115,\n",
              " 56,\n",
              " 102,\n",
              " 118,\n",
              " 221,\n",
              " 204,\n",
              " 114,\n",
              " 156,\n",
              " 39,\n",
              " 36,\n",
              " 48,\n",
              " 77,\n",
              " 60,\n",
              " 168,\n",
              " 51,\n",
              " 22,\n",
              " 152,\n",
              " 75,\n",
              " 30,\n",
              " 95,\n",
              " 24,\n",
              " 49,\n",
              " 35,\n",
              " 29,\n",
              " 106,\n",
              " 66,\n",
              " 159,\n",
              " 48,\n",
              " 162,\n",
              " 24,\n",
              " 136,\n",
              " 248,\n",
              " 25,\n",
              " 27,\n",
              " 37,\n",
              " 68,\n",
              " 150,\n",
              " 24,\n",
              " 80,\n",
              " 157,\n",
              " 25,\n",
              " 73,\n",
              " 89,\n",
              " 58,\n",
              " 36,\n",
              " 76,\n",
              " 47,\n",
              " 104,\n",
              " 38,\n",
              " 69,\n",
              " 22,\n",
              " 119,\n",
              " 94,\n",
              " 70,\n",
              " 73,\n",
              " 42,\n",
              " 17,\n",
              " 13,\n",
              " 45,\n",
              " 57,\n",
              " 105,\n",
              " 162,\n",
              " 47,\n",
              " 115,\n",
              " 158,\n",
              " 79,\n",
              " 142,\n",
              " 62,\n",
              " 71,\n",
              " 175,\n",
              " 29,\n",
              " 29,\n",
              " 148,\n",
              " 83,\n",
              " 37,\n",
              " 44,\n",
              " 45,\n",
              " 161,\n",
              " 50,\n",
              " 298,\n",
              " 159,\n",
              " 125,\n",
              " 51,\n",
              " 28,\n",
              " 34,\n",
              " 46,\n",
              " 81,\n",
              " 28,\n",
              " 90,\n",
              " 18,\n",
              " 54,\n",
              " 55,\n",
              " 45,\n",
              " 146,\n",
              " 40,\n",
              " 107,\n",
              " 50,\n",
              " 120,\n",
              " 160,\n",
              " 32,\n",
              " 34,\n",
              " 32,\n",
              " 16,\n",
              " 67,\n",
              " 55,\n",
              " 43,\n",
              " 23,\n",
              " 149,\n",
              " 20,\n",
              " 23,\n",
              " 40,\n",
              " 169,\n",
              " 117,\n",
              " 62,\n",
              " 166,\n",
              " 24,\n",
              " 136,\n",
              " 99,\n",
              " 45,\n",
              " 23,\n",
              " 25,\n",
              " 147,\n",
              " 26,\n",
              " 146,\n",
              " 89,\n",
              " 168,\n",
              " 117,\n",
              " 46,\n",
              " 26,\n",
              " 28,\n",
              " 32,\n",
              " 144,\n",
              " 57,\n",
              " 158,\n",
              " 42,\n",
              " 111,\n",
              " 36,\n",
              " 146,\n",
              " 50,\n",
              " 33,\n",
              " 15,\n",
              " 177,\n",
              " 160,\n",
              " 63,\n",
              " 84,\n",
              " 84,\n",
              " 57,\n",
              " 96,\n",
              " 169,\n",
              " 76,\n",
              " 47,\n",
              " 130,\n",
              " 23,\n",
              " 149,\n",
              " 32,\n",
              " 22,\n",
              " 101,\n",
              " 281,\n",
              " 54,\n",
              " 120,\n",
              " 138,\n",
              " 127,\n",
              " 66,\n",
              " 40,\n",
              " 40,\n",
              " 70,\n",
              " 160,\n",
              " 26,\n",
              " 32,\n",
              " 51,\n",
              " 159,\n",
              " 146,\n",
              " 103,\n",
              " 45,\n",
              " 142,\n",
              " 92,\n",
              " 26,\n",
              " 134,\n",
              " 37,\n",
              " 22,\n",
              " 22,\n",
              " 33,\n",
              " 69,\n",
              " 109,\n",
              " 35,\n",
              " 99,\n",
              " 140,\n",
              " 50,\n",
              " 46,\n",
              " 149,\n",
              " 63,\n",
              " 95,\n",
              " 69,\n",
              " 110,\n",
              " 51,\n",
              " 27,\n",
              " 34,\n",
              " 126,\n",
              " 142,\n",
              " 148,\n",
              " 24,\n",
              " 147,\n",
              " 24,\n",
              " 29,\n",
              " 86,\n",
              " 87,\n",
              " 38,\n",
              " 104,\n",
              " 59,\n",
              " 38,\n",
              " 38,\n",
              " 22,\n",
              " 25,\n",
              " 135,\n",
              " 87,\n",
              " 19,\n",
              " 66,\n",
              " 140,\n",
              " 156,\n",
              " 22,\n",
              " 107,\n",
              " 65,\n",
              " 145,\n",
              " 137,\n",
              " 25,\n",
              " 59,\n",
              " 103,\n",
              " 37,\n",
              " 58,\n",
              " 87,\n",
              " 58,\n",
              " 123,\n",
              " 67,\n",
              " 66,\n",
              " 102,\n",
              " 130,\n",
              " 148,\n",
              " 35,\n",
              " 8,\n",
              " 62,\n",
              " 56,\n",
              " 143,\n",
              " 20,\n",
              " 100,\n",
              " 49,\n",
              " 36,\n",
              " 53,\n",
              " 88,\n",
              " 133,\n",
              " 36,\n",
              " 37,\n",
              " 123,\n",
              " 92,\n",
              " 80,\n",
              " 136,\n",
              " 35,\n",
              " 97,\n",
              " 66,\n",
              " 119,\n",
              " 65,\n",
              " 26,\n",
              " 28,\n",
              " 45,\n",
              " 157,\n",
              " 36,\n",
              " 94,\n",
              " 59,\n",
              " 140,\n",
              " 22,\n",
              " 56,\n",
              " 43,\n",
              " 61,\n",
              " 56,\n",
              " 54,\n",
              " 37,\n",
              " 25,\n",
              " 21,\n",
              " 36,\n",
              " 93,\n",
              " 153,\n",
              " 153,\n",
              " 46,\n",
              " 34,\n",
              " 80,\n",
              " 69,\n",
              " 24,\n",
              " 108,\n",
              " 46,\n",
              " 29,\n",
              " 22,\n",
              " 158,\n",
              " 86,\n",
              " 30,\n",
              " 143,\n",
              " 169,\n",
              " 42,\n",
              " 111,\n",
              " 18,\n",
              " 109,\n",
              " 76,\n",
              " 73,\n",
              " 92,\n",
              " 36,\n",
              " 54,\n",
              " 76,\n",
              " 29,\n",
              " 40,\n",
              " 28,\n",
              " 22,\n",
              " 77,\n",
              " 109,\n",
              " 75,\n",
              " 76,\n",
              " 30,\n",
              " 49,\n",
              " 155,\n",
              " 160,\n",
              " 316,\n",
              " 195,\n",
              " 37,\n",
              " 125,\n",
              " 48,\n",
              " 39,\n",
              " 161,\n",
              " 121,\n",
              " 145,\n",
              " 162,\n",
              " 29,\n",
              " 38,\n",
              " 25,\n",
              " 40,\n",
              " 226,\n",
              " 70,\n",
              " 140,\n",
              " 47,\n",
              " 63,\n",
              " 17,\n",
              " 101,\n",
              " 41,\n",
              " 80,\n",
              " 137,\n",
              " 103,\n",
              " 29,\n",
              " 51,\n",
              " 148,\n",
              " 25,\n",
              " 149,\n",
              " 38,\n",
              " 62,\n",
              " 179,\n",
              " 34,\n",
              " 47,\n",
              " 40,\n",
              " 110,\n",
              " 131,\n",
              " 101,\n",
              " 42,\n",
              " 102,\n",
              " 65,\n",
              " 27,\n",
              " 31,\n",
              " 82,\n",
              " 23,\n",
              " 59,\n",
              " 133,\n",
              " 33,\n",
              " 95,\n",
              " 95,\n",
              " 135,\n",
              " 159,\n",
              " 151,\n",
              " 73,\n",
              " 149,\n",
              " 103,\n",
              " 22,\n",
              " 51,\n",
              " 137,\n",
              " 58,\n",
              " 89,\n",
              " 81,\n",
              " 57,\n",
              " 26,\n",
              " 32,\n",
              " 145,\n",
              " 118,\n",
              " 143,\n",
              " 23,\n",
              " 136,\n",
              " 94,\n",
              " 8,\n",
              " 99,\n",
              " 65,\n",
              " 71,\n",
              " 117,\n",
              " 129,\n",
              " 157,\n",
              " 28,\n",
              " 150,\n",
              " 31,\n",
              " 71,\n",
              " 70,\n",
              " 94,\n",
              " 48,\n",
              " 160,\n",
              " 94,\n",
              " 31,\n",
              " 39,\n",
              " 152,\n",
              " 71,\n",
              " 162,\n",
              " 141,\n",
              " 25,\n",
              " 22,\n",
              " 48,\n",
              " 33,\n",
              " 44,\n",
              " 47,\n",
              " 26,\n",
              " 112,\n",
              " 148,\n",
              " 19,\n",
              " 133,\n",
              " 48,\n",
              " 107,\n",
              " 38,\n",
              " 27,\n",
              " 124,\n",
              " 131,\n",
              " 23,\n",
              " 156,\n",
              " 161,\n",
              " 25,\n",
              " 42,\n",
              " 27,\n",
              " 22,\n",
              " 98,\n",
              " 89,\n",
              " 147,\n",
              " 129,\n",
              " 152,\n",
              " 215,\n",
              " 26,\n",
              " 66,\n",
              " 149,\n",
              " 372,\n",
              " 155,\n",
              " 160,\n",
              " 81,\n",
              " 73,\n",
              " 76,\n",
              " 153,\n",
              " 24,\n",
              " 231,\n",
              " 87,\n",
              " 72,\n",
              " 105,\n",
              " 158,\n",
              " 54,\n",
              " 58,\n",
              " 54,\n",
              " 114,\n",
              " 88,\n",
              " 144,\n",
              " 29,\n",
              " 136,\n",
              " 23,\n",
              " 39,\n",
              " 35,\n",
              " 24,\n",
              " 95,\n",
              " 73,\n",
              " 45,\n",
              " 160,\n",
              " 159,\n",
              " 149,\n",
              " 134,\n",
              " 154,\n",
              " 92,\n",
              " 102,\n",
              " 31,\n",
              " 77,\n",
              " 139,\n",
              " 156,\n",
              " 44,\n",
              " 136,\n",
              " 132,\n",
              " 143,\n",
              " 127,\n",
              " 276,\n",
              " 78,\n",
              " 27,\n",
              " 79,\n",
              " 24,\n",
              " 52,\n",
              " 68,\n",
              " 24,\n",
              " 44,\n",
              " 24,\n",
              " 55,\n",
              " 62,\n",
              " 104,\n",
              " 87,\n",
              " 148,\n",
              " 49,\n",
              " 154,\n",
              " 56,\n",
              " 158,\n",
              " 126,\n",
              " 43,\n",
              " 77,\n",
              " 49,\n",
              " 84,\n",
              " 49,\n",
              " 162,\n",
              " 79,\n",
              " 31,\n",
              " 155,\n",
              " 146,\n",
              " 23,\n",
              " 160,\n",
              " 62,\n",
              " 39,\n",
              " 67,\n",
              " 73,\n",
              " 148,\n",
              " 88,\n",
              " 37,\n",
              " 23,\n",
              " 56,\n",
              " 53,\n",
              " 73,\n",
              " 80,\n",
              " 44,\n",
              " 92,\n",
              " 35,\n",
              " 23,\n",
              " 139,\n",
              " 106,\n",
              " 103,\n",
              " 34,\n",
              " 77,\n",
              " 158,\n",
              " 26,\n",
              " 47,\n",
              " 24,\n",
              " 148,\n",
              " 133,\n",
              " 126,\n",
              " 78,\n",
              " 132,\n",
              " 116,\n",
              " 221,\n",
              " 59,\n",
              " 137,\n",
              " 143,\n",
              " 24,\n",
              " 38,\n",
              " 42,\n",
              " 24,\n",
              " 157,\n",
              " 47,\n",
              " 41,\n",
              " 122,\n",
              " 126,\n",
              " 26,\n",
              " 114,\n",
              " 7,\n",
              " 34,\n",
              " 156,\n",
              " 92,\n",
              " 90,\n",
              " 22,\n",
              " 85,\n",
              " 63,\n",
              " 220,\n",
              " 41,\n",
              " 60,\n",
              " 88,\n",
              " 31,\n",
              " 37,\n",
              " 28,\n",
              " 24,\n",
              " 118,\n",
              " 22,\n",
              " 210,\n",
              " 50,\n",
              " 49,\n",
              " 87,\n",
              " 61,\n",
              " 141,\n",
              " 54,\n",
              " 28,\n",
              " 49,\n",
              " 53,\n",
              " 145,\n",
              " 160,\n",
              " 53,\n",
              " 12,\n",
              " 142,\n",
              " 71,\n",
              " 129,\n",
              " 33,\n",
              " 47,\n",
              " 72,\n",
              " 148,\n",
              " 104,\n",
              " ...]"
            ]
          },
          "metadata": {
            "tags": []
          },
          "execution_count": 21
        }
      ]
    },
    {
      "cell_type": "markdown",
      "metadata": {
        "id": "87wOJ3YCBJxo"
      },
      "source": [
        "Next we'll add this list to the dataframe. I'm also inserting this data under the column heading **length**.\n",
        "\n",
        "See this link for further information \n",
        "https://www.geeksforgeeks.org/adding-new-column-to-existing-dataframe-in-pandas/"
      ]
    },
    {
      "cell_type": "code",
      "metadata": {
        "id": "zHEWBJqTBJxo"
      },
      "source": [
        "# now we'll add the contents of this list to a new column\n",
        "# called \"length\" to the end of our dataframe\n",
        "# See https://www.geeksforgeeks.org/adding-new-column-to-existing-dataframe-in-pandas/\n",
        "dataframe['length'] = message_length_col"
      ],
      "execution_count": null,
      "outputs": []
    },
    {
      "cell_type": "code",
      "metadata": {
        "colab": {
          "base_uri": "https://localhost:8080/",
          "height": 204
        },
        "id": "G3uHdLg_BJxp",
        "outputId": "863c7d7d-6ede-4b10-fd81-a2f06a66c9bd"
      },
      "source": [
        "# Lets look at the top of the datagrame\n",
        "dataframe.head()"
      ],
      "execution_count": null,
      "outputs": [
        {
          "output_type": "execute_result",
          "data": {
            "text/html": [
              "<div>\n",
              "<style scoped>\n",
              "    .dataframe tbody tr th:only-of-type {\n",
              "        vertical-align: middle;\n",
              "    }\n",
              "\n",
              "    .dataframe tbody tr th {\n",
              "        vertical-align: top;\n",
              "    }\n",
              "\n",
              "    .dataframe thead th {\n",
              "        text-align: right;\n",
              "    }\n",
              "</style>\n",
              "<table border=\"1\" class=\"dataframe\">\n",
              "  <thead>\n",
              "    <tr style=\"text-align: right;\">\n",
              "      <th></th>\n",
              "      <th>label</th>\n",
              "      <th>message</th>\n",
              "      <th>length</th>\n",
              "    </tr>\n",
              "  </thead>\n",
              "  <tbody>\n",
              "    <tr>\n",
              "      <th>0</th>\n",
              "      <td>ham</td>\n",
              "      <td>Go until jurong point, crazy.. Available only ...</td>\n",
              "      <td>111</td>\n",
              "    </tr>\n",
              "    <tr>\n",
              "      <th>1</th>\n",
              "      <td>ham</td>\n",
              "      <td>Ok lar... Joking wif u oni...</td>\n",
              "      <td>29</td>\n",
              "    </tr>\n",
              "    <tr>\n",
              "      <th>2</th>\n",
              "      <td>spam</td>\n",
              "      <td>Free entry in 2 a wkly comp to win FA Cup fina...</td>\n",
              "      <td>155</td>\n",
              "    </tr>\n",
              "    <tr>\n",
              "      <th>3</th>\n",
              "      <td>ham</td>\n",
              "      <td>U dun say so early hor... U c already then say...</td>\n",
              "      <td>49</td>\n",
              "    </tr>\n",
              "    <tr>\n",
              "      <th>4</th>\n",
              "      <td>ham</td>\n",
              "      <td>Nah I don't think he goes to usf, he lives aro...</td>\n",
              "      <td>61</td>\n",
              "    </tr>\n",
              "  </tbody>\n",
              "</table>\n",
              "</div>"
            ],
            "text/plain": [
              "  label                                            message  length\n",
              "0   ham  Go until jurong point, crazy.. Available only ...     111\n",
              "1   ham                      Ok lar... Joking wif u oni...      29\n",
              "2  spam  Free entry in 2 a wkly comp to win FA Cup fina...     155\n",
              "3   ham  U dun say so early hor... U c already then say...      49\n",
              "4   ham  Nah I don't think he goes to usf, he lives aro...      61"
            ]
          },
          "metadata": {
            "tags": []
          },
          "execution_count": 23
        }
      ]
    },
    {
      "cell_type": "code",
      "metadata": {
        "colab": {
          "base_uri": "https://localhost:8080/",
          "height": 204
        },
        "id": "_ULts3ysBJxq",
        "outputId": "e1830ffd-0701-4b61-d9cf-647eee645f8d"
      },
      "source": [
        "dataframe.tail()\n",
        "#dataframe.tail()"
      ],
      "execution_count": null,
      "outputs": [
        {
          "output_type": "execute_result",
          "data": {
            "text/html": [
              "<div>\n",
              "<style scoped>\n",
              "    .dataframe tbody tr th:only-of-type {\n",
              "        vertical-align: middle;\n",
              "    }\n",
              "\n",
              "    .dataframe tbody tr th {\n",
              "        vertical-align: top;\n",
              "    }\n",
              "\n",
              "    .dataframe thead th {\n",
              "        text-align: right;\n",
              "    }\n",
              "</style>\n",
              "<table border=\"1\" class=\"dataframe\">\n",
              "  <thead>\n",
              "    <tr style=\"text-align: right;\">\n",
              "      <th></th>\n",
              "      <th>label</th>\n",
              "      <th>message</th>\n",
              "      <th>length</th>\n",
              "    </tr>\n",
              "  </thead>\n",
              "  <tbody>\n",
              "    <tr>\n",
              "      <th>5567</th>\n",
              "      <td>spam</td>\n",
              "      <td>This is the 2nd time we have tried 2 contact u...</td>\n",
              "      <td>160</td>\n",
              "    </tr>\n",
              "    <tr>\n",
              "      <th>5568</th>\n",
              "      <td>ham</td>\n",
              "      <td>Will ü b going to esplanade fr home?</td>\n",
              "      <td>36</td>\n",
              "    </tr>\n",
              "    <tr>\n",
              "      <th>5569</th>\n",
              "      <td>ham</td>\n",
              "      <td>Pity, * was in mood for that. So...any other s...</td>\n",
              "      <td>57</td>\n",
              "    </tr>\n",
              "    <tr>\n",
              "      <th>5570</th>\n",
              "      <td>ham</td>\n",
              "      <td>The guy did some bitching but I acted like i'd...</td>\n",
              "      <td>125</td>\n",
              "    </tr>\n",
              "    <tr>\n",
              "      <th>5571</th>\n",
              "      <td>ham</td>\n",
              "      <td>Rofl. Its true to its name</td>\n",
              "      <td>26</td>\n",
              "    </tr>\n",
              "  </tbody>\n",
              "</table>\n",
              "</div>"
            ],
            "text/plain": [
              "     label                                            message  length\n",
              "5567  spam  This is the 2nd time we have tried 2 contact u...     160\n",
              "5568   ham               Will ü b going to esplanade fr home?      36\n",
              "5569   ham  Pity, * was in mood for that. So...any other s...      57\n",
              "5570   ham  The guy did some bitching but I acted like i'd...     125\n",
              "5571   ham                         Rofl. Its true to its name      26"
            ]
          },
          "metadata": {
            "tags": []
          },
          "execution_count": 24
        }
      ]
    },
    {
      "cell_type": "markdown",
      "metadata": {
        "id": "Xzs_HVq6BJxq"
      },
      "source": [
        "## Check for missing values:\n",
        "Machine learning models usually require complete data. Here's a quick method that allows us to evaluate if there are any missing values in our dataset. How you should deal with missing data is an entire topic area on its own."
      ]
    },
    {
      "cell_type": "code",
      "metadata": {
        "colab": {
          "base_uri": "https://localhost:8080/",
          "height": 419
        },
        "id": "c3djiSbnBJxr",
        "outputId": "7f67d733-2fd3-4002-dd89-226428de4e9b"
      },
      "source": [
        "dataframe.isnull()"
      ],
      "execution_count": null,
      "outputs": [
        {
          "output_type": "execute_result",
          "data": {
            "text/html": [
              "<div>\n",
              "<style scoped>\n",
              "    .dataframe tbody tr th:only-of-type {\n",
              "        vertical-align: middle;\n",
              "    }\n",
              "\n",
              "    .dataframe tbody tr th {\n",
              "        vertical-align: top;\n",
              "    }\n",
              "\n",
              "    .dataframe thead th {\n",
              "        text-align: right;\n",
              "    }\n",
              "</style>\n",
              "<table border=\"1\" class=\"dataframe\">\n",
              "  <thead>\n",
              "    <tr style=\"text-align: right;\">\n",
              "      <th></th>\n",
              "      <th>label</th>\n",
              "      <th>message</th>\n",
              "      <th>length</th>\n",
              "    </tr>\n",
              "  </thead>\n",
              "  <tbody>\n",
              "    <tr>\n",
              "      <th>0</th>\n",
              "      <td>False</td>\n",
              "      <td>False</td>\n",
              "      <td>False</td>\n",
              "    </tr>\n",
              "    <tr>\n",
              "      <th>1</th>\n",
              "      <td>False</td>\n",
              "      <td>False</td>\n",
              "      <td>False</td>\n",
              "    </tr>\n",
              "    <tr>\n",
              "      <th>2</th>\n",
              "      <td>False</td>\n",
              "      <td>False</td>\n",
              "      <td>False</td>\n",
              "    </tr>\n",
              "    <tr>\n",
              "      <th>3</th>\n",
              "      <td>False</td>\n",
              "      <td>False</td>\n",
              "      <td>False</td>\n",
              "    </tr>\n",
              "    <tr>\n",
              "      <th>4</th>\n",
              "      <td>False</td>\n",
              "      <td>False</td>\n",
              "      <td>False</td>\n",
              "    </tr>\n",
              "    <tr>\n",
              "      <th>...</th>\n",
              "      <td>...</td>\n",
              "      <td>...</td>\n",
              "      <td>...</td>\n",
              "    </tr>\n",
              "    <tr>\n",
              "      <th>5567</th>\n",
              "      <td>False</td>\n",
              "      <td>False</td>\n",
              "      <td>False</td>\n",
              "    </tr>\n",
              "    <tr>\n",
              "      <th>5568</th>\n",
              "      <td>False</td>\n",
              "      <td>False</td>\n",
              "      <td>False</td>\n",
              "    </tr>\n",
              "    <tr>\n",
              "      <th>5569</th>\n",
              "      <td>False</td>\n",
              "      <td>False</td>\n",
              "      <td>False</td>\n",
              "    </tr>\n",
              "    <tr>\n",
              "      <th>5570</th>\n",
              "      <td>False</td>\n",
              "      <td>False</td>\n",
              "      <td>False</td>\n",
              "    </tr>\n",
              "    <tr>\n",
              "      <th>5571</th>\n",
              "      <td>False</td>\n",
              "      <td>False</td>\n",
              "      <td>False</td>\n",
              "    </tr>\n",
              "  </tbody>\n",
              "</table>\n",
              "<p>5572 rows × 3 columns</p>\n",
              "</div>"
            ],
            "text/plain": [
              "      label  message  length\n",
              "0     False    False   False\n",
              "1     False    False   False\n",
              "2     False    False   False\n",
              "3     False    False   False\n",
              "4     False    False   False\n",
              "...     ...      ...     ...\n",
              "5567  False    False   False\n",
              "5568  False    False   False\n",
              "5569  False    False   False\n",
              "5570  False    False   False\n",
              "5571  False    False   False\n",
              "\n",
              "[5572 rows x 3 columns]"
            ]
          },
          "metadata": {
            "tags": []
          },
          "execution_count": 25
        }
      ]
    },
    {
      "cell_type": "markdown",
      "metadata": {
        "id": "VZ__RGDiBJxr"
      },
      "source": [
        "And we can summarise this data using the `.sum()` command. The summary shows that we don't have any missing values in the dataset."
      ]
    },
    {
      "cell_type": "code",
      "metadata": {
        "colab": {
          "base_uri": "https://localhost:8080/"
        },
        "id": "mFarhTH-BJxs",
        "outputId": "d4e09a8b-9873-43fe-e0d1-7af6a900748c"
      },
      "source": [
        "# A \"1\" indicates missing data\n",
        "dataframe.isnull().sum()"
      ],
      "execution_count": null,
      "outputs": [
        {
          "output_type": "execute_result",
          "data": {
            "text/plain": [
              "label      0\n",
              "message    0\n",
              "length     0\n",
              "dtype: int64"
            ]
          },
          "metadata": {
            "tags": []
          },
          "execution_count": 26
        }
      ]
    },
    {
      "cell_type": "code",
      "metadata": {
        "colab": {
          "base_uri": "https://localhost:8080/"
        },
        "id": "2hiTKYdhBJxs",
        "outputId": "10eb9f9d-b108-41a5-b8de-289e265caf63"
      },
      "source": [
        "# Show length of messages we have in the dataframe\n",
        "len(dataframe)"
      ],
      "execution_count": null,
      "outputs": [
        {
          "output_type": "execute_result",
          "data": {
            "text/plain": [
              "5572"
            ]
          },
          "metadata": {
            "tags": []
          },
          "execution_count": 27
        }
      ]
    },
    {
      "cell_type": "markdown",
      "metadata": {
        "id": "-2AkCzLYBJxt"
      },
      "source": [
        "Lets examine how many **HAM** and **SPAM** messages we have"
      ]
    },
    {
      "cell_type": "code",
      "metadata": {
        "colab": {
          "base_uri": "https://localhost:8080/"
        },
        "id": "_wFKvUGkBJxt",
        "outputId": "73cca5de-c4bd-4a59-d7f0-b465f374005c"
      },
      "source": [
        "dataframe['label'].value_counts()"
      ],
      "execution_count": null,
      "outputs": [
        {
          "output_type": "execute_result",
          "data": {
            "text/plain": [
              "ham     4825\n",
              "spam     747\n",
              "Name: label, dtype: int64"
            ]
          },
          "metadata": {
            "tags": []
          },
          "execution_count": 28
        }
      ]
    },
    {
      "cell_type": "markdown",
      "metadata": {
        "id": "NcBsSZwYBJxt"
      },
      "source": [
        "## Visualise the length data:\n",
        "Since we're not ready to do anything with the semantics of the message text just yet, let's see if we can predict **ham** and **Spam** labels based on message length count. We'll look at message `length` column for this.\n",
        "\n",
        "Lets look at descriptive statistics that summarise the central tendency, dispersion and shape of a dataset’s distribution, excluding NaN values. See this link for more information\n",
        "\n",
        "https://pandas.pydata.org/pandas-docs/stable/reference/api/pandas.DataFrame.describe.html"
      ]
    },
    {
      "cell_type": "code",
      "metadata": {
        "colab": {
          "base_uri": "https://localhost:8080/"
        },
        "id": "K0-Wu6Q7BJxu",
        "outputId": "24480c9f-20f2-458a-e062-a4c38e835857"
      },
      "source": [
        "dataframe[\"length\"].describe()"
      ],
      "execution_count": null,
      "outputs": [
        {
          "output_type": "execute_result",
          "data": {
            "text/plain": [
              "count    5572.000000\n",
              "mean       80.489950\n",
              "std        59.942907\n",
              "min         2.000000\n",
              "25%        36.000000\n",
              "50%        62.000000\n",
              "75%       122.000000\n",
              "max       910.000000\n",
              "Name: length, dtype: float64"
            ]
          },
          "metadata": {
            "tags": []
          },
          "execution_count": 12
        }
      ]
    },
    {
      "cell_type": "markdown",
      "metadata": {
        "id": "3LDhpZcRBJxv"
      },
      "source": [
        "We can see that the **length** data is skewed since the mean text length is 80 characters, but the maximum text length is 910 characters.\n",
        "\n",
        "Lets see what the descriptive statistics look like for messages identified as **ham** within the dataset."
      ]
    },
    {
      "cell_type": "code",
      "metadata": {
        "id": "QEyxmSQ1BJxv"
      },
      "source": [
        "ham_data = []\n",
        "spam_data = []\n",
        "for index, row in dataframe.iterrows():\n",
        "    # If the label data is recognised to be \"ham\"\n",
        "    if row[\"label\"] == \"ham\":\n",
        "        ham_data.append(row)\n",
        "    else:\n",
        "        spam_data.append(row)\n",
        "\n",
        "# Convert list to a dataframe before performing descriptive statistics on it\n",
        "ham_dataframe = pd.DataFrame(ham_data)\n",
        "spam_dataframe = pd.DataFrame(spam_data)"
      ],
      "execution_count": null,
      "outputs": []
    },
    {
      "cell_type": "code",
      "metadata": {
        "colab": {
          "base_uri": "https://localhost:8080/",
          "height": 204
        },
        "id": "8-qb73jCBJxw",
        "outputId": "3e5a03d9-d7d1-49b1-d055-60e8c55df1f7"
      },
      "source": [
        "ham_dataframe.head()"
      ],
      "execution_count": null,
      "outputs": [
        {
          "output_type": "execute_result",
          "data": {
            "text/html": [
              "<div>\n",
              "<style scoped>\n",
              "    .dataframe tbody tr th:only-of-type {\n",
              "        vertical-align: middle;\n",
              "    }\n",
              "\n",
              "    .dataframe tbody tr th {\n",
              "        vertical-align: top;\n",
              "    }\n",
              "\n",
              "    .dataframe thead th {\n",
              "        text-align: right;\n",
              "    }\n",
              "</style>\n",
              "<table border=\"1\" class=\"dataframe\">\n",
              "  <thead>\n",
              "    <tr style=\"text-align: right;\">\n",
              "      <th></th>\n",
              "      <th>label</th>\n",
              "      <th>message</th>\n",
              "      <th>length</th>\n",
              "    </tr>\n",
              "  </thead>\n",
              "  <tbody>\n",
              "    <tr>\n",
              "      <th>0</th>\n",
              "      <td>ham</td>\n",
              "      <td>Go until jurong point, crazy.. Available only ...</td>\n",
              "      <td>111</td>\n",
              "    </tr>\n",
              "    <tr>\n",
              "      <th>1</th>\n",
              "      <td>ham</td>\n",
              "      <td>Ok lar... Joking wif u oni...</td>\n",
              "      <td>29</td>\n",
              "    </tr>\n",
              "    <tr>\n",
              "      <th>3</th>\n",
              "      <td>ham</td>\n",
              "      <td>U dun say so early hor... U c already then say...</td>\n",
              "      <td>49</td>\n",
              "    </tr>\n",
              "    <tr>\n",
              "      <th>4</th>\n",
              "      <td>ham</td>\n",
              "      <td>Nah I don't think he goes to usf, he lives aro...</td>\n",
              "      <td>61</td>\n",
              "    </tr>\n",
              "    <tr>\n",
              "      <th>6</th>\n",
              "      <td>ham</td>\n",
              "      <td>Even my brother is not like to speak with me. ...</td>\n",
              "      <td>77</td>\n",
              "    </tr>\n",
              "  </tbody>\n",
              "</table>\n",
              "</div>"
            ],
            "text/plain": [
              "  label                                            message  length\n",
              "0   ham  Go until jurong point, crazy.. Available only ...     111\n",
              "1   ham                      Ok lar... Joking wif u oni...      29\n",
              "3   ham  U dun say so early hor... U c already then say...      49\n",
              "4   ham  Nah I don't think he goes to usf, he lives aro...      61\n",
              "6   ham  Even my brother is not like to speak with me. ...      77"
            ]
          },
          "metadata": {
            "tags": []
          },
          "execution_count": 30
        }
      ]
    },
    {
      "cell_type": "code",
      "metadata": {
        "colab": {
          "base_uri": "https://localhost:8080/"
        },
        "id": "Y9k-2snrBJxw",
        "outputId": "a39517db-8e13-45b9-dc02-2d33d92abed8"
      },
      "source": [
        "ham_dataframe[\"length\"].describe()"
      ],
      "execution_count": null,
      "outputs": [
        {
          "output_type": "execute_result",
          "data": {
            "text/plain": [
              "count    4825.000000\n",
              "mean       71.482487\n",
              "std        58.440652\n",
              "min         2.000000\n",
              "25%        33.000000\n",
              "50%        52.000000\n",
              "75%        93.000000\n",
              "max       910.000000\n",
              "Name: length, dtype: float64"
            ]
          },
          "metadata": {
            "tags": []
          },
          "execution_count": 31
        }
      ]
    },
    {
      "cell_type": "code",
      "metadata": {
        "colab": {
          "base_uri": "https://localhost:8080/"
        },
        "id": "FzJnW305BJxx",
        "outputId": "e9eb1d13-8080-4324-8deb-f00c8c7fc2fc"
      },
      "source": [
        "spam_dataframe[\"length\"].describe()"
      ],
      "execution_count": null,
      "outputs": [
        {
          "output_type": "execute_result",
          "data": {
            "text/plain": [
              "count    747.000000\n",
              "mean     138.670683\n",
              "std       28.873603\n",
              "min       13.000000\n",
              "25%      133.000000\n",
              "50%      149.000000\n",
              "75%      157.000000\n",
              "max      223.000000\n",
              "Name: length, dtype: float64"
            ]
          },
          "metadata": {
            "tags": []
          },
          "execution_count": 16
        }
      ]
    },
    {
      "cell_type": "markdown",
      "metadata": {
        "id": "-AA1jinGBJxx"
      },
      "source": [
        "From the data we can see that the mean ham text message is 71 characters long versus 138 characters for spam. But the maximum ham text message is 910 charcaters long. This could be an outlier with lots of unused spaces. The maximum text message size for spam is 223 characters. There's a larger spread of SD values for **ham** versus **spam**. We could argue therefore that the number of characters in a spam message are closer to the mean expected value than ham messages which shows a wider spread of values. This could indicate that spam text messages contain similar numbers of characters in a text message."
      ]
    },
    {
      "cell_type": "markdown",
      "metadata": {
        "id": "aZ1RSQW9BJxy"
      },
      "source": [
        "We can look at this problem in more detail. We'll use the `matplotlib` library to do this and we'll plot this data on a logarithmic x-axis. See this link for an explanation of the benefits in using a log scale to plot our data https://www.forbes.com/sites/naomirobbins/2012/01/19/when-should-i-use-logarithmic-scales-in-my-charts-and-graphs/#58efc4eb5e67. We'll use the log scale to show the percentage change or multiplicative factors in the length of each text message.\n",
        "\n",
        "See https://matplotlib.org/ for further information on how to manipulate settings for your charts."
      ]
    },
    {
      "cell_type": "code",
      "metadata": {
        "colab": {
          "base_uri": "https://localhost:8080/",
          "height": 283
        },
        "id": "MJjthn4SBJxy",
        "outputId": "6f9525c7-3c04-4008-e364-023dbe5ed527"
      },
      "source": [
        "import matplotlib.pyplot as mat_plot_lib\n",
        "# Enable the inline backend for usage with the IPython Notebook\n",
        "%matplotlib inline\n",
        "\n",
        "mat_plot_lib.xscale('log')\n",
        "mat_plot_lib.xlabel('% change in text message length')\n",
        "mat_plot_lib.ylabel('No of messages')\n",
        "bins = 1.15**(np.arange(0,50))\n",
        "mat_plot_lib.hist(dataframe[dataframe['label']=='ham']['length'],bins=bins,alpha=0.9)\n",
        "mat_plot_lib.hist(dataframe[dataframe['label']=='spam']['length'],bins=bins,alpha=0.9)\n",
        "mat_plot_lib.legend(('ham','spam'))\n",
        "mat_plot_lib.show()"
      ],
      "execution_count": null,
      "outputs": [
        {
          "output_type": "display_data",
          "data": {
            "image/png": "[encoded data removed]",
            "text/plain": [
              "<Figure size 432x288 with 1 Axes>"
            ]
          },
          "metadata": {
            "tags": [],
            "needs_background": "light"
          }
        }
      ]
    },
    {
      "cell_type": "markdown",
      "metadata": {
        "id": "Pj0ZfAqQBJxz"
      },
      "source": [
        "There's generally a lot more text in a **SPAM** message versus a **HAM** message. This is typical of a text message. A person may send a few words of text in a genuine text message, whereas a **SPAM** message is going to contain a lot more text since it has more information to give to the text reader.\n",
        "\n",
        "There's a small range of message lengths where a message could be categorised as **SPAM** rather than **HAM**. "
      ]
    },
    {
      "cell_type": "markdown",
      "metadata": {
        "id": "-zX6oeCUBJx0"
      },
      "source": [
        "This will not be good enough to help us distinguish **HAM** from **SPAM**. \n",
        "\n",
        "What about the number of punctuation marks in a text message? Could that help? Lets add the `punct` data to the data frame using what we already know about the `NLP` library."
      ]
    },
    {
      "cell_type": "code",
      "metadata": {
        "id": "p8xFjEhKBJx0"
      },
      "source": [
        "import spacy\n",
        "nlp = spacy.load('en_core_web_sm')"
      ],
      "execution_count": null,
      "outputs": []
    },
    {
      "cell_type": "code",
      "metadata": {
        "id": "VP5QM0pQBJx0"
      },
      "source": [
        "# Define variables first\n",
        "punct_length_col = []\n",
        "punct_count = 0\n",
        "\n",
        "for index, textrow in dataframe.iterrows():\n",
        "    doc_object = nlp(textrow.message)\n",
        "    for word in doc_object:\n",
        "        if word.pos_ == 'PUNCT':           \n",
        "            punct_count += 1\n",
        "    # Sentence is checked so add count to list\n",
        "    punct_length_col.append(punct_count)\n",
        "    punct_count =0   "
      ],
      "execution_count": null,
      "outputs": []
    },
    {
      "cell_type": "markdown",
      "metadata": {
        "id": "gSsnjeQTBJx1"
      },
      "source": [
        "It is important to ensure that the list we're going to insert into the text dataframe contaisn the same number of rows. Otherwise we'll get an error."
      ]
    },
    {
      "cell_type": "code",
      "metadata": {
        "colab": {
          "base_uri": "https://localhost:8080/"
        },
        "id": "ga_xGR_BBJx2",
        "outputId": "640c859d-ca1b-4fe6-b7bb-d5adac4737ca"
      },
      "source": [
        "# Check list contains same number of items as dataframe row count\n",
        "print(len(punct_length_col))\n",
        "print(len(dataframe))"
      ],
      "execution_count": null,
      "outputs": [
        {
          "output_type": "stream",
          "text": [
            "5572\n",
            "5572\n"
          ],
          "name": "stdout"
        }
      ]
    },
    {
      "cell_type": "code",
      "metadata": {
        "id": "TR1bK-4GBJx2"
      },
      "source": [
        "#Add punct list to dataframe\n",
        "dataframe['punct'] = punct_length_col"
      ],
      "execution_count": null,
      "outputs": []
    },
    {
      "cell_type": "code",
      "metadata": {
        "colab": {
          "base_uri": "https://localhost:8080/",
          "height": 204
        },
        "id": "xxpf4FYaBJx2",
        "outputId": "e658a059-23f0-4bbe-affe-ee2e611b18e2"
      },
      "source": [
        "# View top of dataframe content\n",
        "dataframe.head()"
      ],
      "execution_count": null,
      "outputs": [
        {
          "output_type": "execute_result",
          "data": {
            "text/html": [
              "<div>\n",
              "<style scoped>\n",
              "    .dataframe tbody tr th:only-of-type {\n",
              "        vertical-align: middle;\n",
              "    }\n",
              "\n",
              "    .dataframe tbody tr th {\n",
              "        vertical-align: top;\n",
              "    }\n",
              "\n",
              "    .dataframe thead th {\n",
              "        text-align: right;\n",
              "    }\n",
              "</style>\n",
              "<table border=\"1\" class=\"dataframe\">\n",
              "  <thead>\n",
              "    <tr style=\"text-align: right;\">\n",
              "      <th></th>\n",
              "      <th>label</th>\n",
              "      <th>message</th>\n",
              "      <th>length</th>\n",
              "      <th>punct</th>\n",
              "    </tr>\n",
              "  </thead>\n",
              "  <tbody>\n",
              "    <tr>\n",
              "      <th>0</th>\n",
              "      <td>ham</td>\n",
              "      <td>Go until jurong point, crazy.. Available only ...</td>\n",
              "      <td>111</td>\n",
              "      <td>4</td>\n",
              "    </tr>\n",
              "    <tr>\n",
              "      <th>1</th>\n",
              "      <td>ham</td>\n",
              "      <td>Ok lar... Joking wif u oni...</td>\n",
              "      <td>29</td>\n",
              "      <td>2</td>\n",
              "    </tr>\n",
              "    <tr>\n",
              "      <th>2</th>\n",
              "      <td>spam</td>\n",
              "      <td>Free entry in 2 a wkly comp to win FA Cup fina...</td>\n",
              "      <td>155</td>\n",
              "      <td>1</td>\n",
              "    </tr>\n",
              "    <tr>\n",
              "      <th>3</th>\n",
              "      <td>ham</td>\n",
              "      <td>U dun say so early hor... U c already then say...</td>\n",
              "      <td>49</td>\n",
              "      <td>2</td>\n",
              "    </tr>\n",
              "    <tr>\n",
              "      <th>4</th>\n",
              "      <td>ham</td>\n",
              "      <td>Nah I don't think he goes to usf, he lives aro...</td>\n",
              "      <td>61</td>\n",
              "      <td>1</td>\n",
              "    </tr>\n",
              "  </tbody>\n",
              "</table>\n",
              "</div>"
            ],
            "text/plain": [
              "  label                                            message  length  punct\n",
              "0   ham  Go until jurong point, crazy.. Available only ...     111      4\n",
              "1   ham                      Ok lar... Joking wif u oni...      29      2\n",
              "2  spam  Free entry in 2 a wkly comp to win FA Cup fina...     155      1\n",
              "3   ham  U dun say so early hor... U c already then say...      49      2\n",
              "4   ham  Nah I don't think he goes to usf, he lives aro...      61      1"
            ]
          },
          "metadata": {
            "tags": []
          },
          "execution_count": 23
        }
      ]
    },
    {
      "cell_type": "markdown",
      "metadata": {
        "id": "j5LBNyFPBJx3"
      },
      "source": [
        "Let's examine some desxcriptive statistics of the punctuation data."
      ]
    },
    {
      "cell_type": "code",
      "metadata": {
        "colab": {
          "base_uri": "https://localhost:8080/"
        },
        "id": "CjCSg49-BJx3",
        "outputId": "ae2cffd3-9dec-40ab-9c13-848061530f79"
      },
      "source": [
        "dataframe[\"punct\"].describe()"
      ],
      "execution_count": null,
      "outputs": [
        {
          "output_type": "execute_result",
          "data": {
            "text/plain": [
              "count    5572.000000\n",
              "mean        2.510230\n",
              "std         2.690404\n",
              "min         0.000000\n",
              "25%         1.000000\n",
              "50%         2.000000\n",
              "75%         3.000000\n",
              "max        56.000000\n",
              "Name: punct, dtype: float64"
            ]
          },
          "metadata": {
            "tags": []
          },
          "execution_count": 24
        }
      ]
    },
    {
      "cell_type": "markdown",
      "metadata": {
        "id": "9vl1hm4SBJx4"
      },
      "source": [
        "We can see that the data is also skewed. The mean punctuations in a text message is 2. The maximum number of punctuations in a text is 58. People use punctuations in text differently. Some may use it for emoji constructions such as :-).\n",
        "\n",
        "Lets see what the spread of punctuations are across either ham or spam text messages."
      ]
    },
    {
      "cell_type": "markdown",
      "metadata": {
        "id": "7biuWLg3BJx4"
      },
      "source": [
        "Let's examine the spread of punctuation using a log chart."
      ]
    },
    {
      "cell_type": "code",
      "metadata": {
        "colab": {
          "base_uri": "https://localhost:8080/",
          "height": 283
        },
        "id": "IUY7fUIGBJx4",
        "outputId": "d49372da-880f-4e00-e431-6705b727c8f0"
      },
      "source": [
        "mat_plot_lib.xscale('log')\n",
        "mat_plot_lib.xlabel('% change in text message punctuation')\n",
        "mat_plot_lib.ylabel('No of messages')\n",
        "bins = 1.5**(np.arange(0,15))\n",
        "mat_plot_lib.hist(dataframe[dataframe['label']=='ham']['punct'],bins=bins,alpha=0.9)\n",
        "mat_plot_lib.hist(dataframe[dataframe['label']=='spam']['punct'],bins=bins,alpha=0.9)\n",
        "mat_plot_lib.legend(('ham','spam'))\n",
        "mat_plot_lib.show()"
      ],
      "execution_count": null,
      "outputs": [
        {
          "output_type": "display_data",
          "data": {
            "image/png": "[encoded data removed]",
            "text/plain": [
              "<Figure size 432x288 with 1 Axes>"
            ]
          },
          "metadata": {
            "tags": [],
            "needs_background": "light"
          }
        }
      ]
    },
    {
      "cell_type": "markdown",
      "metadata": {
        "id": "DlfSdrMABJx5"
      },
      "source": [
        "There could be enough difference between text length in **SPAM** texts versus **HAM** ones to uniquely identify one against the other, but there is not as distinct difference between the number of punctuations in **HAM** messages compared to **SPAM**.\n",
        "\n",
        "We'll now create a ML model using `scikit learn`. In the next lecture we'll use the text content to build a more accurate ML model.\n",
        " "
      ]
    }
  ]
}